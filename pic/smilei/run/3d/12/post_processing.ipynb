{
 "cells": [
  {
   "cell_type": "markdown",
   "metadata": {},
   "source": [
    "# Solar wind interaction with Lunar magnetic anomalies"
   ]
  },
  {
   "cell_type": "markdown",
   "metadata": {},
   "source": [
    "## Set up environment and configure setting"
   ]
  },
  {
   "cell_type": "code",
   "execution_count": 29,
   "metadata": {},
   "outputs": [
    {
     "name": "stdout",
     "output_type": "stream",
     "text": [
      "ACTIVE JOBS--------------------\n",
      "JOBNAME            USERNAME      STATE  PROC   REMAINING            STARTTIME\n",
      "\n",
      "2546                   yfwu    Running    40    INFINITY  Mon Apr  4 01:56:53\n",
      "2547                   yfwu    Running    40    INFINITY  Tue Apr  5 00:16:05\n",
      "2529                   xtao    Running   288    INFINITY  Sat Mar 26 23:49:40\n",
      "\n",
      "     3 Active Jobs     368 of  384 Processors Active (95.83%)\n",
      "                         8 of    8 Nodes Active      (100.00%)\n",
      "\n",
      "IDLE JOBS----------------------\n",
      "JOBNAME            USERNAME      STATE  PROC     WCLIMIT            QUEUETIME\n",
      "\n",
      "2548                   yfwu       Idle    40    INFINITY  Wed Mar 30 10:16:05\n",
      "2549                   yfwu       Idle    40    INFINITY  Wed Mar 30 10:16:05\n",
      "2550                   yfwu       Idle    40    INFINITY  Wed Mar 30 10:16:05\n",
      "2551                   yfwu       Idle    40    INFINITY  Wed Mar 30 10:16:07\n",
      "2553                 scteng       Idle   192    INFINITY  Wed Mar 30 20:41:15\n",
      "\n",
      "5 Idle Jobs\n",
      "\n",
      "BLOCKED JOBS----------------\n",
      "JOBNAME            USERNAME      STATE  PROC     WCLIMIT            QUEUETIME\n",
      "\n",
      "\n",
      "Total Jobs: 8   Active Jobs: 3   Idle Jobs: 5   Blocked Jobs: 0\n"
     ]
    }
   ],
   "source": [
    "#Smilei job\n",
    "# ! qdel 2538\n",
    "# ! spack env activate smilei-oneapi && $HOME/Smilei/build/smilei-oneapi/smilei test.py\n",
    "# ! qsub $HOME/pic/zijin_oneapi.pbs -V \n",
    "! showq && qstat"
   ]
  },
  {
   "cell_type": "code",
   "execution_count": 30,
   "metadata": {},
   "outputs": [],
   "source": [
    "import happi\n",
    "import numpy as np\n",
    "import yt\n",
    "import xarray as xr\n",
    "import hvplot.xarray  # noqa\n",
    "from _utils import *\n",
    "from icecream import ic\n",
    "from parameters import *\n",
    "\n",
    "yt.set_log_level(40)"
   ]
  },
  {
   "cell_type": "markdown",
   "metadata": {},
   "source": [
    "### Set metadata"
   ]
  },
  {
   "cell_type": "code",
   "execution_count": 31,
   "metadata": {},
   "outputs": [],
   "source": [
    "# Set fields metadata: Ex Ey Ez Bx By Bz Bx_m By_m Bz_m Jx Jy Jz Rho Jx_solar_ion Jy_solar_ion Jz_solar_ion Rho_solar_ion Jx_solar_electron Jy_solar_electron Jz_solar_electron Rho_solar_electron\n",
    "rho_fields_yt = [\"Rho_solar_electron\", \"Rho_solar_ion\"]\n",
    "rho_fields_smilei = [\"-Rho_solar_electron\", \"Rho_solar_ion\"]\n",
    "rho_units = [\"dimensionless\"] * 2  # rho_units = ['kg/m**3', 'kg/m**3']\n",
    "rho_labels = [r\"$\\rho_{solar-electron}$\", r\"$\\rho_{solar-ion}$\"]\n",
    "\n",
    "B_fields_yt = [\"magnetic_field_x\", \"magnetic_field_y\", \"magnetic_field_z\"]\n",
    "B_fields_smilei = [\"Bx\", \"By\", \"Bz\"]\n",
    "B_units = [\"dimensionless\"] * dimensions\n",
    "B_labels = [r\"$B_{x}$\", r\"$B_{y}$\", r\"$B_{z}$\"]\n",
    "\n",
    "E_fields_yt = [\"electric_field_x\", \"electric_field_y\", \"electric_field_z\"]\n",
    "E_fields_smilei = [\"Ex\", \"Ey\", \"Ez\"]\n",
    "# E_units = [E_r, E_r, E_r]\n",
    "E_units = [\"dimensionless\"] * dimensions\n",
    "E_labels = [r\"$E_{x}$\", r\"$E_{y}$\", r\"$E_{z}$\"]\n",
    "\n",
    "\n",
    "fields_smilei = [*B_fields_smilei, *E_fields_smilei, *rho_fields_smilei]\n",
    "fields_yt = [*B_fields_yt, *E_fields_yt, *rho_fields_yt]\n",
    "fields_units = [*B_units, *E_units, *rho_units]\n"
   ]
  },
  {
   "cell_type": "markdown",
   "metadata": {},
   "source": [
    "### class `SmileiPostProcessing`"
   ]
  },
  {
   "cell_type": "code",
   "execution_count": 32,
   "metadata": {},
   "outputs": [],
   "source": [
    "SPP = SmileiPostProcessing(\n",
    "    fields_smilei=fields_smilei,\n",
    "    fields_yt=fields_yt,\n",
    "    fields_units=fields_units,\n",
    ")\n",
    "S= SPP.SmileiSimulation\n",
    "# SPP.print_simulation()\n",
    "\n",
    "bbox = [\n",
    "    [0, grid_length[0]],\n",
    "    [-grid_length[1] / 2, grid_length[1] / 2],\n",
    "    [-grid_length[2] / 2, grid_length[2] / 2],\n",
    "] * L_r\n",
    "timesteps = S.Field(0, fields_smilei[0]).getTimesteps().astype(int)"
   ]
  },
  {
   "cell_type": "code",
   "execution_count": 33,
   "metadata": {},
   "outputs": [],
   "source": [
    "def TrackParticles(S):\n",
    "    '''\n",
    "    >>> TrackParticles(S)\n",
    "    '''\n",
    "    track={}\n",
    "    for species in S.namelist.Species:  \n",
    "        track[species.name] = S.TrackParticles(species =species.name,axes = [\"x\",\"y\",\"z\",\"px\",\"py\",\"pz\",\"Id\"])\n",
    "        # track[species].plot()\n",
    "    pass\n",
    "    # track[species.name] = S.TrackParticles(species =species.name,axes = [\"x\",\"px\"])\n",
    "\n",
    "# Diag = S.TrackParticles(species=\"solar_electron\", select=[1, 2, 3], axes=[\"x\",\"px\"])\n",
    "# select = \"any(t>0, (x>\" + str(1/2*grid_length[0]-2*cell_length[0]) + \")*(x<\" + str(1/2*grid_length[0]+2*cell_length[0]) + \"))\"\n",
    "# Diag = S.TrackParticles(species=\"solar_electron\", select= select, axes=[\"x\",\"px\"])\n",
    "# data=Diag.getData()"
   ]
  },
  {
   "cell_type": "markdown",
   "metadata": {},
   "source": [
    "## Set up `yt`"
   ]
  },
  {
   "cell_type": "code",
   "execution_count": 34,
   "metadata": {},
   "outputs": [],
   "source": [
    "from yt import derived_field\n",
    "from unyt.dimensions import length\n",
    "from unyt import m"
   ]
  },
  {
   "cell_type": "markdown",
   "metadata": {},
   "source": [
    "### Set derived_field"
   ]
  },
  {
   "cell_type": "code",
   "execution_count": 35,
   "metadata": {},
   "outputs": [],
   "source": [
    "@derived_field(\n",
    "    name=(\"stream\", \"magnetic_field_strength\"),\n",
    "    units=\"dimensionless\",\n",
    "    sampling_type=\"cell\",\n",
    ")\n",
    "def _magnetic_field_strength(field, data):\n",
    "    return np.sqrt(\n",
    "        data[\"stream\", \"magnetic_field_x\"] ** 2\n",
    "        + data[\"stream\", \"magnetic_field_y\"] ** 2\n",
    "        + data[\"stream\", \"magnetic_field_z\"] ** 2\n",
    "    )\n",
    "\n",
    "@derived_field(\n",
    "    name=(\"stream\", \"electric_field_strength\"),\n",
    "    units=\"dimensionless\",\n",
    "    sampling_type=\"cell\",\n",
    ")\n",
    "def _magnetic_field_strength(field, data):\n",
    "    return np.sqrt(\n",
    "        data[\"stream\", \"electric_field_x\"] ** 2\n",
    "        + data[\"stream\", \"electric_field_y\"] ** 2\n",
    "        + data[\"stream\", \"electric_field_z\"] ** 2\n",
    "    )\n"
   ]
  },
  {
   "cell_type": "markdown",
   "metadata": {},
   "source": [
    "### Load data"
   ]
  },
  {
   "cell_type": "code",
   "execution_count": 36,
   "metadata": {},
   "outputs": [],
   "source": [
    "def getData(timestep):\n",
    "    data = {}\n",
    "    for field_yt, field_smilei in zip(fields_yt, fields_smilei):\n",
    "        data[field_yt] = S.Field(0, field_smilei).getData(timestep=timestep)[0]\n",
    "    domain_dimensions = data[fields_yt[0]].shape\n",
    "    data = {k: (v, u) for (k, v), u in zip(data.items(), fields_units)}\n",
    "    ds = yt.load_uniform_grid(\n",
    "        data,\n",
    "        domain_dimensions,\n",
    "        length_unit=\"m\",\n",
    "        bbox=bbox,\n",
    "        nprocs=24,\n",
    "        sim_time=timestep,\n",
    "        periodicity=(False, False, False),\n",
    "        unit_system=\"mks\",\n",
    "    )\n",
    "    ds.timestep = timestep\n",
    "    ds.unit_registry.add(\"d_i\", float(d_i), length, tex_repr=\"d_i\")\n",
    "    return ds\n"
   ]
  },
  {
   "cell_type": "markdown",
   "metadata": {},
   "source": [
    "## Plot Fields"
   ]
  },
  {
   "cell_type": "markdown",
   "metadata": {},
   "source": [
    "### Plot 2-D species density profiles\n",
    "\n",
    "Two-dimensional (top) electron and (bottom) ion charge density profiles, scaled to the initial density, $n_{sw}$ ,and along the dipole axis (Y direction) at z = 0 after the simulation has reached quasi-steady state. The solar wind is flowing perpendicular (in the −X direction) to the lunar surface. Superimposed in black are magnetic field lines."
   ]
  },
  {
   "cell_type": "code",
   "execution_count": 37,
   "metadata": {},
   "outputs": [],
   "source": [
    "def plot_density_profile_2D_yt(ds, axis=\"z\"):\n",
    "    slc = yt.SlicePlot(\n",
    "        ds, axis, [(\"stream\", field) for field in rho_fields_yt], origin=\"native\"\n",
    "    )\n",
    "    slc.set_axes_unit(\"d_i\")\n",
    "    slc.annotate_timestamp()\n",
    "    for field, label in zip(rho_fields_yt, rho_labels):\n",
    "        slc.set_colorbar_label((\"stream\", field), label)\n",
    "        slc.set_log((\"stream\", field), False)\n",
    "        slc.set_cmap((\"stream\", field), \"doom_r\")\n",
    "    if axis == \"y\":\n",
    "        fig = slc.export_to_mpl_figure((2, 1))\n",
    "    else:\n",
    "        fig = slc.export_to_mpl_figure((1, 2))\n",
    "\n",
    "    fig.tight_layout()\n",
    "    fig.savefig(\n",
    "        \"figures/\"\n",
    "        + \"rho/yt_rho_\"\n",
    "        + axis\n",
    "        + \"_\"\n",
    "        + str(ds.timestep).zfill(10)\n",
    "    )\n",
    "    return fig\n"
   ]
  },
  {
   "cell_type": "code",
   "execution_count": 38,
   "metadata": {},
   "outputs": [],
   "source": [
    "def plot_density_profile_2D_happi():\n",
    "    def rho_transform(rho):\n",
    "        return rho / S.namelist.n_solar\n",
    "\n",
    "    # subset\n",
    "    Rho_solar_electron_z0 = S.Field(\n",
    "        0,\n",
    "        \"-Rho_solar_electron\",\n",
    "        subset={\"z\": grid_length[2] / 2},\n",
    "        data_transform=rho_transform,\n",
    "        title=r\"$\\rho_{solar-electron}$\",\n",
    "    )\n",
    "    Rho_solar_ion_z0 = S.Field(\n",
    "        0,\n",
    "        \"Rho_solar_ion\",\n",
    "        subset={\"z\": grid_length[2] / 2},\n",
    "        data_transform=rho_transform,\n",
    "        title=r\"$\\rho_{solar-ion}$\",\n",
    "    )\n",
    "    happi.multiPlot(\n",
    "        Rho_solar_electron_z0,\n",
    "        Rho_solar_ion_z0,\n",
    "        shape=[1, 2],\n",
    "        saveAs=\"figures/rho/rho_sub_\",\n",
    "    )\n",
    "    # average\n",
    "    Rho_solar_electron_z0 = S.Field(\n",
    "        0,\n",
    "        \"-Rho_solar_electron\",\n",
    "        average={\"z\": \"all\"},\n",
    "        data_transform=rho_transform,\n",
    "        title=r\"$\\rho_{solar-electron}$\",\n",
    "    )\n",
    "    Rho_solar_ion_z0 = S.Field(\n",
    "        0,\n",
    "        \"Rho_solar_ion\",\n",
    "        average={\"z\": \"all\"},\n",
    "        data_transform=rho_transform,\n",
    "        title=r\"$\\rho_{solar-ion}$\",\n",
    "    )\n",
    "    happi.multiPlot(\n",
    "        Rho_solar_electron_z0,\n",
    "        Rho_solar_ion_z0,\n",
    "        shape=[1, 2],\n",
    "        saveAs=\"figures/rho/rho_avg_\",\n",
    "    )\n"
   ]
  },
  {
   "cell_type": "markdown",
   "metadata": {},
   "source": [
    "### Plot 1-D species density profiles\n",
    "Profiles along the direction parallel to the solar wind flow and through the center of the dipole. The upper panel presents the density profiles, normalized to the initial density $n_{sw}$. The remaining panels hold the magnetic and kinetic pressure profiles for the electron (middle) and ion (bottom) populations, in code units."
   ]
  },
  {
   "cell_type": "code",
   "execution_count": 39,
   "metadata": {},
   "outputs": [],
   "source": [
    "def plot_density_profile_1D_happi(timestep):\n",
    "    def rho_transform(rho):\n",
    "        return rho / S.namelist.n_solar\n",
    "\n",
    "    data = {}\n",
    "    for field, label in zip(rho_fields_smilei, rho_labels):\n",
    "        data[field] = S.Field(\n",
    "            0,\n",
    "            field,\n",
    "            timesteps=timestep,\n",
    "            label=label,\n",
    "            subset={\"z\": grid_length[2] / 2, \"y\": grid_length[2] / 2},\n",
    "            data_transform=rho_transform,\n",
    "            xlabel=r\"Distance above the surface ($d_i$)\",\n",
    "            xmin=grid_length[0],\n",
    "            xmax=0,\n",
    "            ylabel=r\"$\\rho$\",\n",
    "        )\n",
    "    return happi.multiPlot(\n",
    "        *[data[field] for field in rho_fields_smilei],\n",
    "        saveAs=\"figures/rho/rho_sub_1D_\"\n",
    "    )\n"
   ]
  },
  {
   "cell_type": "markdown",
   "metadata": {},
   "source": [
    "### Plot magnetic field"
   ]
  },
  {
   "cell_type": "code",
   "execution_count": 40,
   "metadata": {},
   "outputs": [],
   "source": [
    "def plot_mag_field_yt(ds, axis=\"z\"):\n",
    "    slc = yt.SlicePlot(\n",
    "        ds,\n",
    "        axis,\n",
    "        [(\"stream\", \"magnetic_field_strength\")]\n",
    "        + [(\"stream\", field) for field in B_fields_yt],\n",
    "        origin=\"native\",\n",
    "    )\n",
    "    slc.set_axes_unit(\"d_i\")\n",
    "    slc.set_colorbar_label((\"stream\", \"magnetic_field_strength\"), r\"$B_m$\")\n",
    "    for field, label in zip(B_fields_yt, B_labels):\n",
    "        slc.set_colorbar_label((\"stream\", field), label)\n",
    "        slc.set_log((\"stream\", field), False)\n",
    "    fig = slc.export_to_mpl_figure((2, 2))\n",
    "    fig.tight_layout()\n",
    "    fig.savefig(\"figures/B/yt_B_\" + str(ds.timestep).zfill(10))\n",
    "    return fig\n"
   ]
  },
  {
   "cell_type": "code",
   "execution_count": 41,
   "metadata": {},
   "outputs": [],
   "source": [
    "def plot_mag_field_happi():\n",
    "    B_0 = S.Field(0, \"(Bx**2+By**2+Bz**2)**0.5\", subset={\"z\": grid_length[2] / 2})\n",
    "    B_x0 = S.Field(0, \"Bx\", subset={\"z\": grid_length[2] / 2})\n",
    "    B_y0 = S.Field(0, \"By\", subset={\"z\": grid_length[2] / 2})\n",
    "    B_z0 = S.Field(0, \"Bz\", subset={\"z\": grid_length[2] / 2})\n",
    "    # figure(figsize=(12, 12))\n",
    "    happi.multiPlot(\n",
    "        B_0,\n",
    "        B_x0,\n",
    "        B_y0,\n",
    "        B_z0,\n",
    "        shape=[2, 2],\n",
    "        saveAs=\"figures/B/smilei_B__\",\n",
    "    )\n"
   ]
  },
  {
   "cell_type": "markdown",
   "metadata": {},
   "source": [
    "#### Plot magnetic field streamlines"
   ]
  },
  {
   "cell_type": "code",
   "execution_count": 42,
   "metadata": {},
   "outputs": [],
   "source": [
    "def plot_streamlines(ds):\n",
    "    import matplotlib.pyplot as plt\n",
    "    from mpl_toolkits.mplot3d import Axes3D\n",
    "    from yt.visualization.api import Streamlines\n",
    "\n",
    "    # Define c: the center of the box, N: the number of streamlines,\n",
    "    # scale: the spatial scale of the streamlines relative to the boxsize,\n",
    "    # and then pos: the random positions of the streamlines.\n",
    "    c = ds.domain_center\n",
    "    N = 100\n",
    "    scale = ds.domain_width[0]\n",
    "    pos_dx = np.random.random((N, 3)) * scale - scale / 2.0\n",
    "    pos = c + pos_dx\n",
    "\n",
    "    streamlines = Streamlines(\n",
    "        ds,\n",
    "        pos,\n",
    "        (\"stream\", \"Bx\"),\n",
    "        (\"stream\", \"By\"),\n",
    "        (\"stream\", \"Bz\"),\n",
    "    )\n",
    "    streamlines.integrate_through_volume()\n",
    "\n",
    "    # Create a 3D plot, trace the streamlines through the 3D volume of the plot\n",
    "    fig = plt.figure()\n",
    "    ax = Axes3D(fig, auto_add_to_figure=False)\n",
    "    fig.add_axes(ax)\n",
    "    for stream in streamlines.streamlines:\n",
    "        stream = stream[np.all(stream != 0.0, axis=1)]\n",
    "        ax.plot3D(stream[:, 0], stream[:, 1], stream[:, 2])\n",
    "\n",
    "    # Save the plot to disk.\n",
    "    plt.savefig(\"streamlines.png\")\n"
   ]
  },
  {
   "cell_type": "markdown",
   "metadata": {},
   "source": [
    "### Plot electric field"
   ]
  },
  {
   "cell_type": "code",
   "execution_count": 43,
   "metadata": {},
   "outputs": [],
   "source": [
    "def plot_electric_field_yt(ds, axis=\"z\"):\n",
    "    slc = yt.SlicePlot(\n",
    "        ds, axis, [(\"stream\", \"electric_field_strength\")]+ [(\"stream\", field) for field in E_fields_yt], origin=\"native\"\n",
    "    )\n",
    "    slc.set_axes_unit(\"d_i\")\n",
    "    for field, label in zip(E_fields_yt, E_labels):\n",
    "        slc.set_colorbar_label((\"stream\", field), label)\n",
    "        slc.set_log((\"stream\", field), False)\n",
    "    fig = slc.export_to_mpl_figure((2, 2))\n",
    "    fig.tight_layout()\n",
    "    fig.savefig(\"figures/E/yt_E_\" + str(ds.timestep).zfill(10))\n",
    "    return fig\n"
   ]
  },
  {
   "cell_type": "markdown",
   "metadata": {},
   "source": [
    "## Plot gyroradius"
   ]
  },
  {
   "cell_type": "code",
   "execution_count": 44,
   "metadata": {},
   "outputs": [],
   "source": [
    "from astropy import units as u\n",
    "from astropy.constants import m_e\n",
    "from plasmapy.formulary import gyroradius\n",
    "from plasmapy.particles import Particle, CustomParticle\n",
    "\n",
    "electron = Particle(\"e-\")\n",
    "\n",
    "def plot_gyroradii_1D(timestep):\n",
    "    pxx = S.ParticleBinning(\"pxx\", sum={\"x\": \"all\", \"y\": \"all\"})\n",
    "    pyy = S.ParticleBinning(\"pyy\", sum={\"x\": \"all\", \"y\": \"all\"})\n",
    "    v_perp = 0.0\n",
    "    m = 0.0\n",
    "    q = 0.0\n",
    "    B = 0.0\n",
    "\n",
    "    r_g_solar_electron = gyroradius(B, electron, v_perp)\n",
    "    r_g_solar_ion = gyroradius(B, ion, v_perp)\n",
    "    pass\n"
   ]
  },
  {
   "cell_type": "markdown",
   "metadata": {},
   "source": [
    "## Plot plasma beta"
   ]
  },
  {
   "cell_type": "code",
   "execution_count": 45,
   "metadata": {},
   "outputs": [],
   "source": [
    "from astropy import units as u\n",
    "from plasmapy.formulary import beta\n",
    "\n",
    "\n",
    "def plot_beta_1D(timestep):\n",
    "    \"\"\"\n",
    "    Plot the\n",
    "    \"\"\"\n",
    "    T = u.K\n",
    "    n = u.m**-3\n",
    "    B = u.T\n",
    "    beta(T, n, B)\n",
    "    pass\n"
   ]
  },
  {
   "cell_type": "markdown",
   "metadata": {},
   "source": [
    "## Plot velocity distribution"
   ]
  },
  {
   "cell_type": "code",
   "execution_count": 46,
   "metadata": {},
   "outputs": [],
   "source": [
    "def plot_electric_drift_1D(timestep):\n",
    "    pass\n",
    "\n",
    "\n",
    "def plot_magnetic_drift_1D(timestep):\n",
    "    pass\n"
   ]
  },
  {
   "cell_type": "code",
   "execution_count": 47,
   "metadata": {},
   "outputs": [],
   "source": [
    "def plot_particle_distribution_vx_vy_vz_happi(timestep=0, center=0):\n",
    "    ''' use `happi` to visualize particle distribution\n",
    "    >>> plot_particle_distribution_x_vx_vy_vz_happi()\n",
    "    '''\n",
    "    Nt = S.ParticleBinning(0).getTimesteps()[-1] # the last timestep\n",
    "    diag_numbers = S.getDiags(\"ParticleBinning\")[0][-1]+1\n",
    "    # diag_numbers = 1\n",
    "    for diag in range(diag_numbers):\n",
    "        f_initial = S.ParticleBinning(diag, data_log= True, timesteps=0, sum = {\"x\": \"all\", \"y\" : \"all\", \"z\" : \"all\"})\n",
    "        # f_final   = S.ParticleBinning(diag, data_log= True, timesteps=Nt, sum = {\"x\": \"all\",\"y\" : \"all\", \"z\" : \"all\"})\n",
    "        # f_initial.plot(xmin=-0.025, xmax=0.025)\n",
    "        # f_final.plot(xmin=-0.025, xmax=0.025)\n",
    "        # happi.multiPlot(f_initial, f_final, saveas='figures/DiagParticleBinning')\n",
    "        f_initial.plot()\n",
    "        # f_final.plot()\n",
    "    pass\n",
    "\n",
    "# plot_particle_distribution_vx_vy_vz_happi()\n"
   ]
  },
  {
   "cell_type": "code",
   "execution_count": 24,
   "metadata": {},
   "outputs": [],
   "source": [
    "import numpy as np\n",
    "import pandas as pd\n",
    "import xarray as xr\n",
    "\n",
    "def plot_particle_distribution_x_vx_vy_vz_happi(timestep=None):\n",
    "    ''' use `happi` to visualize particle distribution\n",
    "    >>> plot_particle_distribution_x_vx_vy_vz_happi()\n",
    "    '''\n",
    "    Nt = S.ParticleBinning(0).getTimesteps()[-1] # the last timestep\n",
    "    \n",
    "    diag_numbers = len(S._diag_numbers[\"ParticleBinning\"])\n",
    "    # diag_numbers = 1\n",
    "    for diag in range(diag_numbers):\n",
    "        f_initial = S.ParticleBinning(diag, data_log= True, timesteps=0 , label=\"initial\", sum = {\"y\" : \"all\", \"z\" : \"all\"})\n",
    "        f_initial.plot()\n",
    "        # f_final   = S.ParticleBinning(diag, data_log= True, timesteps=Nt, label=\"final\", sum = {\"y\" : \"all\", \"z\" : \"all\"})\n",
    "        # happi.multiPlot(f_initial, f_final, saveas='figures/DiagParticleBinning')\n",
    "        \n",
    "        # f_final.plot()\n",
    "    pass\n",
    "\n",
    "def plot_particle_distribution_x_vx_vy_vz_proplot(timestep=None):\n",
    "    '''use `xarray` and `proplot` to visualize particle distribution\n",
    "    >>> plot_particle_distribution_x_vx_vy_vz_proplot()\n",
    "    '''\n",
    "    Nt = S.ParticleBinning(0).getTimesteps()[-1] # the last timestep\n",
    "    diag_numbers = len(S._diag_numbers[\"ParticleBinning\"])\n",
    "\n",
    "    ds = xr.Dataset()\n",
    "    ds[\"solar_electron_vx\"]=((\"timestep\",\"x\",\"vx\"), S.ParticleBinning(0,sum = {\"y\" : \"all\", \"z\" : \"all\"}).getData())\n",
    "    ds[\"solar_electron_vy\"]=((\"timestep\",\"x\",\"vy\"), S.ParticleBinning(1,sum = {\"y\" : \"all\", \"z\" : \"all\"}).getData())\n",
    "    ds[\"solar_electron_vz\"]=((\"timestep\",\"x\",\"vz\"), S.ParticleBinning(2,sum = {\"y\" : \"all\", \"z\" : \"all\"}).getData())\n",
    "    ds[\"solar_proton_vx\"]=((\"timestep\",\"x\",\"vx\"), S.ParticleBinning(3,sum = {\"y\" : \"all\", \"z\" : \"all\"}).getData())\n",
    "    ds[\"solar_proton_vy\"]=((\"timestep\",\"x\",\"vy\"), S.ParticleBinning(4,sum = {\"y\" : \"all\", \"z\" : \"all\"}).getData())\n",
    "    ds[\"solar_proton_vz\"]=((\"timestep\",\"x\",\"vz\"), S.ParticleBinning(5,sum = {\"y\" : \"all\", \"z\" : \"all\"}).getData())\n",
    "    # ic(ds.keys())\n",
    "    ds[\"solar_electron_vx\"].hvplot()\n",
    "    # with pplt.rc.context({'cmap': 'Grays', 'cmap.levels': 21}):\n",
    "    #     # Figure\n",
    "    #     fig = pplt.figure()\n",
    "    #     axes = fig.subplots(ncols=2, nrows=3)\n",
    "    #     for (k,v) in ds.items():    \n",
    "    #         v.plot(ax=axes[k])"
   ]
  },
  {
   "cell_type": "code",
   "execution_count": 29,
   "metadata": {},
   "outputs": [],
   "source": [
    "# plot_particle_distribution_x_vx_vy_vz_happi()\n",
    "plot_particle_distribution_x_vx_vy_vz_proplot()"
   ]
  },
  {
   "cell_type": "code",
   "execution_count": 27,
   "metadata": {},
   "outputs": [
    {
     "data": {},
     "metadata": {},
     "output_type": "display_data"
    },
    {
     "data": {
      "application/vnd.holoviews_exec.v0+json": "",
      "text/html": [
       "<div id='1002'>\n",
       "\n",
       "\n",
       "\n",
       "\n",
       "\n",
       "  <div class=\"bk-root\" id=\"99559250-d6af-452f-89f6-014697eee0bf\" data-root-id=\"1002\"></div>\n",
       "</div>\n",
       "<script type=\"application/javascript\">(function(root) {\n",
       "  function embed_document(root) {\n",
       "    var docs_json = {\"4d28fd4b-d7e7-4db7-9ca2-a272b21a150d\":{\"defs\":[{\"extends\":null,\"module\":null,\"name\":\"ReactiveHTML1\",\"overrides\":[],\"properties\":[]},{\"extends\":null,\"module\":null,\"name\":\"FlexBox1\",\"overrides\":[],\"properties\":[{\"default\":\"flex-start\",\"kind\":null,\"name\":\"align_content\"},{\"default\":\"flex-start\",\"kind\":null,\"name\":\"align_items\"},{\"default\":\"row\",\"kind\":null,\"name\":\"flex_direction\"},{\"default\":\"wrap\",\"kind\":null,\"name\":\"flex_wrap\"},{\"default\":\"flex-start\",\"kind\":null,\"name\":\"justify_content\"}]},{\"extends\":null,\"module\":null,\"name\":\"TemplateActions1\",\"overrides\":[],\"properties\":[{\"default\":0,\"kind\":null,\"name\":\"open_modal\"},{\"default\":0,\"kind\":null,\"name\":\"close_modal\"}]},{\"extends\":null,\"module\":null,\"name\":\"MaterialTemplateActions1\",\"overrides\":[],\"properties\":[{\"default\":0,\"kind\":null,\"name\":\"open_modal\"},{\"default\":0,\"kind\":null,\"name\":\"close_modal\"}]}],\"roots\":{\"references\":[{\"attributes\":{},\"id\":\"1026\",\"type\":\"WheelZoomTool\"},{\"attributes\":{\"tools\":[{\"id\":\"1006\"},{\"id\":\"1024\"},{\"id\":\"1025\"},{\"id\":\"1026\"},{\"id\":\"1027\"},{\"id\":\"1028\"}]},\"id\":\"1030\",\"type\":\"Toolbar\"},{\"attributes\":{},\"id\":\"1021\",\"type\":\"BasicTicker\"},{\"attributes\":{\"children\":[{\"id\":\"1003\"},{\"id\":\"1007\"},{\"id\":\"1154\"}],\"margin\":[0,0,0,0],\"name\":\"Row01814\",\"tags\":[\"embedded\"]},\"id\":\"1002\",\"type\":\"Row\"},{\"attributes\":{\"source\":{\"id\":\"1043\"}},\"id\":\"1050\",\"type\":\"CDSView\"},{\"attributes\":{},\"id\":\"1028\",\"type\":\"ResetTool\"},{\"attributes\":{\"end\":34118.00887548941,\"reset_end\":34118.00887548941,\"reset_start\":-1402.109953787236,\"start\":-1402.109953787236,\"tags\":[[[\"solar_electron_vx\",\"solar_electron_vx\",null]]]},\"id\":\"1004\",\"type\":\"Range1d\"},{\"attributes\":{\"coordinates\":null,\"group\":null,\"text_color\":\"black\",\"text_font_size\":\"12pt\"},\"id\":\"1008\",\"type\":\"Title\"},{\"attributes\":{\"bottom\":{\"value\":0},\"fill_alpha\":{\"value\":0.2},\"fill_color\":{\"value\":\"#30a2da\"},\"hatch_alpha\":{\"value\":0.2},\"hatch_color\":{\"value\":\"#30a2da\"},\"left\":{\"field\":\"left\"},\"line_alpha\":{\"value\":0.2},\"right\":{\"field\":\"right\"},\"top\":{\"field\":\"top\"}},\"id\":\"1048\",\"type\":\"Quad\"},{\"attributes\":{\"below\":[{\"id\":\"1016\"}],\"center\":[{\"id\":\"1019\"},{\"id\":\"1023\"},{\"id\":\"1061\"}],\"height\":300,\"left\":[{\"id\":\"1020\"}],\"margin\":[5,5,5,5],\"min_border_bottom\":10,\"min_border_left\":10,\"min_border_right\":10,\"min_border_top\":10,\"renderers\":[{\"id\":\"1049\"}],\"sizing_mode\":\"fixed\",\"title\":{\"id\":\"1008\"},\"toolbar\":{\"id\":\"1030\"},\"width\":700,\"x_range\":{\"id\":\"1004\"},\"x_scale\":{\"id\":\"1012\"},\"y_range\":{\"id\":\"1005\"},\"y_scale\":{\"id\":\"1014\"}},\"id\":\"1007\",\"subtype\":\"Figure\",\"type\":\"Plot\"},{\"attributes\":{\"coordinates\":null,\"data_source\":{\"id\":\"1043\"},\"glyph\":{\"id\":\"1046\"},\"group\":null,\"hover_glyph\":null,\"muted_glyph\":{\"id\":\"1048\"},\"nonselection_glyph\":{\"id\":\"1047\"},\"selection_glyph\":{\"id\":\"1063\"},\"view\":{\"id\":\"1050\"}},\"id\":\"1049\",\"type\":\"GlyphRenderer\"},{\"attributes\":{\"data\":{\"Element\":[\"solar_electron_vx\",\"solar_electron_vx\",\"solar_electron_vx\",\"solar_electron_vx\",\"solar_electron_vx\",\"solar_electron_vx\",\"solar_electron_vx\",\"solar_electron_vx\",\"solar_electron_vx\",\"solar_electron_vx\",\"solar_electron_vx\",\"solar_electron_vx\",\"solar_electron_vx\",\"solar_electron_vx\",\"solar_electron_vx\",\"solar_electron_vx\",\"solar_electron_vx\",\"solar_electron_vx\",\"solar_electron_vx\",\"solar_electron_vx\"],\"left\":{\"__ndarray__\":\"AAAAAAAAAACAtlgGLo+ZQIC2WAYuj6lA4IjChGIrs0CAtlgGLo+5QCDk7of58r9A4IjChGIrw0Cwn41FSF3GQIC2WAYuj8lAUM0jxxPBzEAg5O6H+fLPQHj9XKRvktFA4IjChGIr00BIFChlVcTUQLCfjUVIXdZAGCvzJTv210CAtlgGLo/ZQOhBvuYgKNtAUM0jxxPB3EC4WImnBlreQA==\",\"dtype\":\"float64\",\"order\":\"little\",\"shape\":[20]},\"right\":{\"__ndarray__\":\"gLZYBi6PmUCAtlgGLo+pQOCIwoRiK7NAgLZYBi6PuUAg5O6H+fK/QOCIwoRiK8NAsJ+NRUhdxkCAtlgGLo/JQFDNI8cTwcxAIOTuh/nyz0B4/Vykb5LRQOCIwoRiK9NASBQoZVXE1ECwn41FSF3WQBgr8yU79tdAgLZYBi6P2UDoQb7mICjbQFDNI8cTwdxAuFiJpwZa3kAg5O6H+fLfQA==\",\"dtype\":\"float64\",\"order\":\"little\",\"shape\":[20]},\"solar_electron_vx\":{\"__ndarray__\":\"gLZYBi6PiUDgiMKEYiujQCDk7of58q9AsJ+NRUhdtkBQzSPHE8G8QHj9XKRvksFASBQoZVXExEAYK/MlO/bHQOhBvuYgKMtAuFiJpwZazkDENyo09sXQQCzDjxTpXtJAlE719Nv300D82VrVzpDVQGRlwLXBKddAzPAllrTC2EA0fIt2p1vaQJwH8Vaa9NtABJNWN42N3UBsHrwXgCbfQA==\",\"dtype\":\"float64\",\"order\":\"little\",\"shape\":[20]},\"solar_electron_vx_count\":[63746,40,28,19,17,17,15,9,10,19,30,13,8,12,6,3,2,4,0,2],\"top\":[63746,40,28,19,17,17,15,9,10,19,30,13,8,12,6,3,2,4,0,2]},\"selected\":{\"id\":\"1044\"},\"selection_policy\":{\"id\":\"1058\"}},\"id\":\"1043\",\"type\":\"ColumnDataSource\"},{\"attributes\":{\"bottom\":{\"value\":0},\"fill_alpha\":{\"value\":0.1},\"fill_color\":{\"value\":\"#30a2da\"},\"hatch_alpha\":{\"value\":0.1},\"hatch_color\":{\"value\":\"#30a2da\"},\"left\":{\"field\":\"left\"},\"line_alpha\":{\"value\":0.1},\"right\":{\"field\":\"right\"},\"top\":{\"field\":\"top\"}},\"id\":\"1047\",\"type\":\"Quad\"},{\"attributes\":{},\"id\":\"1044\",\"type\":\"Selection\"},{\"attributes\":{\"axis_label\":\"solar_electron_vx\",\"coordinates\":null,\"formatter\":{\"id\":\"1038\"},\"group\":null,\"major_label_policy\":{\"id\":\"1039\"},\"ticker\":{\"id\":\"1017\"}},\"id\":\"1016\",\"type\":\"LinearAxis\"},{\"attributes\":{\"end\":70120.6,\"reset_end\":70120.6,\"reset_start\":0.0,\"tags\":[[[\"solar_electron_vx_count\",\"Count\",null]]]},\"id\":\"1005\",\"type\":\"Range1d\"},{\"attributes\":{\"bottom\":{\"value\":0},\"fill_alpha\":{\"value\":1.0},\"fill_color\":{\"value\":\"#30a2da\"},\"hatch_alpha\":{\"value\":1.0},\"hatch_color\":{\"value\":\"#30a2da\"},\"hatch_scale\":{\"value\":12.0},\"hatch_weight\":{\"value\":1.0},\"left\":{\"field\":\"left\"},\"line_alpha\":{\"value\":1.0},\"line_cap\":{\"value\":\"butt\"},\"line_color\":{\"value\":\"black\"},\"line_dash\":{\"value\":[]},\"line_dash_offset\":{\"value\":0},\"line_join\":{\"value\":\"bevel\"},\"line_width\":{\"value\":1},\"right\":{\"field\":\"right\"},\"top\":{\"field\":\"top\"}},\"id\":\"1063\",\"type\":\"Quad\"},{\"attributes\":{},\"id\":\"1042\",\"type\":\"AllLabels\"},{\"attributes\":{\"margin\":[5,5,5,5],\"name\":\"HSpacer01819\",\"sizing_mode\":\"stretch_width\"},\"id\":\"1154\",\"type\":\"Spacer\"},{\"attributes\":{\"margin\":[5,5,5,5],\"name\":\"HSpacer01818\",\"sizing_mode\":\"stretch_width\"},\"id\":\"1003\",\"type\":\"Spacer\"},{\"attributes\":{},\"id\":\"1012\",\"type\":\"LinearScale\"},{\"attributes\":{\"coordinates\":null,\"group\":null,\"items\":[]},\"id\":\"1061\",\"type\":\"Legend\"},{\"attributes\":{},\"id\":\"1058\",\"type\":\"UnionRenderers\"},{\"attributes\":{},\"id\":\"1039\",\"type\":\"AllLabels\"},{\"attributes\":{\"axis_label\":\"\",\"coordinates\":null,\"formatter\":{\"id\":\"1041\"},\"group\":null,\"major_label_policy\":{\"id\":\"1042\"},\"ticker\":{\"id\":\"1021\"}},\"id\":\"1020\",\"type\":\"LinearAxis\"},{\"attributes\":{},\"id\":\"1041\",\"type\":\"BasicTickFormatter\"},{\"attributes\":{\"overlay\":{\"id\":\"1029\"}},\"id\":\"1027\",\"type\":\"BoxZoomTool\"},{\"attributes\":{\"bottom_units\":\"screen\",\"coordinates\":null,\"fill_alpha\":0.5,\"fill_color\":\"lightgrey\",\"group\":null,\"left_units\":\"screen\",\"level\":\"overlay\",\"line_alpha\":1.0,\"line_color\":\"black\",\"line_dash\":[4,4],\"line_width\":2,\"right_units\":\"screen\",\"syncable\":false,\"top_units\":\"screen\"},\"id\":\"1029\",\"type\":\"BoxAnnotation\"},{\"attributes\":{\"axis\":{\"id\":\"1016\"},\"coordinates\":null,\"grid_line_color\":null,\"group\":null,\"ticker\":null},\"id\":\"1019\",\"type\":\"Grid\"},{\"attributes\":{},\"id\":\"1024\",\"type\":\"SaveTool\"},{\"attributes\":{\"bottom\":{\"value\":0},\"fill_color\":{\"value\":\"#30a2da\"},\"hatch_color\":{\"value\":\"#30a2da\"},\"left\":{\"field\":\"left\"},\"right\":{\"field\":\"right\"},\"top\":{\"field\":\"top\"}},\"id\":\"1046\",\"type\":\"Quad\"},{\"attributes\":{},\"id\":\"1038\",\"type\":\"BasicTickFormatter\"},{\"attributes\":{},\"id\":\"1014\",\"type\":\"LinearScale\"},{\"attributes\":{},\"id\":\"1025\",\"type\":\"PanTool\"},{\"attributes\":{\"axis\":{\"id\":\"1020\"},\"coordinates\":null,\"dimension\":1,\"grid_line_color\":null,\"group\":null,\"ticker\":null},\"id\":\"1023\",\"type\":\"Grid\"},{\"attributes\":{\"callback\":null,\"renderers\":[{\"id\":\"1049\"}],\"tags\":[\"hv_created\"],\"tooltips\":[[\"Element\",\"@{Element}\"],[\"solar_electron_vx\",\"@{solar_electron_vx}\"],[\"Count\",\"@{solar_electron_vx_count}\"]]},\"id\":\"1006\",\"type\":\"HoverTool\"},{\"attributes\":{},\"id\":\"1017\",\"type\":\"BasicTicker\"}],\"root_ids\":[\"1002\"]},\"title\":\"Bokeh Application\",\"version\":\"2.4.2\"}};\n",
       "    var render_items = [{\"docid\":\"4d28fd4b-d7e7-4db7-9ca2-a272b21a150d\",\"root_ids\":[\"1002\"],\"roots\":{\"1002\":\"99559250-d6af-452f-89f6-014697eee0bf\"}}];\n",
       "    root.Bokeh.embed.embed_items_notebook(docs_json, render_items);\n",
       "  }\n",
       "  if (root.Bokeh !== undefined && root.Bokeh.Panel !== undefined) {\n",
       "    embed_document(root);\n",
       "  } else {\n",
       "    var attempts = 0;\n",
       "    var timer = setInterval(function(root) {\n",
       "      if (root.Bokeh !== undefined && root.Bokeh.Panel !== undefined) {\n",
       "        clearInterval(timer);\n",
       "        embed_document(root);\n",
       "      } else if (document.readyState == \"complete\") {\n",
       "        attempts++;\n",
       "        if (attempts > 200) {\n",
       "          clearInterval(timer);\n",
       "          console.log(\"Bokeh: ERROR: Unable to run BokehJS code because BokehJS library is missing\");\n",
       "        }\n",
       "      }\n",
       "    }, 25, root)\n",
       "  }\n",
       "})(window);</script>"
      ],
      "text/plain": [
       ":NdOverlay   [Element]\n",
       "   :Histogram   [solar_electron_vx]   (solar_electron_vx_count)"
      ]
     },
     "execution_count": 27,
     "metadata": {
      "application/vnd.holoviews_exec.v0+json": {
       "id": "1002"
      }
     },
     "output_type": "execute_result"
    }
   ],
   "source": [
    "Nt = S.ParticleBinning(0).getTimesteps()[-1] # the last timestep\n",
    "diag_numbers = len(S._diag_numbers[\"ParticleBinning\"])\n",
    "\n",
    "ds = xr.Dataset()\n",
    "ds[\"solar_electron_vx\"]=((\"timestep\",\"x\",\"vx\"), S.ParticleBinning(0,sum = {\"y\" : \"all\", \"z\" : \"all\"}).getData())\n",
    "ds[\"solar_electron_vy\"]=((\"timestep\",\"x\",\"vy\"), S.ParticleBinning(1,sum = {\"y\" : \"all\", \"z\" : \"all\"}).getData())\n",
    "ds[\"solar_electron_vz\"]=((\"timestep\",\"x\",\"vz\"), S.ParticleBinning(2,sum = {\"y\" : \"all\", \"z\" : \"all\"}).getData())\n",
    "ds[\"solar_proton_vx\"]=((\"timestep\",\"x\",\"vx\"), S.ParticleBinning(3,sum = {\"y\" : \"all\", \"z\" : \"all\"}).getData())\n",
    "ds[\"solar_proton_vy\"]=((\"timestep\",\"x\",\"vy\"), S.ParticleBinning(4,sum = {\"y\" : \"all\", \"z\" : \"all\"}).getData())\n",
    "ds[\"solar_proton_vz\"]=((\"timestep\",\"x\",\"vz\"), S.ParticleBinning(5,sum = {\"y\" : \"all\", \"z\" : \"all\"}).getData())\n",
    "# ic(ds.keys())\n",
    "ds[\"solar_electron_vx\"].hvplot()"
   ]
  },
  {
   "cell_type": "code",
   "execution_count": 48,
   "metadata": {},
   "outputs": [
    {
     "data": {
      "text/plain": [
       "[array([[0., 0., 0., ..., 0., 0., 0.],\n",
       "        [0., 0., 0., ..., 0., 0., 0.],\n",
       "        [0., 0., 0., ..., 0., 0., 0.],\n",
       "        ...,\n",
       "        [0., 0., 0., ..., 0., 0., 0.],\n",
       "        [0., 0., 0., ..., 0., 0., 0.],\n",
       "        [0., 0., 0., ..., 0., 0., 0.]])]"
      ]
     },
     "execution_count": 48,
     "metadata": {},
     "output_type": "execute_result"
    }
   ],
   "source": [
    "S.ParticleBinning(5,sum = {\"y\" : \"all\", \"z\" : \"all\"})"
   ]
  },
  {
   "cell_type": "markdown",
   "metadata": {},
   "source": [
    "## Visualize the tracked macro-particles"
   ]
  },
  {
   "cell_type": "markdown",
   "metadata": {},
   "source": [
    "## Job"
   ]
  },
  {
   "cell_type": "code",
   "execution_count": null,
   "metadata": {},
   "outputs": [],
   "source": [
    "# ts = {timestep: getData(timestep) for timestep in timesteps}\n",
    "# plot_mag_field_yt(ts[0])\n",
    "# plot_species_density_z_yt(ts[0])\n",
    "# plot_density_profile_1D_happi(timesteps[0])\n",
    "\n",
    "# SPP.plot_scalar()\n",
    "# plot_density_profile_2D_happi()\n",
    "# plot_mag_field_happi()\n",
    "# [plot_mag_field_yt(ds) for ds in ts.values()]\n",
    "# [plot_electric_field_yt(ds) for ds in ts.values()]\n",
    "\n",
    "# %time [plot_density_profile_2D_yt(ds, \"z\") for ds in ts.values()]\n",
    "# %time [plot_density_profile_2D_yt(ds, \"y\") for ds in ts.values()]\n",
    "# %time [plot_density_profile_2D_yt(ds, \"x\") for ds in ts.values()]\n",
    "# [plot_density_profile_1D_happi(timestep) for timestep in timesteps]\n",
    "\n",
    "# %time Parallel(n_jobs=2)(delayed(plot_mag_field_yt)(ds) for ds in ts.values())\n",
    "# %time Parallel(n_jobs=2)(delayed(plot_density_profile_1D_happi)(timestep) for timestep in timesteps)\n"
   ]
  },
  {
   "cell_type": "markdown",
   "metadata": {},
   "source": []
  },
  {
   "cell_type": "markdown",
   "metadata": {},
   "source": [
    "#TODO Parallel visualization in python"
   ]
  },
  {
   "cell_type": "markdown",
   "metadata": {},
   "source": [
    "## Code test"
   ]
  },
  {
   "cell_type": "code",
   "execution_count": null,
   "metadata": {},
   "outputs": [],
   "source": [
    "import doctest\n",
    "\n",
    "doctest.testmod()"
   ]
  },
  {
   "cell_type": "code",
   "execution_count": null,
   "metadata": {},
   "outputs": [],
   "source": []
  }
 ],
 "metadata": {
  "interpreter": {
   "hash": "faf0ff83be4835620888bf3aede13e8353a08176fbd75baffe76a5e3b677f720"
  },
  "kernelspec": {
   "display_name": "Python 3 (ipykernel)",
   "language": "python",
   "name": "python3"
  },
  "language_info": {
   "codemirror_mode": {
    "name": "ipython",
    "version": 3
   },
   "file_extension": ".py",
   "mimetype": "text/x-python",
   "name": "python",
   "nbconvert_exporter": "python",
   "pygments_lexer": "ipython3",
   "version": "3.9.10"
  }
 },
 "nbformat": 4,
 "nbformat_minor": 2
}
