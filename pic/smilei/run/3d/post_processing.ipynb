{
    "cells": [
        {
            "cell_type": "markdown",
            "metadata": {},
            "source": [
                "# Solar wind interaction with Lunar magnetic anomalies"
            ]
        },
        {
            "cell_type": "markdown",
            "metadata": {},
            "source": [
                "## Set up environment and configure setting"
            ]
        },
        {
            "cell_type": "code",
            "execution_count": 1,
            "metadata": {},
            "outputs": [],
            "source": [
                "#Smilei job\n",
                "# ! qdel 2538\n",
                "# ! cd \"run/08/\" && spack env activate smilei-oneapi && $HOME/Smilei/build/smilei-oneapi/smilei test.py\n",
                "# ! cd \"run/08/\" && qsub $HOME/pic/zijin_oneapi.pbs -V \n",
                "# ! showq && qstat\n",
                "# \"run/08/\" - 2538.mu01"
            ]
        },
        {
            "cell_type": "code",
            "execution_count": 1,
            "metadata": {},
            "outputs": [
                {
                    "ename": "ModuleNotFoundError",
                    "evalue": "No module named '_utils'",
                    "output_type": "error",
                    "traceback": [
                        "\u001b[0;31m---------------------------------------------------------------------------\u001b[0m",
                        "\u001b[0;31mModuleNotFoundError\u001b[0m                       Traceback (most recent call last)",
                        "\u001b[1;32m/home/zijin/pic/Moon/post_processing.ipynb Cell 4'\u001b[0m in \u001b[0;36m<cell line: 3>\u001b[0;34m()\u001b[0m\n\u001b[1;32m      <a href='vscode-notebook-cell://ssh-remote%2B7b22686f73744e616d65223a22536f6c6973227d/home/zijin/pic/Moon/post_processing.ipynb#ch0000003vscode-remote?line=0'>1</a>\u001b[0m \u001b[39mimport\u001b[39;00m \u001b[39mhappi\u001b[39;00m\n\u001b[1;32m      <a href='vscode-notebook-cell://ssh-remote%2B7b22686f73744e616d65223a22536f6c6973227d/home/zijin/pic/Moon/post_processing.ipynb#ch0000003vscode-remote?line=1'>2</a>\u001b[0m \u001b[39mimport\u001b[39;00m \u001b[39myt\u001b[39;00m\n\u001b[0;32m----> <a href='vscode-notebook-cell://ssh-remote%2B7b22686f73744e616d65223a22536f6c6973227d/home/zijin/pic/Moon/post_processing.ipynb#ch0000003vscode-remote?line=2'>3</a>\u001b[0m \u001b[39mfrom\u001b[39;00m \u001b[39m_utils\u001b[39;00m \u001b[39mimport\u001b[39;00m \u001b[39m*\u001b[39m\n\u001b[1;32m      <a href='vscode-notebook-cell://ssh-remote%2B7b22686f73744e616d65223a22536f6c6973227d/home/zijin/pic/Moon/post_processing.ipynb#ch0000003vscode-remote?line=3'>4</a>\u001b[0m \u001b[39mfrom\u001b[39;00m \u001b[39micecream\u001b[39;00m \u001b[39mimport\u001b[39;00m ic\n\u001b[1;32m      <a href='vscode-notebook-cell://ssh-remote%2B7b22686f73744e616d65223a22536f6c6973227d/home/zijin/pic/Moon/post_processing.ipynb#ch0000003vscode-remote?line=4'>5</a>\u001b[0m \u001b[39mfrom\u001b[39;00m \u001b[39mrun\u001b[39;00m\u001b[39m.\u001b[39;00m\u001b[39ms10\u001b[39;00m\u001b[39m.\u001b[39;00m\u001b[39mparameters\u001b[39;00m \u001b[39mimport\u001b[39;00m \u001b[39m*\u001b[39m\n",
                        "\u001b[0;31mModuleNotFoundError\u001b[0m: No module named '_utils'"
                    ]
                }
            ],
            "source": [
                "import happi\n",
                "import yt\n",
                "from _utils import *\n",
                "from icecream import ic\n",
                "from run.s10.parameters import *\n",
                "results_path = \"run/s10/\"\n",
                "\n",
                "yt.set_log_level(40)"
            ]
        },
        {
            "cell_type": "markdown",
            "metadata": {},
            "source": [
                "### Set metadata"
            ]
        },
        {
            "cell_type": "code",
            "execution_count": 3,
            "metadata": {},
            "outputs": [],
            "source": [
                "dimensions = 3\n",
                "# Set fields metadata: Ex Ey Ez Bx By Bz Bx_m By_m Bz_m Jx Jy Jz Rho Jx_solar_ion Jy_solar_ion Jz_solar_ion Rho_solar_ion Jx_solar_electron Jy_solar_electron Jz_solar_electron Rho_solar_electron\n",
                "rho_fields_yt = [\"Rho_solar_electron\", \"Rho_solar_ion\"]\n",
                "rho_fields_smilei = [\"-Rho_solar_electron\", \"Rho_solar_ion\"]\n",
                "rho_units = [\"dimensionless\"] * 2  # rho_units = ['kg/m**3', 'kg/m**3']\n",
                "rho_labels = [r\"$\\rho_{solar-electron}$\", r\"$\\rho_{solar-ion}$\"]\n",
                "\n",
                "B_fields_yt = [\"magnetic_field_x\", \"magnetic_field_y\", \"magnetic_field_z\"]\n",
                "B_fields_smilei = [\"Bx\", \"By\", \"Bz\"]\n",
                "B_units = [\"dimensionless\"] * dimensions\n",
                "B_labels = [r\"$B_{x}$\", r\"$B_{y}$\", r\"$B_{z}$\"]\n",
                "\n",
                "E_fields_yt = [\"electric_field_x\", \"electric_field_y\", \"electric_field_z\"]\n",
                "E_fields_smilei = [\"Ex\", \"Ey\", \"Ez\"]\n",
                "# E_units = [E_r, E_r, E_r]\n",
                "E_units = [\"dimensionless\"] * dimensions\n",
                "E_labels = [r\"$E_{x}$\", r\"$E_{y}$\", r\"$E_{z}$\"]\n",
                "\n",
                "\n",
                "fields_smilei = [*B_fields_smilei, *E_fields_smilei, *rho_fields_smilei]\n",
                "fields_yt = [*B_fields_yt, *E_fields_yt, *rho_fields_yt]\n",
                "fields_units = [*B_units, *E_units, *rho_units]\n"
            ]
        },
        {
            "cell_type": "markdown",
            "metadata": {},
            "source": [
                "### class `SmileiPostProcessing`"
            ]
        },
        {
            "cell_type": "code",
            "execution_count": 4,
            "metadata": {},
            "outputs": [
                {
                    "ename": "NameError",
                    "evalue": "name 'geometry' is not defined",
                    "output_type": "error",
                    "traceback": [
                        "\u001b[0;31m---------------------------------------------------------------------------\u001b[0m",
                        "\u001b[0;31mNameError\u001b[0m                                 Traceback (most recent call last)",
                        "\u001b[1;32m/home/zijin/pic/Moon/post_processing.ipynb Cell 8'\u001b[0m in \u001b[0;36m<cell line: 1>\u001b[0;34m()\u001b[0m\n\u001b[0;32m----> <a href='vscode-notebook-cell://ssh-remote%2B7b22686f73744e616d65223a22536f6c6973227d/home/zijin/pic/Moon/post_processing.ipynb#ch0000007vscode-remote?line=0'>1</a>\u001b[0m SPP \u001b[39m=\u001b[39m SmileiPostProcessing(\n\u001b[1;32m      <a href='vscode-notebook-cell://ssh-remote%2B7b22686f73744e616d65223a22536f6c6973227d/home/zijin/pic/Moon/post_processing.ipynb#ch0000007vscode-remote?line=1'>2</a>\u001b[0m     results_path\u001b[39m=\u001b[39;49mresults_path,\n\u001b[1;32m      <a href='vscode-notebook-cell://ssh-remote%2B7b22686f73744e616d65223a22536f6c6973227d/home/zijin/pic/Moon/post_processing.ipynb#ch0000007vscode-remote?line=2'>3</a>\u001b[0m     fields_smilei\u001b[39m=\u001b[39;49mfields_smilei,\n\u001b[1;32m      <a href='vscode-notebook-cell://ssh-remote%2B7b22686f73744e616d65223a22536f6c6973227d/home/zijin/pic/Moon/post_processing.ipynb#ch0000007vscode-remote?line=3'>4</a>\u001b[0m     fields_yt\u001b[39m=\u001b[39;49mfields_yt,\n\u001b[1;32m      <a href='vscode-notebook-cell://ssh-remote%2B7b22686f73744e616d65223a22536f6c6973227d/home/zijin/pic/Moon/post_processing.ipynb#ch0000007vscode-remote?line=4'>5</a>\u001b[0m     fields_units\u001b[39m=\u001b[39;49mfields_units,\n\u001b[1;32m      <a href='vscode-notebook-cell://ssh-remote%2B7b22686f73744e616d65223a22536f6c6973227d/home/zijin/pic/Moon/post_processing.ipynb#ch0000007vscode-remote?line=5'>6</a>\u001b[0m )\n\u001b[1;32m      <a href='vscode-notebook-cell://ssh-remote%2B7b22686f73744e616d65223a22536f6c6973227d/home/zijin/pic/Moon/post_processing.ipynb#ch0000007vscode-remote?line=6'>7</a>\u001b[0m S\u001b[39m=\u001b[39m SPP\u001b[39m.\u001b[39mSmileiSimulation\n",
                        "File \u001b[0;32m~/pic/Moon/_utils.py:10\u001b[0m, in \u001b[0;36mSmileiPostProcessing.__init__\u001b[0;34m(self, results_path, fields_smilei, fields_yt, fields_units)\u001b[0m\n\u001b[1;32m      <a href='file:///home/zijin/pic/Moon/_utils.py?line=4'>5</a>\u001b[0m \u001b[39mdef\u001b[39;00m \u001b[39m__init__\u001b[39m(\n\u001b[1;32m      <a href='file:///home/zijin/pic/Moon/_utils.py?line=5'>6</a>\u001b[0m     \u001b[39mself\u001b[39m, results_path\u001b[39m=\u001b[39m\u001b[39m\"\u001b[39m\u001b[39m.\u001b[39m\u001b[39m\"\u001b[39m, fields_smilei\u001b[39m=\u001b[39m\u001b[39mNone\u001b[39;00m, fields_yt\u001b[39m=\u001b[39m\u001b[39mNone\u001b[39;00m, fields_units\u001b[39m=\u001b[39m\u001b[39mNone\u001b[39;00m\n\u001b[1;32m      <a href='file:///home/zijin/pic/Moon/_utils.py?line=6'>7</a>\u001b[0m ):\n\u001b[1;32m      <a href='file:///home/zijin/pic/Moon/_utils.py?line=7'>8</a>\u001b[0m     \u001b[39mimport\u001b[39;00m \u001b[39mhappi\u001b[39;00m\n\u001b[0;32m---> <a href='file:///home/zijin/pic/Moon/_utils.py?line=9'>10</a>\u001b[0m     \u001b[39mself\u001b[39m\u001b[39m.\u001b[39mSmileiSimulation \u001b[39m=\u001b[39m happi\u001b[39m.\u001b[39;49mOpen(results_path\u001b[39m=\u001b[39;49mresults_path, verbose\u001b[39m=\u001b[39;49m\u001b[39mFalse\u001b[39;49;00m)\n\u001b[1;32m     <a href='file:///home/zijin/pic/Moon/_utils.py?line=10'>11</a>\u001b[0m     \u001b[39mself\u001b[39m\u001b[39m.\u001b[39mresults_path \u001b[39m=\u001b[39m results_path\n\u001b[1;32m     <a href='file:///home/zijin/pic/Moon/_utils.py?line=11'>12</a>\u001b[0m     \u001b[39mself\u001b[39m\u001b[39m.\u001b[39mfields_smilei \u001b[39m=\u001b[39m fields_smilei\n",
                        "File \u001b[0;32m~/Smilei/happi/__init__.py:36\u001b[0m, in \u001b[0;36mOpen\u001b[0;34m(*args, **kwargs)\u001b[0m\n\u001b[1;32m      <a href='file:///home/zijin/Smilei/happi/__init__.py?line=7'>8</a>\u001b[0m \u001b[39m\"\"\" Import a Smilei simulation\u001b[39;00m\n\u001b[1;32m      <a href='file:///home/zijin/Smilei/happi/__init__.py?line=8'>9</a>\u001b[0m \n\u001b[1;32m     <a href='file:///home/zijin/Smilei/happi/__init__.py?line=9'>10</a>\u001b[0m \u001b[39mParameters:\u001b[39;00m\n\u001b[0;32m   (...)\u001b[0m\n\u001b[1;32m     <a href='file:///home/zijin/Smilei/happi/__init__.py?line=31'>32</a>\u001b[0m \n\u001b[1;32m     <a href='file:///home/zijin/Smilei/happi/__init__.py?line=32'>33</a>\u001b[0m \u001b[39m\"\"\"\u001b[39;00m\n\u001b[1;32m     <a href='file:///home/zijin/Smilei/happi/__init__.py?line=34'>35</a>\u001b[0m \u001b[39mfrom\u001b[39;00m \u001b[39m.\u001b[39;00m\u001b[39m_SmileiSimulation\u001b[39;00m \u001b[39mimport\u001b[39;00m SmileiSimulation\n\u001b[0;32m---> <a href='file:///home/zijin/Smilei/happi/__init__.py?line=35'>36</a>\u001b[0m \u001b[39mreturn\u001b[39;00m SmileiSimulation(\u001b[39m*\u001b[39;49margs, \u001b[39m*\u001b[39;49m\u001b[39m*\u001b[39;49mkwargs)\n",
                        "File \u001b[0;32m~/Smilei/happi/_SmileiSimulation.py:55\u001b[0m, in \u001b[0;36mSmileiSimulation.__init__\u001b[0;34m(self, results_path, reference_angular_frequency_SI, show, verbose, scan)\u001b[0m\n\u001b[1;32m     <a href='file:///home/zijin/Smilei/happi/_SmileiSimulation.py?line=51'>52</a>\u001b[0m \u001b[39mself\u001b[39m\u001b[39m.\u001b[39m_scan \u001b[39m=\u001b[39m scan\n\u001b[1;32m     <a href='file:///home/zijin/Smilei/happi/_SmileiSimulation.py?line=53'>54</a>\u001b[0m \u001b[39m# Load the simulation (verify the path, get the namelist)\u001b[39;00m\n\u001b[0;32m---> <a href='file:///home/zijin/Smilei/happi/_SmileiSimulation.py?line=54'>55</a>\u001b[0m \u001b[39mself\u001b[39;49m\u001b[39m.\u001b[39;49mreload()\n\u001b[1;32m     <a href='file:///home/zijin/Smilei/happi/_SmileiSimulation.py?line=56'>57</a>\u001b[0m \u001b[39m# Load diagnostic factories\u001b[39;00m\n\u001b[1;32m     <a href='file:///home/zijin/Smilei/happi/_SmileiSimulation.py?line=57'>58</a>\u001b[0m \u001b[39mif\u001b[39;00m \u001b[39mself\u001b[39m\u001b[39m.\u001b[39mvalid:\n",
                        "File \u001b[0;32m~/Smilei/happi/_SmileiSimulation.py:158\u001b[0m, in \u001b[0;36mSmileiSimulation.reload\u001b[0;34m(self)\u001b[0m\n\u001b[1;32m    <a href='file:///home/zijin/Smilei/happi/_SmileiSimulation.py?line=155'>156</a>\u001b[0m \u001b[39m# Loop paths and verify the namelist is compatible\u001b[39;00m\n\u001b[1;32m    <a href='file:///home/zijin/Smilei/happi/_SmileiSimulation.py?line=156'>157</a>\u001b[0m \u001b[39mfor\u001b[39;00m path \u001b[39min\u001b[39;00m newPaths:\n\u001b[0;32m--> <a href='file:///home/zijin/Smilei/happi/_SmileiSimulation.py?line=157'>158</a>\u001b[0m \t\u001b[39mself\u001b[39m\u001b[39m.\u001b[39mnamelist, ndim_fields, ndim_particles, cell_length, ncels, timestep, reference_angular_frequency_SI \u001b[39m=\u001b[39m \u001b[39mself\u001b[39;49m\u001b[39m.\u001b[39;49m_openNamelist(path)\n\u001b[1;32m    <a href='file:///home/zijin/Smilei/happi/_SmileiSimulation.py?line=158'>159</a>\u001b[0m \t\u001b[39mtry\u001b[39;00m:\n\u001b[1;32m    <a href='file:///home/zijin/Smilei/happi/_SmileiSimulation.py?line=159'>160</a>\u001b[0m \t\t\u001b[39mif\u001b[39;00m (\n\u001b[1;32m    <a href='file:///home/zijin/Smilei/happi/_SmileiSimulation.py?line=160'>161</a>\u001b[0m \t\t\tndim_fields \u001b[39m!=\u001b[39m \u001b[39mself\u001b[39m\u001b[39m.\u001b[39m_ndim_fields \u001b[39mor\u001b[39;00m\n\u001b[1;32m    <a href='file:///home/zijin/Smilei/happi/_SmileiSimulation.py?line=161'>162</a>\u001b[0m \t\t\tndim_particles \u001b[39m!=\u001b[39m \u001b[39mself\u001b[39m\u001b[39m.\u001b[39m_ndim_particles \u001b[39mor\u001b[39;00m\n\u001b[0;32m   (...)\u001b[0m\n\u001b[1;32m    <a href='file:///home/zijin/Smilei/happi/_SmileiSimulation.py?line=165'>166</a>\u001b[0m \t\t\treference_angular_frequency_SI \u001b[39m!=\u001b[39m W_r\n\u001b[1;32m    <a href='file:///home/zijin/Smilei/happi/_SmileiSimulation.py?line=166'>167</a>\u001b[0m \t\t):\n",
                        "File \u001b[0;32m~/Smilei/happi/_SmileiSimulation.py:80\u001b[0m, in \u001b[0;36mSmileiSimulation._openNamelist\u001b[0;34m(self, path)\u001b[0m\n\u001b[1;32m     <a href='file:///home/zijin/Smilei/happi/_SmileiSimulation.py?line=76'>77</a>\u001b[0m \u001b[39mdef\u001b[39;00m \u001b[39m_openNamelist\u001b[39m(\u001b[39mself\u001b[39m, path):\n\u001b[1;32m     <a href='file:///home/zijin/Smilei/happi/_SmileiSimulation.py?line=77'>78</a>\u001b[0m \t\u001b[39m# Fetch the python namelist\u001b[39;00m\n\u001b[1;32m     <a href='file:///home/zijin/Smilei/happi/_SmileiSimulation.py?line=78'>79</a>\u001b[0m \tnamespace\u001b[39m=\u001b[39m{}\n\u001b[0;32m---> <a href='file:///home/zijin/Smilei/happi/_SmileiSimulation.py?line=79'>80</a>\u001b[0m \texec(\u001b[39mopen\u001b[39;49m(path\u001b[39m+\u001b[39;49m\u001b[39mself\u001b[39;49m\u001b[39m.\u001b[39;49m_os\u001b[39m.\u001b[39;49msep\u001b[39m+\u001b[39;49m\u001b[39m'\u001b[39;49m\u001b[39msmilei.py\u001b[39;49m\u001b[39m'\u001b[39;49m)\u001b[39m.\u001b[39;49mread(), namespace) \u001b[39m# execute the namelist into an empty namespace\u001b[39;00m\n\u001b[1;32m     <a href='file:///home/zijin/Smilei/happi/_SmileiSimulation.py?line=80'>81</a>\u001b[0m \t\u001b[39mclass\u001b[39;00m \u001b[39mNamelist\u001b[39;00m: \u001b[39mpass\u001b[39;00m \u001b[39m# empty class to store the namelist variables\u001b[39;00m\n\u001b[1;32m     <a href='file:///home/zijin/Smilei/happi/_SmileiSimulation.py?line=81'>82</a>\u001b[0m \tnamelist \u001b[39m=\u001b[39m Namelist() \u001b[39m# create new empty object\u001b[39;00m\n",
                        "File \u001b[0;32m<string>:1372\u001b[0m, in \u001b[0;36m<module>\u001b[0;34m\u001b[0m\n",
                        "\u001b[0;31mNameError\u001b[0m: name 'geometry' is not defined"
                    ]
                }
            ],
            "source": [
                "SPP = SmileiPostProcessing(\n",
                "    results_path=results_path,\n",
                "    fields_smilei=fields_smilei,\n",
                "    fields_yt=fields_yt,\n",
                "    fields_units=fields_units,\n",
                ")\n",
                "S= SPP.SmileiSimulation\n",
                "# SPP.print_simulation()\n",
                "# grid_length=S.namelist.Main.grid_length\n",
                "# cell_length=S.namelist.Main.cell_length"
            ]
        },
        {
            "cell_type": "code",
            "execution_count": 11,
            "metadata": {},
            "outputs": [],
            "source": [
                "def TrackParticles(S):\n",
                "    track={}\n",
                "    for species in S.namelist.Species:  \n",
                "        track[species] = S.TrackParticles(species =species,axes = [\"x\",\"y\",\"z\",\"px\",\"py\",\"pz\",\"Id\"])\n",
                "        track[species].plot()\n"
            ]
        },
        {
            "cell_type": "code",
            "execution_count": null,
            "metadata": {},
            "outputs": [],
            "source": [
                "# ad = f.all_data()\n",
                "# phaseplot_z = yt.ParticlePhasePlot(ad, \n",
                "#                                    'particle_position_x', \n",
                "#                                    'particle_position_y', \n",
                "#                                    'particle_weighting',\n",
                "#                                   )\n",
                "# phaseplot_z.set_unit('particle_position_x', unit='um')\n",
                "# phaseplot_z.set_unit('particle_position_y', unit='um')\n",
                "# phaseplot_z.set_xlim(ad[\"particle_position_x\"].max())\n",
                "# phaseplot_z.set_ylim(ad[\"particle_position_y\"].max())\n",
                "\n",
                "# phaseplot_z.show()\n",
                "# particle_phase_space_y = yt.ParticlePlot(multiple_species, \n",
                "#                                          ('all', 'particle_position_y'), \n",
                "#                                          ('all', 'particle_momentum_y'), \n",
                "#                                          ('all', 'particle_weighting'),\n",
                "#                                          x_bins=800,\n",
                "#                                          y_bins=800)"
            ]
        },
        {
            "cell_type": "code",
            "execution_count": 8,
            "metadata": {},
            "outputs": [],
            "source": [
                "bbox = [\n",
                "    [0, grid_length[0]],\n",
                "    [-grid_length[1] / 2, grid_length[1] / 2],\n",
                "    [-grid_length[2] / 2, grid_length[2] / 2],\n",
                "]"
            ]
        },
        {
            "cell_type": "markdown",
            "metadata": {},
            "source": [
                "## Set up `yt`"
            ]
        },
        {
            "cell_type": "code",
            "execution_count": 24,
            "metadata": {},
            "outputs": [],
            "source": [
                "import numpy as np\n",
                "import yt\n",
                "from yt import derived_field\n",
                "from unyt.dimensions import length\n",
                "from unyt import m\n",
                "\n",
                "bbox = [\n",
                "    [0, grid_length[0]],\n",
                "    [-grid_length[1] / 2, grid_length[1] / 2],\n",
                "    [-grid_length[2] / 2, grid_length[2] / 2],\n",
                "] * L_r\n",
                "timesteps = S.Field(0, fields_smilei[0]).getTimesteps().astype(int)"
            ]
        },
        {
            "cell_type": "markdown",
            "metadata": {},
            "source": [
                "### Set derived_field"
            ]
        },
        {
            "cell_type": "code",
            "execution_count": 26,
            "metadata": {},
            "outputs": [],
            "source": [
                "@derived_field(\n",
                "    name=(\"stream\", \"magnetic_field_strength\"),\n",
                "    units=\"dimensionless\",\n",
                "    sampling_type=\"cell\",\n",
                ")\n",
                "def _magnetic_field_strength(field, data):\n",
                "    return np.sqrt(\n",
                "        data[\"stream\", \"magnetic_field_x\"] ** 2\n",
                "        + data[\"stream\", \"magnetic_field_y\"] ** 2\n",
                "        + data[\"stream\", \"magnetic_field_z\"] ** 2\n",
                "    )\n",
                "\n",
                "@derived_field(\n",
                "    name=(\"stream\", \"electric_field_strength\"),\n",
                "    units=\"dimensionless\",\n",
                "    sampling_type=\"cell\",\n",
                ")\n",
                "def _magnetic_field_strength(field, data):\n",
                "    return np.sqrt(\n",
                "        data[\"stream\", \"electric_field_x\"] ** 2\n",
                "        + data[\"stream\", \"electric_field_y\"] ** 2\n",
                "        + data[\"stream\", \"electric_field_z\"] ** 2\n",
                "    )\n"
            ]
        },
        {
            "cell_type": "markdown",
            "metadata": {},
            "source": [
                "### Load data"
            ]
        },
        {
            "cell_type": "code",
            "execution_count": 27,
            "metadata": {},
            "outputs": [],
            "source": [
                "def getData(timestep):\n",
                "    data = {}\n",
                "    for field_yt, field_smilei in zip(fields_yt, fields_smilei):\n",
                "        data[field_yt] = S.Field(0, field_smilei).getData(timestep=timestep)[0]\n",
                "    domain_dimensions = data[fields_yt[0]].shape\n",
                "    data = {k: (v, u) for (k, v), u in zip(data.items(), fields_units)}\n",
                "    ds = yt.load_uniform_grid(\n",
                "        data,\n",
                "        domain_dimensions,\n",
                "        length_unit=\"m\",\n",
                "        bbox=bbox,\n",
                "        nprocs=24,\n",
                "        sim_time=timestep,\n",
                "        periodicity=(False, False, False),\n",
                "        unit_system=\"mks\",\n",
                "    )\n",
                "    ds.timestep = timestep\n",
                "    ds.unit_registry.add(\"d_i\", float(d_i), length, tex_repr=\"d_i\")\n",
                "    return ds\n"
            ]
        },
        {
            "cell_type": "markdown",
            "metadata": {},
            "source": [
                "## Plot Fields"
            ]
        },
        {
            "cell_type": "markdown",
            "metadata": {},
            "source": [
                "### Plot 2-D species density profiles\n",
                "\n",
                "Two-dimensional (top) electron and (bottom) ion charge density profiles, scaled to the initial density, $n_{sw}$ ,and along the dipole axis (Y direction) at z = 0 after the simulation has reached quasi-steady state. The solar wind is flowing perpendicular (in the −X direction) to the lunar surface. Superimposed in black are magnetic field lines."
            ]
        },
        {
            "cell_type": "code",
            "execution_count": null,
            "metadata": {},
            "outputs": [],
            "source": [
                "def plot_density_profile_2D_yt(ds, axis=\"z\"):\n",
                "    slc = yt.SlicePlot(\n",
                "        ds, axis, [(\"stream\", field) for field in rho_fields_yt], origin=\"native\"\n",
                "    )\n",
                "    slc.set_axes_unit(\"d_i\")\n",
                "    slc.annotate_timestamp()\n",
                "    for field, label in zip(rho_fields_yt, rho_labels):\n",
                "        slc.set_colorbar_label((\"stream\", field), label)\n",
                "        slc.set_log((\"stream\", field), False)\n",
                "        slc.set_cmap((\"stream\", field), \"doom_r\")\n",
                "    if axis == \"y\":\n",
                "        fig = slc.export_to_mpl_figure((2, 1))\n",
                "    else:\n",
                "        fig = slc.export_to_mpl_figure((1, 2))\n",
                "\n",
                "    fig.tight_layout()\n",
                "    fig.savefig(\n",
                "        results_path\n",
                "        + \"figures/\"\n",
                "        + \"rho/yt_rho_\"\n",
                "        + axis\n",
                "        + \"_\"\n",
                "        + str(ds.timestep).zfill(10)\n",
                "    )\n",
                "    return fig\n"
            ]
        },
        {
            "cell_type": "code",
            "execution_count": null,
            "metadata": {},
            "outputs": [],
            "source": [
                "def plot_density_profile_2D_happi():\n",
                "    def rho_transform(rho):\n",
                "        return rho / S.namelist.n_solar\n",
                "\n",
                "    # subset\n",
                "    Rho_solar_electron_z0 = S.Field(\n",
                "        0,\n",
                "        \"-Rho_solar_electron\",\n",
                "        subset={\"z\": grid_length[2] / 2},\n",
                "        data_transform=rho_transform,\n",
                "        title=r\"$\\rho_{solar-electron}$\",\n",
                "    )\n",
                "    Rho_solar_ion_z0 = S.Field(\n",
                "        0,\n",
                "        \"Rho_solar_ion\",\n",
                "        subset={\"z\": grid_length[2] / 2},\n",
                "        data_transform=rho_transform,\n",
                "        title=r\"$\\rho_{solar-ion}$\",\n",
                "    )\n",
                "    happi.multiPlot(\n",
                "        Rho_solar_electron_z0,\n",
                "        Rho_solar_ion_z0,\n",
                "        shape=[1, 2],\n",
                "        saveAs=results_path + \"figures/rho/rho_sub_\",\n",
                "    )\n",
                "    # average\n",
                "    Rho_solar_electron_z0 = S.Field(\n",
                "        0,\n",
                "        \"-Rho_solar_electron\",\n",
                "        average={\"z\": \"all\"},\n",
                "        data_transform=rho_transform,\n",
                "        title=r\"$\\rho_{solar-electron}$\",\n",
                "    )\n",
                "    Rho_solar_ion_z0 = S.Field(\n",
                "        0,\n",
                "        \"Rho_solar_ion\",\n",
                "        average={\"z\": \"all\"},\n",
                "        data_transform=rho_transform,\n",
                "        title=r\"$\\rho_{solar-ion}$\",\n",
                "    )\n",
                "    happi.multiPlot(\n",
                "        Rho_solar_electron_z0,\n",
                "        Rho_solar_ion_z0,\n",
                "        shape=[1, 2],\n",
                "        saveAs=results_path + \"figures/rho/rho_avg_\",\n",
                "    )\n"
            ]
        },
        {
            "cell_type": "markdown",
            "metadata": {},
            "source": [
                "### Plot 1-D species density profiles\n",
                "Profiles along the direction parallel to the solar wind flow and through the center of the dipole. The upper panel presents the density profiles, normalized to the initial density $n_{sw}$. The remaining panels hold the magnetic and kinetic pressure profiles for the electron (middle) and ion (bottom) populations, in code units."
            ]
        },
        {
            "cell_type": "code",
            "execution_count": null,
            "metadata": {},
            "outputs": [],
            "source": [
                "def plot_density_profile_1D_happi(timestep):\n",
                "    def rho_transform(rho):\n",
                "        return rho / S.namelist.n_solar\n",
                "\n",
                "    data = {}\n",
                "    for field, label in zip(rho_fields_smilei, rho_labels):\n",
                "        data[field] = S.Field(\n",
                "            0,\n",
                "            field,\n",
                "            timesteps=timestep,\n",
                "            label=label,\n",
                "            subset={\"z\": grid_length[2] / 2, \"y\": grid_length[2] / 2},\n",
                "            data_transform=rho_transform,\n",
                "            xlabel=r\"Distance above the surface ($d_i$)\",\n",
                "            xmin=grid_length[0],\n",
                "            xmax=0,\n",
                "            ylabel=r\"$\\rho$\",\n",
                "        )\n",
                "    return happi.multiPlot(\n",
                "        *[data[field] for field in rho_fields_smilei],\n",
                "        saveAs=results_path + \"figures/rho/rho_sub_1D_\"\n",
                "    )\n"
            ]
        },
        {
            "cell_type": "markdown",
            "metadata": {},
            "source": [
                "### Plot magnetic field"
            ]
        },
        {
            "cell_type": "code",
            "execution_count": null,
            "metadata": {},
            "outputs": [],
            "source": [
                "def plot_mag_field_yt(ds, axis=\"z\"):\n",
                "    slc = yt.SlicePlot(\n",
                "        ds,\n",
                "        axis,\n",
                "        [(\"stream\", \"magnetic_field_strength\")]\n",
                "        + [(\"stream\", field) for field in B_fields_yt],\n",
                "        origin=\"native\",\n",
                "    )\n",
                "    slc.set_axes_unit(\"d_i\")\n",
                "    slc.set_colorbar_label((\"stream\", \"magnetic_field_strength\"), r\"$B_m$\")\n",
                "    for field, label in zip(B_fields_yt, B_labels):\n",
                "        slc.set_colorbar_label((\"stream\", field), label)\n",
                "        slc.set_log((\"stream\", field), False)\n",
                "    fig = slc.export_to_mpl_figure((2, 2))\n",
                "    fig.tight_layout()\n",
                "    fig.savefig(results_path + \"figures/B/yt_B_\" + str(ds.timestep).zfill(10))\n",
                "    return fig\n"
            ]
        },
        {
            "cell_type": "code",
            "execution_count": null,
            "metadata": {},
            "outputs": [],
            "source": [
                "def plot_mag_field_happi():\n",
                "    B_0 = S.Field(0, \"(Bx**2+By**2+Bz**2)**0.5\", subset={\"z\": grid_length[2] / 2})\n",
                "    B_x0 = S.Field(0, \"Bx\", subset={\"z\": grid_length[2] / 2})\n",
                "    B_y0 = S.Field(0, \"By\", subset={\"z\": grid_length[2] / 2})\n",
                "    B_z0 = S.Field(0, \"Bz\", subset={\"z\": grid_length[2] / 2})\n",
                "    # figure(figsize=(12, 12))\n",
                "    happi.multiPlot(\n",
                "        B_0,\n",
                "        B_x0,\n",
                "        B_y0,\n",
                "        B_z0,\n",
                "        shape=[2, 2],\n",
                "        saveAs=results_path + \"figures/B/smilei_B__\",\n",
                "    )\n"
            ]
        },
        {
            "cell_type": "markdown",
            "metadata": {},
            "source": [
                "#### Plot initial LMA magnetic field"
            ]
        },
        {
            "cell_type": "code",
            "execution_count": null,
            "metadata": {},
            "outputs": [],
            "source": []
        },
        {
            "cell_type": "markdown",
            "metadata": {},
            "source": [
                "#### Plot magnetic field streamlines"
            ]
        },
        {
            "cell_type": "code",
            "execution_count": null,
            "metadata": {},
            "outputs": [],
            "source": [
                "def plot_streamlines(ds):\n",
                "    import matplotlib.pyplot as plt\n",
                "    from mpl_toolkits.mplot3d import Axes3D\n",
                "    from yt.visualization.api import Streamlines\n",
                "\n",
                "    # Define c: the center of the box, N: the number of streamlines,\n",
                "    # scale: the spatial scale of the streamlines relative to the boxsize,\n",
                "    # and then pos: the random positions of the streamlines.\n",
                "    c = ds.domain_center\n",
                "    N = 100\n",
                "    scale = ds.domain_width[0]\n",
                "    pos_dx = np.random.random((N, 3)) * scale - scale / 2.0\n",
                "    pos = c + pos_dx\n",
                "\n",
                "    streamlines = Streamlines(\n",
                "        ds,\n",
                "        pos,\n",
                "        (\"stream\", \"Bx\"),\n",
                "        (\"stream\", \"By\"),\n",
                "        (\"stream\", \"Bz\"),\n",
                "    )\n",
                "    streamlines.integrate_through_volume()\n",
                "\n",
                "    # Create a 3D plot, trace the streamlines through the 3D volume of the plot\n",
                "    fig = plt.figure()\n",
                "    ax = Axes3D(fig, auto_add_to_figure=False)\n",
                "    fig.add_axes(ax)\n",
                "    for stream in streamlines.streamlines:\n",
                "        stream = stream[np.all(stream != 0.0, axis=1)]\n",
                "        ax.plot3D(stream[:, 0], stream[:, 1], stream[:, 2])\n",
                "\n",
                "    # Save the plot to disk.\n",
                "    plt.savefig(\"streamlines.png\")\n"
            ]
        },
        {
            "cell_type": "markdown",
            "metadata": {},
            "source": [
                "### Plot electric field"
            ]
        },
        {
            "cell_type": "code",
            "execution_count": null,
            "metadata": {},
            "outputs": [],
            "source": [
                "def plot_electric_field_yt(ds, axis=\"z\"):\n",
                "    slc = yt.SlicePlot(\n",
                "        ds, axis, [(\"stream\", \"electric_field_strength\")]+ [(\"stream\", field) for field in E_fields_yt], origin=\"native\"\n",
                "    )\n",
                "    slc.set_axes_unit(\"d_i\")\n",
                "    for field, label in zip(E_fields_yt, E_labels):\n",
                "        slc.set_colorbar_label((\"stream\", field), label)\n",
                "        slc.set_log((\"stream\", field), False)\n",
                "    fig = slc.export_to_mpl_figure((2, 2))\n",
                "    fig.tight_layout()\n",
                "    fig.savefig(results_path + \"figures/E/yt_E_\" + str(ds.timestep).zfill(10))\n",
                "    return fig\n"
            ]
        },
        {
            "cell_type": "markdown",
            "metadata": {},
            "source": [
                "## Plot gyroradius"
            ]
        },
        {
            "cell_type": "code",
            "execution_count": null,
            "metadata": {},
            "outputs": [],
            "source": [
                "from astropy import units as u\n",
                "from astropy.constants import m_e\n",
                "from plasmapy.formulary import gyroradius\n",
                "from plasmapy.particles import Particle, CustomParticle\n",
                "\n",
                "electron = Particle(\"e-\")\n",
                "ion = CustomParticle(mass=S.namelist.m_ion * m_e, charge=1)\n",
                "\n",
                "\n",
                "def plot_gyroradii_1D(timestep):\n",
                "    pxx = S.ParticleBinning(\"pxx\", sum={\"x\": \"all\", \"y\": \"all\"})\n",
                "    pyy = S.ParticleBinning(\"pyy\", sum={\"x\": \"all\", \"y\": \"all\"})\n",
                "    v_perp = 0.0\n",
                "    m = 0.0\n",
                "    q = 0.0\n",
                "    B = 0.0\n",
                "\n",
                "    r_g_solar_electron = gyroradius(B, electron, v_perp)\n",
                "    r_g_solar_ion = gyroradius(B, ion, v_perp)\n",
                "    pass\n"
            ]
        },
        {
            "cell_type": "markdown",
            "metadata": {},
            "source": [
                "## Plot plasma beta"
            ]
        },
        {
            "cell_type": "code",
            "execution_count": null,
            "metadata": {},
            "outputs": [],
            "source": [
                "from astropy import units as u\n",
                "from plasmapy.formulary import beta\n",
                "\n",
                "\n",
                "def plot_beta_1D(timestep):\n",
                "    \"\"\"\n",
                "    Plot the\n",
                "    \"\"\"\n",
                "    T = u.K\n",
                "    n = u.m**-3\n",
                "    B = u.T\n",
                "    beta(T, n, B)\n",
                "    pass\n"
            ]
        },
        {
            "cell_type": "markdown",
            "metadata": {},
            "source": [
                "## Plot velocity distribution"
            ]
        },
        {
            "cell_type": "code",
            "execution_count": null,
            "metadata": {},
            "outputs": [],
            "source": [
                "def plot_electric_drift_1D(timestep):\n",
                "    pass\n",
                "\n",
                "\n",
                "def plot_magnetic_drift_1D(timestep):\n",
                "    pass\n",
                "\n",
                "\n",
                "def plot_particle_distribution_x_vx_vy_vz(timestep):\n",
                "    pass\n",
                "\n",
                "\n",
                "def plot_particle_distribution_vx_vy_vz(timestep, center):\n",
                "    pass\n"
            ]
        },
        {
            "cell_type": "markdown",
            "metadata": {},
            "source": [
                "## Visualize the tracked macro-particles"
            ]
        },
        {
            "cell_type": "markdown",
            "metadata": {},
            "source": [
                "## Job"
            ]
        },
        {
            "cell_type": "code",
            "execution_count": null,
            "metadata": {},
            "outputs": [],
            "source": [
                "# ts = {timestep: getData(timestep) for timestep in timesteps}\n",
                "# plot_mag_field_yt(ts[0])\n",
                "# plot_species_density_z_yt(ts[0])\n",
                "# plot_density_profile_1D_happi(timesteps[0])\n",
                "\n",
                "\n",
                "# %time plot_scalar()\n",
                "# %time plot_density_profile_2D_happi()\n",
                "# %time plot_mag_field_happi()\n",
                "# %time [plot_mag_field_yt(ds) for ds in ts.values()]\n",
                "# %time [plot_electric_field_yt(ds) for ds in ts.values()]\n",
                "\n",
                "# %time [plot_density_profile_2D_yt(ds, \"z\") for ds in ts.values()]\n",
                "# %time [plot_density_profile_2D_yt(ds, \"y\") for ds in ts.values()]\n",
                "# %time [plot_density_profile_2D_yt(ds, \"x\") for ds in ts.values()]\n",
                "# %time [plot_density_profile_1D_happi(timestep) for timestep in timesteps]\n",
                "\n",
                "# %time Parallel(n_jobs=2)(delayed(plot_mag_field_yt)(ds) for ds in ts.values())\n",
                "# %time Parallel(n_jobs=2)(delayed(plot_density_profile_1D_happi)(timestep) for timestep in timesteps)\n"
            ]
        },
        {
            "cell_type": "markdown",
            "metadata": {},
            "source": [
                "#TODO Parallel visualization in python"
            ]
        },
        {
            "cell_type": "markdown",
            "metadata": {},
            "source": [
                "## Code test"
            ]
        },
        {
            "cell_type": "code",
            "execution_count": 9,
            "metadata": {},
            "outputs": [
                {
                    "data": {
                        "text/plain": [
                            "TestResults(failed=0, attempted=0)"
                        ]
                    },
                    "execution_count": 9,
                    "metadata": {},
                    "output_type": "execute_result"
                }
            ],
            "source": [
                "import doctest\n",
                "\n",
                "doctest.testmod()"
            ]
        }
    ],
    "metadata": {
        "interpreter": {
            "hash": "faf0ff83be4835620888bf3aede13e8353a08176fbd75baffe76a5e3b677f720"
        },
        "kernelspec": {
            "display_name": "Python 3.8.5 64-bit ('base': conda)",
            "name": "python3"
        },
        "language_info": {
            "codemirror_mode": {
                "name": "ipython",
                "version": 3
            },
            "file_extension": ".py",
            "mimetype": "text/x-python",
            "name": "python",
            "nbconvert_exporter": "python",
            "pygments_lexer": "ipython3",
            "version": "3.9.10"
        },
        "orig_nbformat": 4
    },
    "nbformat": 4,
    "nbformat_minor": 2
}
