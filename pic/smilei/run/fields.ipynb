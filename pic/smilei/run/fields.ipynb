{
 "cells": [
  {
   "cell_type": "code",
   "execution_count": 67,
   "metadata": {},
   "outputs": [],
   "source": [
    "from icecream import ic\n",
    "import numpy as np\n",
    "\n",
    "from plasmapy.formulary import magnetostatics\n",
    "from plasmapy.plasma.sources import Plasma3D"
   ]
  },
  {
   "cell_type": "code",
   "execution_count": 68,
   "metadata": {},
   "outputs": [],
   "source": [
    "# PIC-CODE SMILEI\n",
    "import numpy as np\n",
    "from unyt import m, A, c, me, qp, mu_0\n",
    "from unyt import unyt_array\n",
    "\n",
    "\n",
    "filename = 'Fields_input.h5'\n",
    "\n",
    "# Reference quantities\n",
    "# ------------------\n",
    "\n",
    "# --- arbitrary reference quantities\n",
    "L_r = d_i = 1.3e5 * m  # reference length: ion inertial length (m)\n",
    "w_r = c / L_r  # reference frequency\n",
    "B_r = me * w_r / qp\n",
    "\n",
    "# --- LMA field\n",
    "M_d = 1.12e12\n",
    "m_d = [0, M_d, 0] * A * m**2  # dipolar moment\n",
    "s_d = -0.1 * d_i  # source depth\n",
    "\n",
    "\n",
    "# --- geometry\n",
    "dimensions = 3\n",
    "\n",
    "# --- grid\n",
    "L_x = 0.625 * d_i\n",
    "L_y = 1.25 * d_i\n",
    "L_z = 1.25 * d_i\n",
    "grid_length = [L_x, L_y, L_z]\n",
    "number_of_patches = [8, 16, 16]\n",
    "cells_per_patch = [8] * dimensions\n",
    "cell_length = [0.0] * dimensions\n",
    "number_of_cells = [0.0] * dimensions\n",
    "for i in range(dimensions):\n",
    "    cell_length[i] = grid_length[i] / number_of_patches[i] / cells_per_patch[i]\n",
    "    number_of_cells[i] = number_of_patches[i] * cells_per_patch[i]\n",
    "\n",
    "# --- normalization\n",
    "grid_length = [float(i / L_r) for i in grid_length]\n",
    "cell_length = [float(i / L_r) for i in cell_length]"
   ]
  },
  {
   "cell_type": "code",
   "execution_count": 69,
   "metadata": {},
   "outputs": [],
   "source": [
    "M_d = 1.12e12\n",
    "m_d = [0, M_d, 0] * A * m**2"
   ]
  },
  {
   "cell_type": "code",
   "execution_count": 70,
   "metadata": {},
   "outputs": [],
   "source": [
    "M_d = 1.12e12\n",
    "m_d = [0, M_d, 0] * A * m**2\n",
    "r_0 = unyt_array([s_d, L_y / 2, L_z / 2])"
   ]
  },
  {
   "cell_type": "code",
   "execution_count": 71,
   "metadata": {},
   "outputs": [],
   "source": [
    "dipole = magnetostatics.MagneticDipole(\n",
    "    m_d.to_astropy() , r_0.to_astropy()\n",
    ")\n",
    "\n",
    "def domain(grid_length, cell_length, number_of_cells, length_unit=1):\n",
    "    return [np.linspace(0.-cell_length[i]*2, grid_length[i]+cell_length[i]*3, number_of_cells[i]+6)*length_unit for i in range(3)]\n",
    "\n",
    "domain_x, domain_y, domain_z = domain(grid_length, cell_length, number_of_cells, L_r)\n",
    "\n",
    "plasma = Plasma3D(\n",
    "    domain_x=domain_x.to_astropy(), domain_y=domain_y.to_astropy(), domain_z=domain_z.to_astropy()\n",
    ")\n",
    "plasma.add_magnetostatic(dipole)"
   ]
  },
  {
   "cell_type": "code",
   "execution_count": 92,
   "metadata": {},
   "outputs": [],
   "source": [
    "Bx = unyt_array.from_astropy(plasma.magnetic_field[0, :, :, :])/B_r  # because grid uses 'ij' indexing\n",
    "By = plasma.magnetic_field[1, :, :, :].value/B_r.value  # because grid uses 'ij' indexing\n",
    "Bz = plasma.magnetic_field[2, :, :, :].value/B_r.value  # because grid uses 'ij' indexing"
   ]
  },
  {
   "cell_type": "code",
   "execution_count": null,
   "metadata": {},
   "outputs": [],
   "source": [
    "import h5py\n",
    "filename = 'Fields_input.h5'\n",
    "with h5py.File(filename, 'w') as hf:\n",
    "    hf.create_dataset(\"Bx\",  data=Bx)\n",
    "    hf.create_dataset(\"By\",  data=By)\n",
    "    hf.create_dataset(\"Bz\",  data=Bz)"
   ]
  }
 ],
 "metadata": {
  "interpreter": {
   "hash": "99fb49d64534e75f57ce4ab9ef9c0c1e410197b83bfa14029e876c7bc0fba383"
  },
  "kernelspec": {
   "display_name": "Python 3.9.10 ('base')",
   "language": "python",
   "name": "python3"
  },
  "language_info": {
   "codemirror_mode": {
    "name": "ipython",
    "version": 3
   },
   "file_extension": ".py",
   "mimetype": "text/x-python",
   "name": "python",
   "nbconvert_exporter": "python",
   "pygments_lexer": "ipython3",
   "version": "3.9.10"
  },
  "orig_nbformat": 4
 },
 "nbformat": 4,
 "nbformat_minor": 2
}
