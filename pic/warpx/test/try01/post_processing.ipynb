{
 "cells": [
  {
   "cell_type": "code",
   "execution_count": 13,
   "metadata": {},
   "outputs": [
    {
     "data": {
      "text/plain": [
       "False"
      ]
     },
     "execution_count": 13,
     "metadata": {},
     "output_type": "execute_result"
    }
   ],
   "source": [
    "import yt\n",
    "yt.enable_parallelism()"
   ]
  },
  {
   "cell_type": "code",
   "execution_count": 14,
   "metadata": {},
   "outputs": [],
   "source": [
    "diag_name = 'plt'\n",
    "plotfile = './diags/plotfiles/{}??????'.format(diag_name)\n",
    "ts = yt.load(plotfile)"
   ]
  },
  {
   "cell_type": "code",
   "execution_count": 15,
   "metadata": {},
   "outputs": [
    {
     "name": "stderr",
     "output_type": "stream",
     "text": [
      "yt : [INFO     ] 2022-04-29 22:12:53,964 Parameters: current_time              = 0.0\n",
      "yt : [INFO     ] 2022-04-29 22:12:53,965 Parameters: domain_dimensions         = [32 64  1]\n",
      "yt : [INFO     ] 2022-04-29 22:12:53,965 Parameters: domain_left_edge          = [     0. -81250.      0.]\n",
      "yt : [INFO     ] 2022-04-29 22:12:53,966 Parameters: domain_right_edge         = [8.125e+04 8.125e+04 1.000e+00]\n"
     ]
    },
    {
     "data": {
      "text/plain": [
       "[('all', 'particle_cpu'),\n",
       " ('all', 'particle_id'),\n",
       " ('all', 'particle_momentum_x'),\n",
       " ('all', 'particle_momentum_y'),\n",
       " ('all', 'particle_momentum_z'),\n",
       " ('all', 'particle_position_x'),\n",
       " ('all', 'particle_position_y'),\n",
       " ('all', 'particle_weight'),\n",
       " ('boxlib', 'Bx'),\n",
       " ('boxlib', 'By'),\n",
       " ('boxlib', 'Bz'),\n",
       " ('boxlib', 'Ex'),\n",
       " ('boxlib', 'Ey'),\n",
       " ('boxlib', 'Ez'),\n",
       " ('boxlib', 'jx'),\n",
       " ('boxlib', 'jy'),\n",
       " ('boxlib', 'jz'),\n",
       " ('boxlib', 'rho'),\n",
       " ('boxlib', 'rho_e-'),\n",
       " ('boxlib', 'rho_p+'),\n",
       " ('e-', 'particle_cpu'),\n",
       " ('e-', 'particle_id'),\n",
       " ('e-', 'particle_momentum_x'),\n",
       " ('e-', 'particle_momentum_y'),\n",
       " ('e-', 'particle_momentum_z'),\n",
       " ('e-', 'particle_position_x'),\n",
       " ('e-', 'particle_position_y'),\n",
       " ('e-', 'particle_weight'),\n",
       " ('nbody', 'particle_cpu'),\n",
       " ('nbody', 'particle_id'),\n",
       " ('nbody', 'particle_momentum_x'),\n",
       " ('nbody', 'particle_momentum_y'),\n",
       " ('nbody', 'particle_momentum_z'),\n",
       " ('nbody', 'particle_position_x'),\n",
       " ('nbody', 'particle_position_y'),\n",
       " ('nbody', 'particle_weight'),\n",
       " ('p+', 'particle_cpu'),\n",
       " ('p+', 'particle_id'),\n",
       " ('p+', 'particle_momentum_x'),\n",
       " ('p+', 'particle_momentum_y'),\n",
       " ('p+', 'particle_momentum_z'),\n",
       " ('p+', 'particle_position_x'),\n",
       " ('p+', 'particle_position_y'),\n",
       " ('p+', 'particle_weight')]"
      ]
     },
     "execution_count": 15,
     "metadata": {},
     "output_type": "execute_result"
    }
   ],
   "source": [
    "ds = ts[0]\n",
    "ds.field_list"
   ]
  },
  {
   "cell_type": "code",
   "execution_count": 16,
   "metadata": {},
   "outputs": [
    {
     "name": "stderr",
     "output_type": "stream",
     "text": [
      "yt : [INFO     ] 2022-04-29 22:12:55,265 Parameters: current_time              = 0.0\n",
      "yt : [INFO     ] 2022-04-29 22:12:55,265 Parameters: domain_dimensions         = [32 64  1]\n",
      "yt : [INFO     ] 2022-04-29 22:12:55,266 Parameters: domain_left_edge          = [     0. -81250.      0.]\n",
      "yt : [INFO     ] 2022-04-29 22:12:55,267 Parameters: domain_right_edge         = [8.125e+04 8.125e+04 1.000e+00]\n"
     ]
    },
    {
     "data": {
      "text/plain": [
       "T"
      ]
     },
     "execution_count": 16,
     "metadata": {},
     "output_type": "execute_result"
    }
   ],
   "source": [
    "ds = ts[0]\n",
    "dd = ds.all_data()\n",
    "dd['boxlib','By'].units"
   ]
  },
  {
   "cell_type": "code",
   "execution_count": 17,
   "metadata": {},
   "outputs": [
    {
     "name": "stderr",
     "output_type": "stream",
     "text": [
      "yt : [INFO     ] 2022-04-29 22:12:56,572 Parameters: current_time              = 0.0\n",
      "yt : [INFO     ] 2022-04-29 22:12:56,573 Parameters: domain_dimensions         = [32 64  1]\n",
      "yt : [INFO     ] 2022-04-29 22:12:56,573 Parameters: domain_left_edge          = [     0. -81250.      0.]\n",
      "yt : [INFO     ] 2022-04-29 22:12:56,574 Parameters: domain_right_edge         = [8.125e+04 8.125e+04 1.000e+00]\n",
      "yt : [INFO     ] 2022-04-29 22:12:58,061 Saving plot figures/plt000000_2d-Profile_particle_position_x_particle_position_y_particle_weight.png\n",
      "yt : [INFO     ] 2022-04-29 22:12:58,513 Parameters: current_time              = 0.04642638836754973\n",
      "yt : [INFO     ] 2022-04-29 22:12:58,513 Parameters: domain_dimensions         = [32 64  1]\n",
      "yt : [INFO     ] 2022-04-29 22:12:58,514 Parameters: domain_left_edge          = [     0. -81250.      0.]\n",
      "yt : [INFO     ] 2022-04-29 22:12:58,515 Parameters: domain_right_edge         = [8.125e+04 8.125e+04 1.000e+00]\n",
      "yt : [INFO     ] 2022-04-29 22:12:59,931 Saving plot figures/plt007760_2d-Profile_particle_position_x_particle_position_y_particle_weight.png\n",
      "yt : [INFO     ] 2022-04-29 22:13:00,362 Parameters: current_time              = 0.09285277673510392\n",
      "yt : [INFO     ] 2022-04-29 22:13:00,363 Parameters: domain_dimensions         = [32 64  1]\n",
      "yt : [INFO     ] 2022-04-29 22:13:00,363 Parameters: domain_left_edge          = [     0. -81250.      0.]\n",
      "yt : [INFO     ] 2022-04-29 22:13:00,364 Parameters: domain_right_edge         = [8.125e+04 8.125e+04 1.000e+00]\n",
      "yt : [INFO     ] 2022-04-29 22:13:01,937 Saving plot figures/plt015520_2d-Profile_particle_position_x_particle_position_y_particle_weight.png\n",
      "yt : [INFO     ] 2022-04-29 22:13:02,379 Parameters: current_time              = 0.139279165102625\n",
      "yt : [INFO     ] 2022-04-29 22:13:02,380 Parameters: domain_dimensions         = [32 64  1]\n",
      "yt : [INFO     ] 2022-04-29 22:13:02,380 Parameters: domain_left_edge          = [     0. -81250.      0.]\n",
      "yt : [INFO     ] 2022-04-29 22:13:02,381 Parameters: domain_right_edge         = [8.125e+04 8.125e+04 1.000e+00]\n",
      "yt : [INFO     ] 2022-04-29 22:13:03,782 Saving plot figures/plt023280_2d-Profile_particle_position_x_particle_position_y_particle_weight.png\n",
      "yt : [INFO     ] 2022-04-29 22:13:04,228 Parameters: current_time              = 0.1857055534700715\n",
      "yt : [INFO     ] 2022-04-29 22:13:04,229 Parameters: domain_dimensions         = [32 64  1]\n",
      "yt : [INFO     ] 2022-04-29 22:13:04,230 Parameters: domain_left_edge          = [     0. -81250.      0.]\n",
      "yt : [INFO     ] 2022-04-29 22:13:04,231 Parameters: domain_right_edge         = [8.125e+04 8.125e+04 1.000e+00]\n",
      "yt : [INFO     ] 2022-04-29 22:13:05,663 Saving plot figures/plt031040_2d-Profile_particle_position_x_particle_position_y_particle_weight.png\n",
      "yt : [INFO     ] 2022-04-29 22:13:06,095 Parameters: current_time              = 0.232131941837518\n",
      "yt : [INFO     ] 2022-04-29 22:13:06,096 Parameters: domain_dimensions         = [32 64  1]\n",
      "yt : [INFO     ] 2022-04-29 22:13:06,096 Parameters: domain_left_edge          = [     0. -81250.      0.]\n",
      "yt : [INFO     ] 2022-04-29 22:13:06,097 Parameters: domain_right_edge         = [8.125e+04 8.125e+04 1.000e+00]\n",
      "yt : [INFO     ] 2022-04-29 22:13:07,526 Saving plot figures/plt038800_2d-Profile_particle_position_x_particle_position_y_particle_weight.png\n",
      "yt : [INFO     ] 2022-04-29 22:13:08,128 Parameters: current_time              = 0.278558330205097\n",
      "yt : [INFO     ] 2022-04-29 22:13:08,129 Parameters: domain_dimensions         = [32 64  1]\n",
      "yt : [INFO     ] 2022-04-29 22:13:08,129 Parameters: domain_left_edge          = [     0. -81250.      0.]\n",
      "yt : [INFO     ] 2022-04-29 22:13:08,130 Parameters: domain_right_edge         = [8.125e+04 8.125e+04 1.000e+00]\n",
      "yt : [INFO     ] 2022-04-29 22:13:09,562 Saving plot figures/plt046560_2d-Profile_particle_position_x_particle_position_y_particle_weight.png\n",
      "yt : [INFO     ] 2022-04-29 22:13:10,003 Parameters: current_time              = 0.3249847185727589\n",
      "yt : [INFO     ] 2022-04-29 22:13:10,004 Parameters: domain_dimensions         = [32 64  1]\n",
      "yt : [INFO     ] 2022-04-29 22:13:10,005 Parameters: domain_left_edge          = [     0. -81250.      0.]\n",
      "yt : [INFO     ] 2022-04-29 22:13:10,006 Parameters: domain_right_edge         = [8.125e+04 8.125e+04 1.000e+00]\n",
      "yt : [INFO     ] 2022-04-29 22:13:11,419 Saving plot figures/plt054320_2d-Profile_particle_position_x_particle_position_y_particle_weight.png\n",
      "yt : [INFO     ] 2022-04-29 22:13:11,847 Parameters: current_time              = 0.3714111069404208\n",
      "yt : [INFO     ] 2022-04-29 22:13:11,848 Parameters: domain_dimensions         = [32 64  1]\n",
      "yt : [INFO     ] 2022-04-29 22:13:11,849 Parameters: domain_left_edge          = [     0. -81250.      0.]\n",
      "yt : [INFO     ] 2022-04-29 22:13:11,850 Parameters: domain_right_edge         = [8.125e+04 8.125e+04 1.000e+00]\n",
      "yt : [INFO     ] 2022-04-29 22:13:13,264 Saving plot figures/plt062080_2d-Profile_particle_position_x_particle_position_y_particle_weight.png\n",
      "yt : [INFO     ] 2022-04-29 22:13:13,699 Parameters: current_time              = 0.4178374953080827\n",
      "yt : [INFO     ] 2022-04-29 22:13:13,700 Parameters: domain_dimensions         = [32 64  1]\n",
      "yt : [INFO     ] 2022-04-29 22:13:13,701 Parameters: domain_left_edge          = [     0. -81250.      0.]\n",
      "yt : [INFO     ] 2022-04-29 22:13:13,702 Parameters: domain_right_edge         = [8.125e+04 8.125e+04 1.000e+00]\n",
      "yt : [INFO     ] 2022-04-29 22:13:15,283 Saving plot figures/plt069840_2d-Profile_particle_position_x_particle_position_y_particle_weight.png\n",
      "yt : [INFO     ] 2022-04-29 22:13:15,720 Parameters: current_time              = 0.46426388367574456\n",
      "yt : [INFO     ] 2022-04-29 22:13:15,721 Parameters: domain_dimensions         = [32 64  1]\n",
      "yt : [INFO     ] 2022-04-29 22:13:15,722 Parameters: domain_left_edge          = [     0. -81250.      0.]\n",
      "yt : [INFO     ] 2022-04-29 22:13:15,722 Parameters: domain_right_edge         = [8.125e+04 8.125e+04 1.000e+00]\n",
      "yt : [INFO     ] 2022-04-29 22:13:17,156 Saving plot figures/plt077600_2d-Profile_particle_position_x_particle_position_y_particle_weight.png\n",
      "yt : [INFO     ] 2022-04-29 22:13:17,600 Parameters: current_time              = 0.464281832021763\n",
      "yt : [INFO     ] 2022-04-29 22:13:17,601 Parameters: domain_dimensions         = [32 64  1]\n",
      "yt : [INFO     ] 2022-04-29 22:13:17,601 Parameters: domain_left_edge          = [     0. -81250.      0.]\n",
      "yt : [INFO     ] 2022-04-29 22:13:17,602 Parameters: domain_right_edge         = [8.125e+04 8.125e+04 1.000e+00]\n",
      "yt : [INFO     ] 2022-04-29 22:13:19,030 Saving plot figures/plt077603_2d-Profile_particle_position_x_particle_position_y_particle_weight.png\n"
     ]
    }
   ],
   "source": [
    "for ds in ts:\n",
    "    p=  yt.ParticlePhasePlot( ds.all_data(), ('e-','particle_position_x'), ('e-','particle_position_y'), ('e-','particle_weight'))\n",
    "    p.save('figures/')"
   ]
  },
  {
   "cell_type": "code",
   "execution_count": 18,
   "metadata": {},
   "outputs": [
    {
     "name": "stderr",
     "output_type": "stream",
     "text": [
      "yt : [INFO     ] 2022-04-29 22:13:19,504 Parameters: current_time              = 0.0\n",
      "yt : [INFO     ] 2022-04-29 22:13:19,504 Parameters: domain_dimensions         = [32 64  1]\n",
      "yt : [INFO     ] 2022-04-29 22:13:19,505 Parameters: domain_left_edge          = [     0. -81250.      0.]\n",
      "yt : [INFO     ] 2022-04-29 22:13:19,506 Parameters: domain_right_edge         = [8.125e+04 8.125e+04 1.000e+00]\n"
     ]
    },
    {
     "name": "stdout",
     "output_type": "stream",
     "text": [
      "0.0 code_time\n"
     ]
    },
    {
     "name": "stderr",
     "output_type": "stream",
     "text": [
      "yt : [INFO     ] 2022-04-29 22:13:20,695 xlim = 0.000000 81250.000000\n",
      "yt : [INFO     ] 2022-04-29 22:13:20,695 ylim = -81250.000000 81250.000000\n",
      "yt : [INFO     ] 2022-04-29 22:13:20,696 xlim = 0.000000 81250.000000\n",
      "yt : [INFO     ] 2022-04-29 22:13:20,696 ylim = -81250.000000 81250.000000\n",
      "yt : [INFO     ] 2022-04-29 22:13:20,697 Making a fixed resolution buffer of (('boxlib', 'By')) 800 by 800\n",
      "yt : [INFO     ] 2022-04-29 22:13:20,703 Making a fixed resolution buffer of (('boxlib', 'Ex')) 800 by 800\n",
      "yt : [INFO     ] 2022-04-29 22:13:20,708 Making a fixed resolution buffer of (('boxlib', 'rho_e-')) 800 by 800\n",
      "yt : [INFO     ] 2022-04-29 22:13:20,713 Making a fixed resolution buffer of (('boxlib', 'rho_p+')) 800 by 800\n",
      "yt : [WARNING  ] 2022-04-29 22:13:20,731 Plotting ('boxlib', 'rho_p+'): Both positive and negative values. Min = 0.0 dimensionless, Max = 4.597042307869004e-25 dimensionless.\n",
      "yt : [WARNING  ] 2022-04-29 22:13:20,732 Switching to symlog colorbar scaling.\n",
      "yt : [WARNING  ] 2022-04-29 22:13:20,807 Plotting ('boxlib', 'By'): All values = 0.0 T\n",
      "yt : [WARNING  ] 2022-04-29 22:13:20,807 Switching to linear colorbar scaling.\n",
      "yt : [WARNING  ] 2022-04-29 22:13:20,861 Plotting ('boxlib', 'Ex'): All values = 0.0 V/m\n",
      "yt : [WARNING  ] 2022-04-29 22:13:20,862 Switching to linear colorbar scaling.\n",
      "yt : [WARNING  ] 2022-04-29 22:13:21,083 Plotting ('boxlib', 'rho_e-'): All negative values. Max = 0.0 dimensionless.\n",
      "yt : [WARNING  ] 2022-04-29 22:13:21,084 Switching to symlog colorbar scaling.\n",
      "yt : [INFO     ] 2022-04-29 22:13:21,896 Saving plot figures/plt000000_Slice_z_rho_p+.png\n",
      "yt : [INFO     ] 2022-04-29 22:13:22,074 Saving plot figures/plt000000_Slice_z_By.png\n",
      "yt : [INFO     ] 2022-04-29 22:13:22,282 Saving plot figures/plt000000_Slice_z_Ex.png\n",
      "yt : [INFO     ] 2022-04-29 22:13:22,493 Saving plot figures/plt000000_Slice_z_rho_e-.png\n",
      "yt : [INFO     ] 2022-04-29 22:13:22,708 Parameters: current_time              = 0.04642638836754973\n",
      "yt : [INFO     ] 2022-04-29 22:13:22,709 Parameters: domain_dimensions         = [32 64  1]\n",
      "yt : [INFO     ] 2022-04-29 22:13:22,709 Parameters: domain_left_edge          = [     0. -81250.      0.]\n",
      "yt : [INFO     ] 2022-04-29 22:13:22,710 Parameters: domain_right_edge         = [8.125e+04 8.125e+04 1.000e+00]\n"
     ]
    },
    {
     "name": "stdout",
     "output_type": "stream",
     "text": [
      "0.04642638836754973 code_time\n"
     ]
    },
    {
     "name": "stderr",
     "output_type": "stream",
     "text": [
      "yt : [INFO     ] 2022-04-29 22:13:24,075 xlim = 0.000000 81250.000000\n",
      "yt : [INFO     ] 2022-04-29 22:13:24,076 ylim = -81250.000000 81250.000000\n",
      "yt : [INFO     ] 2022-04-29 22:13:24,076 xlim = 0.000000 81250.000000\n",
      "yt : [INFO     ] 2022-04-29 22:13:24,076 ylim = -81250.000000 81250.000000\n",
      "yt : [INFO     ] 2022-04-29 22:13:24,078 Making a fixed resolution buffer of (('boxlib', 'By')) 800 by 800\n",
      "yt : [INFO     ] 2022-04-29 22:13:24,084 Making a fixed resolution buffer of (('boxlib', 'Ex')) 800 by 800\n",
      "yt : [INFO     ] 2022-04-29 22:13:24,089 Making a fixed resolution buffer of (('boxlib', 'rho_e-')) 800 by 800\n",
      "yt : [INFO     ] 2022-04-29 22:13:24,094 Making a fixed resolution buffer of (('boxlib', 'rho_p+')) 800 by 800\n",
      "yt : [WARNING  ] 2022-04-29 22:13:24,112 Plotting ('boxlib', 'rho_p+'): Both positive and negative values. Min = 0.0 dimensionless, Max = 3.68734071189541e-25 dimensionless.\n",
      "yt : [WARNING  ] 2022-04-29 22:13:24,112 Switching to symlog colorbar scaling.\n",
      "yt : [WARNING  ] 2022-04-29 22:13:24,192 Plotting ('boxlib', 'By'): Both positive and negative values. Min = -3.389585622981549e-21 T, Max = 2.8342229755917268e-21 T.\n",
      "yt : [WARNING  ] 2022-04-29 22:13:24,192 Switching to symlog colorbar scaling.\n",
      "yt : [WARNING  ] 2022-04-29 22:13:24,257 Plotting ('boxlib', 'Ex'): Both positive and negative values. Min = -7.46203462150779e-11 V/m, Max = 4.6509847015504134e-10 V/m.\n",
      "yt : [WARNING  ] 2022-04-29 22:13:24,257 Switching to symlog colorbar scaling.\n",
      "yt : [WARNING  ] 2022-04-29 22:13:24,332 Plotting ('boxlib', 'rho_e-'): All negative values. Max = 0.0 dimensionless.\n",
      "yt : [WARNING  ] 2022-04-29 22:13:24,332 Switching to symlog colorbar scaling.\n",
      "yt : [INFO     ] 2022-04-29 22:13:25,144 Saving plot figures/plt007760_Slice_z_rho_p+.png\n",
      "yt : [INFO     ] 2022-04-29 22:13:25,466 Saving plot figures/plt007760_Slice_z_By.png\n",
      "yt : [INFO     ] 2022-04-29 22:13:25,632 Saving plot figures/plt007760_Slice_z_Ex.png\n",
      "yt : [INFO     ] 2022-04-29 22:13:25,800 Saving plot figures/plt007760_Slice_z_rho_e-.png\n",
      "yt : [INFO     ] 2022-04-29 22:13:26,021 Parameters: current_time              = 0.09285277673510392\n",
      "yt : [INFO     ] 2022-04-29 22:13:26,022 Parameters: domain_dimensions         = [32 64  1]\n",
      "yt : [INFO     ] 2022-04-29 22:13:26,022 Parameters: domain_left_edge          = [     0. -81250.      0.]\n",
      "yt : [INFO     ] 2022-04-29 22:13:26,023 Parameters: domain_right_edge         = [8.125e+04 8.125e+04 1.000e+00]\n"
     ]
    },
    {
     "name": "stdout",
     "output_type": "stream",
     "text": [
      "0.09285277673510392 code_time\n"
     ]
    },
    {
     "name": "stderr",
     "output_type": "stream",
     "text": [
      "yt : [INFO     ] 2022-04-29 22:13:27,222 xlim = 0.000000 81250.000000\n",
      "yt : [INFO     ] 2022-04-29 22:13:27,222 ylim = -81250.000000 81250.000000\n",
      "yt : [INFO     ] 2022-04-29 22:13:27,223 xlim = 0.000000 81250.000000\n",
      "yt : [INFO     ] 2022-04-29 22:13:27,223 ylim = -81250.000000 81250.000000\n",
      "yt : [INFO     ] 2022-04-29 22:13:27,224 Making a fixed resolution buffer of (('boxlib', 'By')) 800 by 800\n",
      "yt : [INFO     ] 2022-04-29 22:13:27,231 Making a fixed resolution buffer of (('boxlib', 'Ex')) 800 by 800\n",
      "yt : [INFO     ] 2022-04-29 22:13:27,236 Making a fixed resolution buffer of (('boxlib', 'rho_e-')) 800 by 800\n",
      "yt : [INFO     ] 2022-04-29 22:13:27,241 Making a fixed resolution buffer of (('boxlib', 'rho_p+')) 800 by 800\n",
      "yt : [WARNING  ] 2022-04-29 22:13:27,259 Plotting ('boxlib', 'rho_p+'): Both positive and negative values. Min = 0.0 dimensionless, Max = 2.4137523203359024e-25 dimensionless.\n",
      "yt : [WARNING  ] 2022-04-29 22:13:27,259 Switching to symlog colorbar scaling.\n",
      "yt : [WARNING  ] 2022-04-29 22:13:27,339 Plotting ('boxlib', 'By'): Both positive and negative values. Min = -3.832805946876472e-21 T, Max = 2.7043727295639496e-21 T.\n",
      "yt : [WARNING  ] 2022-04-29 22:13:27,340 Switching to symlog colorbar scaling.\n",
      "yt : [WARNING  ] 2022-04-29 22:13:27,405 Plotting ('boxlib', 'Ex'): Both positive and negative values. Min = -5.958439400561444e-11 V/m, Max = 4.904811545896399e-10 V/m.\n",
      "yt : [WARNING  ] 2022-04-29 22:13:27,406 Switching to symlog colorbar scaling.\n",
      "yt : [WARNING  ] 2022-04-29 22:13:27,479 Plotting ('boxlib', 'rho_e-'): All negative values. Max = 0.0 dimensionless.\n",
      "yt : [WARNING  ] 2022-04-29 22:13:27,479 Switching to symlog colorbar scaling.\n",
      "yt : [INFO     ] 2022-04-29 22:13:28,432 Saving plot figures/plt015520_Slice_z_rho_p+.png\n",
      "yt : [INFO     ] 2022-04-29 22:13:28,613 Saving plot figures/plt015520_Slice_z_By.png\n",
      "yt : [INFO     ] 2022-04-29 22:13:28,780 Saving plot figures/plt015520_Slice_z_Ex.png\n",
      "yt : [INFO     ] 2022-04-29 22:13:28,948 Saving plot figures/plt015520_Slice_z_rho_e-.png\n",
      "yt : [INFO     ] 2022-04-29 22:13:29,168 Parameters: current_time              = 0.139279165102625\n",
      "yt : [INFO     ] 2022-04-29 22:13:29,169 Parameters: domain_dimensions         = [32 64  1]\n",
      "yt : [INFO     ] 2022-04-29 22:13:29,170 Parameters: domain_left_edge          = [     0. -81250.      0.]\n",
      "yt : [INFO     ] 2022-04-29 22:13:29,170 Parameters: domain_right_edge         = [8.125e+04 8.125e+04 1.000e+00]\n"
     ]
    },
    {
     "name": "stdout",
     "output_type": "stream",
     "text": [
      "0.139279165102625 code_time\n"
     ]
    },
    {
     "name": "stderr",
     "output_type": "stream",
     "text": [
      "yt : [INFO     ] 2022-04-29 22:13:30,343 xlim = 0.000000 81250.000000\n",
      "yt : [INFO     ] 2022-04-29 22:13:30,343 ylim = -81250.000000 81250.000000\n",
      "yt : [INFO     ] 2022-04-29 22:13:30,344 xlim = 0.000000 81250.000000\n",
      "yt : [INFO     ] 2022-04-29 22:13:30,344 ylim = -81250.000000 81250.000000\n",
      "yt : [INFO     ] 2022-04-29 22:13:30,345 Making a fixed resolution buffer of (('boxlib', 'By')) 800 by 800\n",
      "yt : [INFO     ] 2022-04-29 22:13:30,351 Making a fixed resolution buffer of (('boxlib', 'Ex')) 800 by 800\n",
      "yt : [INFO     ] 2022-04-29 22:13:30,357 Making a fixed resolution buffer of (('boxlib', 'rho_e-')) 800 by 800\n",
      "yt : [INFO     ] 2022-04-29 22:13:30,362 Making a fixed resolution buffer of (('boxlib', 'rho_p+')) 800 by 800\n",
      "yt : [WARNING  ] 2022-04-29 22:13:30,380 Plotting ('boxlib', 'rho_p+'): Both positive and negative values. Min = 0.0 dimensionless, Max = 1.7862296469076083e-25 dimensionless.\n",
      "yt : [WARNING  ] 2022-04-29 22:13:30,380 Switching to symlog colorbar scaling.\n",
      "yt : [WARNING  ] 2022-04-29 22:13:30,460 Plotting ('boxlib', 'By'): Both positive and negative values. Min = -3.9970091207160575e-21 T, Max = 2.6491897730535632e-21 T.\n",
      "yt : [WARNING  ] 2022-04-29 22:13:30,460 Switching to symlog colorbar scaling.\n",
      "yt : [WARNING  ] 2022-04-29 22:13:30,526 Plotting ('boxlib', 'Ex'): Both positive and negative values. Min = -3.5194011853581586e-11 V/m, Max = 5.15221570646027e-10 V/m.\n",
      "yt : [WARNING  ] 2022-04-29 22:13:30,527 Switching to symlog colorbar scaling.\n",
      "yt : [WARNING  ] 2022-04-29 22:13:30,598 Plotting ('boxlib', 'rho_e-'): All negative values. Max = 0.0 dimensionless.\n",
      "yt : [WARNING  ] 2022-04-29 22:13:30,598 Switching to symlog colorbar scaling.\n",
      "yt : [INFO     ] 2022-04-29 22:13:31,540 Saving plot figures/plt023280_Slice_z_rho_p+.png\n",
      "yt : [INFO     ] 2022-04-29 22:13:31,722 Saving plot figures/plt023280_Slice_z_By.png\n",
      "yt : [INFO     ] 2022-04-29 22:13:31,888 Saving plot figures/plt023280_Slice_z_Ex.png\n",
      "yt : [INFO     ] 2022-04-29 22:13:32,052 Saving plot figures/plt023280_Slice_z_rho_e-.png\n",
      "yt : [INFO     ] 2022-04-29 22:13:32,273 Parameters: current_time              = 0.1857055534700715\n",
      "yt : [INFO     ] 2022-04-29 22:13:32,274 Parameters: domain_dimensions         = [32 64  1]\n",
      "yt : [INFO     ] 2022-04-29 22:13:32,275 Parameters: domain_left_edge          = [     0. -81250.      0.]\n",
      "yt : [INFO     ] 2022-04-29 22:13:32,276 Parameters: domain_right_edge         = [8.125e+04 8.125e+04 1.000e+00]\n"
     ]
    },
    {
     "name": "stdout",
     "output_type": "stream",
     "text": [
      "0.1857055534700715 code_time\n"
     ]
    },
    {
     "name": "stderr",
     "output_type": "stream",
     "text": [
      "yt : [INFO     ] 2022-04-29 22:13:33,453 xlim = 0.000000 81250.000000\n",
      "yt : [INFO     ] 2022-04-29 22:13:33,453 ylim = -81250.000000 81250.000000\n",
      "yt : [INFO     ] 2022-04-29 22:13:33,454 xlim = 0.000000 81250.000000\n",
      "yt : [INFO     ] 2022-04-29 22:13:33,454 ylim = -81250.000000 81250.000000\n",
      "yt : [INFO     ] 2022-04-29 22:13:33,455 Making a fixed resolution buffer of (('boxlib', 'By')) 800 by 800\n",
      "yt : [INFO     ] 2022-04-29 22:13:33,461 Making a fixed resolution buffer of (('boxlib', 'Ex')) 800 by 800\n",
      "yt : [INFO     ] 2022-04-29 22:13:33,466 Making a fixed resolution buffer of (('boxlib', 'rho_e-')) 800 by 800\n",
      "yt : [INFO     ] 2022-04-29 22:13:33,471 Making a fixed resolution buffer of (('boxlib', 'rho_p+')) 800 by 800\n",
      "yt : [WARNING  ] 2022-04-29 22:13:33,489 Plotting ('boxlib', 'rho_p+'): Both positive and negative values. Min = 0.0 dimensionless, Max = 1.3527920684719636e-25 dimensionless.\n",
      "yt : [WARNING  ] 2022-04-29 22:13:33,490 Switching to symlog colorbar scaling.\n",
      "yt : [WARNING  ] 2022-04-29 22:13:33,569 Plotting ('boxlib', 'By'): Both positive and negative values. Min = -3.58402680601164e-21 T, Max = 2.4060759376800515e-21 T.\n",
      "yt : [WARNING  ] 2022-04-29 22:13:33,570 Switching to symlog colorbar scaling.\n",
      "yt : [WARNING  ] 2022-04-29 22:13:33,688 Plotting ('boxlib', 'rho_e-'): All negative values. Max = 0.0 dimensionless.\n",
      "yt : [WARNING  ] 2022-04-29 22:13:33,688 Switching to symlog colorbar scaling.\n",
      "yt : [INFO     ] 2022-04-29 22:13:34,667 Saving plot figures/plt031040_Slice_z_rho_p+.png\n",
      "yt : [INFO     ] 2022-04-29 22:13:34,848 Saving plot figures/plt031040_Slice_z_By.png\n",
      "yt : [INFO     ] 2022-04-29 22:13:35,015 Saving plot figures/plt031040_Slice_z_Ex.png\n",
      "yt : [INFO     ] 2022-04-29 22:13:35,202 Saving plot figures/plt031040_Slice_z_rho_e-.png\n",
      "yt : [INFO     ] 2022-04-29 22:13:35,422 Parameters: current_time              = 0.232131941837518\n",
      "yt : [INFO     ] 2022-04-29 22:13:35,423 Parameters: domain_dimensions         = [32 64  1]\n",
      "yt : [INFO     ] 2022-04-29 22:13:35,423 Parameters: domain_left_edge          = [     0. -81250.      0.]\n",
      "yt : [INFO     ] 2022-04-29 22:13:35,424 Parameters: domain_right_edge         = [8.125e+04 8.125e+04 1.000e+00]\n"
     ]
    },
    {
     "name": "stdout",
     "output_type": "stream",
     "text": [
      "0.232131941837518 code_time\n"
     ]
    },
    {
     "name": "stderr",
     "output_type": "stream",
     "text": [
      "yt : [INFO     ] 2022-04-29 22:13:36,609 xlim = 0.000000 81250.000000\n",
      "yt : [INFO     ] 2022-04-29 22:13:36,610 ylim = -81250.000000 81250.000000\n",
      "yt : [INFO     ] 2022-04-29 22:13:36,610 xlim = 0.000000 81250.000000\n",
      "yt : [INFO     ] 2022-04-29 22:13:36,611 ylim = -81250.000000 81250.000000\n",
      "yt : [INFO     ] 2022-04-29 22:13:36,612 Making a fixed resolution buffer of (('boxlib', 'By')) 800 by 800\n",
      "yt : [INFO     ] 2022-04-29 22:13:36,618 Making a fixed resolution buffer of (('boxlib', 'Ex')) 800 by 800\n",
      "yt : [INFO     ] 2022-04-29 22:13:36,623 Making a fixed resolution buffer of (('boxlib', 'rho_e-')) 800 by 800\n",
      "yt : [INFO     ] 2022-04-29 22:13:36,628 Making a fixed resolution buffer of (('boxlib', 'rho_p+')) 800 by 800\n",
      "yt : [WARNING  ] 2022-04-29 22:13:36,647 Plotting ('boxlib', 'rho_p+'): Both positive and negative values. Min = 0.0 dimensionless, Max = 9.019496053435172e-26 dimensionless.\n",
      "yt : [WARNING  ] 2022-04-29 22:13:36,647 Switching to symlog colorbar scaling.\n",
      "yt : [WARNING  ] 2022-04-29 22:13:36,892 Plotting ('boxlib', 'By'): Both positive and negative values. Min = -3.0809566595287272e-21 T, Max = 2.4069144566017492e-21 T.\n",
      "yt : [WARNING  ] 2022-04-29 22:13:36,892 Switching to symlog colorbar scaling.\n",
      "yt : [WARNING  ] 2022-04-29 22:13:37,013 Plotting ('boxlib', 'rho_e-'): All negative values. Max = 0.0 dimensionless.\n",
      "yt : [WARNING  ] 2022-04-29 22:13:37,013 Switching to symlog colorbar scaling.\n",
      "yt : [INFO     ] 2022-04-29 22:13:37,833 Saving plot figures/plt038800_Slice_z_rho_p+.png\n",
      "yt : [INFO     ] 2022-04-29 22:13:38,013 Saving plot figures/plt038800_Slice_z_By.png\n",
      "yt : [INFO     ] 2022-04-29 22:13:38,180 Saving plot figures/plt038800_Slice_z_Ex.png\n",
      "yt : [INFO     ] 2022-04-29 22:13:38,368 Saving plot figures/plt038800_Slice_z_rho_e-.png\n",
      "yt : [INFO     ] 2022-04-29 22:13:38,744 Parameters: current_time              = 0.278558330205097\n",
      "yt : [INFO     ] 2022-04-29 22:13:38,745 Parameters: domain_dimensions         = [32 64  1]\n",
      "yt : [INFO     ] 2022-04-29 22:13:38,746 Parameters: domain_left_edge          = [     0. -81250.      0.]\n",
      "yt : [INFO     ] 2022-04-29 22:13:38,747 Parameters: domain_right_edge         = [8.125e+04 8.125e+04 1.000e+00]\n"
     ]
    },
    {
     "name": "stdout",
     "output_type": "stream",
     "text": [
      "0.278558330205097 code_time\n"
     ]
    },
    {
     "name": "stderr",
     "output_type": "stream",
     "text": [
      "yt : [INFO     ] 2022-04-29 22:13:39,933 xlim = 0.000000 81250.000000\n",
      "yt : [INFO     ] 2022-04-29 22:13:39,933 ylim = -81250.000000 81250.000000\n",
      "yt : [INFO     ] 2022-04-29 22:13:39,934 xlim = 0.000000 81250.000000\n",
      "yt : [INFO     ] 2022-04-29 22:13:39,934 ylim = -81250.000000 81250.000000\n",
      "yt : [INFO     ] 2022-04-29 22:13:39,935 Making a fixed resolution buffer of (('boxlib', 'By')) 800 by 800\n",
      "yt : [INFO     ] 2022-04-29 22:13:39,941 Making a fixed resolution buffer of (('boxlib', 'Ex')) 800 by 800\n",
      "yt : [INFO     ] 2022-04-29 22:13:39,947 Making a fixed resolution buffer of (('boxlib', 'rho_e-')) 800 by 800\n",
      "yt : [INFO     ] 2022-04-29 22:13:39,952 Making a fixed resolution buffer of (('boxlib', 'rho_p+')) 800 by 800\n",
      "yt : [WARNING  ] 2022-04-29 22:13:39,970 Plotting ('boxlib', 'rho_p+'): Both positive and negative values. Min = 0.0 dimensionless, Max = 4.8651333960664653e-26 dimensionless.\n",
      "yt : [WARNING  ] 2022-04-29 22:13:39,970 Switching to symlog colorbar scaling.\n",
      "yt : [WARNING  ] 2022-04-29 22:13:40,052 Plotting ('boxlib', 'By'): Both positive and negative values. Min = -3.450224601865759e-21 T, Max = 2.4571314150266197e-21 T.\n",
      "yt : [WARNING  ] 2022-04-29 22:13:40,052 Switching to symlog colorbar scaling.\n",
      "yt : [WARNING  ] 2022-04-29 22:13:40,171 Plotting ('boxlib', 'rho_e-'): All negative values. Max = 0.0 dimensionless.\n",
      "yt : [WARNING  ] 2022-04-29 22:13:40,171 Switching to symlog colorbar scaling.\n",
      "yt : [INFO     ] 2022-04-29 22:13:40,980 Saving plot figures/plt046560_Slice_z_rho_p+.png\n",
      "yt : [INFO     ] 2022-04-29 22:13:41,306 Saving plot figures/plt046560_Slice_z_By.png\n",
      "yt : [INFO     ] 2022-04-29 22:13:41,472 Saving plot figures/plt046560_Slice_z_Ex.png\n",
      "yt : [INFO     ] 2022-04-29 22:13:41,660 Saving plot figures/plt046560_Slice_z_rho_e-.png\n",
      "yt : [INFO     ] 2022-04-29 22:13:41,879 Parameters: current_time              = 0.3249847185727589\n",
      "yt : [INFO     ] 2022-04-29 22:13:41,880 Parameters: domain_dimensions         = [32 64  1]\n",
      "yt : [INFO     ] 2022-04-29 22:13:41,881 Parameters: domain_left_edge          = [     0. -81250.      0.]\n",
      "yt : [INFO     ] 2022-04-29 22:13:41,881 Parameters: domain_right_edge         = [8.125e+04 8.125e+04 1.000e+00]\n"
     ]
    },
    {
     "name": "stdout",
     "output_type": "stream",
     "text": [
      "0.3249847185727589 code_time\n"
     ]
    },
    {
     "name": "stderr",
     "output_type": "stream",
     "text": [
      "yt : [INFO     ] 2022-04-29 22:13:43,052 xlim = 0.000000 81250.000000\n",
      "yt : [INFO     ] 2022-04-29 22:13:43,053 ylim = -81250.000000 81250.000000\n",
      "yt : [INFO     ] 2022-04-29 22:13:43,053 xlim = 0.000000 81250.000000\n",
      "yt : [INFO     ] 2022-04-29 22:13:43,053 ylim = -81250.000000 81250.000000\n",
      "yt : [INFO     ] 2022-04-29 22:13:43,055 Making a fixed resolution buffer of (('boxlib', 'By')) 800 by 800\n",
      "yt : [INFO     ] 2022-04-29 22:13:43,061 Making a fixed resolution buffer of (('boxlib', 'Ex')) 800 by 800\n",
      "yt : [INFO     ] 2022-04-29 22:13:43,066 Making a fixed resolution buffer of (('boxlib', 'rho_e-')) 800 by 800\n",
      "yt : [INFO     ] 2022-04-29 22:13:43,071 Making a fixed resolution buffer of (('boxlib', 'rho_p+')) 800 by 800\n",
      "yt : [WARNING  ] 2022-04-29 22:13:43,089 Plotting ('boxlib', 'rho_p+'): Both positive and negative values. Min = 0.0 dimensionless, Max = 2.363643796032291e-26 dimensionless.\n",
      "yt : [WARNING  ] 2022-04-29 22:13:43,089 Switching to symlog colorbar scaling.\n",
      "yt : [WARNING  ] 2022-04-29 22:13:43,170 Plotting ('boxlib', 'By'): Both positive and negative values. Min = -3.799113534869749e-21 T, Max = 3.056783389181755e-21 T.\n",
      "yt : [WARNING  ] 2022-04-29 22:13:43,170 Switching to symlog colorbar scaling.\n",
      "yt : [WARNING  ] 2022-04-29 22:13:43,290 Plotting ('boxlib', 'rho_e-'): All negative values. Max = 0.0 dimensionless.\n",
      "yt : [WARNING  ] 2022-04-29 22:13:43,290 Switching to symlog colorbar scaling.\n",
      "yt : [INFO     ] 2022-04-29 22:13:44,241 Saving plot figures/plt054320_Slice_z_rho_p+.png\n",
      "yt : [INFO     ] 2022-04-29 22:13:44,425 Saving plot figures/plt054320_Slice_z_By.png\n",
      "yt : [INFO     ] 2022-04-29 22:13:44,592 Saving plot figures/plt054320_Slice_z_Ex.png\n",
      "yt : [INFO     ] 2022-04-29 22:13:44,779 Saving plot figures/plt054320_Slice_z_rho_e-.png\n",
      "yt : [INFO     ] 2022-04-29 22:13:44,999 Parameters: current_time              = 0.3714111069404208\n",
      "yt : [INFO     ] 2022-04-29 22:13:45,000 Parameters: domain_dimensions         = [32 64  1]\n",
      "yt : [INFO     ] 2022-04-29 22:13:45,001 Parameters: domain_left_edge          = [     0. -81250.      0.]\n",
      "yt : [INFO     ] 2022-04-29 22:13:45,001 Parameters: domain_right_edge         = [8.125e+04 8.125e+04 1.000e+00]\n"
     ]
    },
    {
     "name": "stdout",
     "output_type": "stream",
     "text": [
      "0.3714111069404208 code_time\n"
     ]
    },
    {
     "name": "stderr",
     "output_type": "stream",
     "text": [
      "yt : [INFO     ] 2022-04-29 22:13:46,195 xlim = 0.000000 81250.000000\n",
      "yt : [INFO     ] 2022-04-29 22:13:46,196 ylim = -81250.000000 81250.000000\n",
      "yt : [INFO     ] 2022-04-29 22:13:46,197 xlim = 0.000000 81250.000000\n",
      "yt : [INFO     ] 2022-04-29 22:13:46,197 ylim = -81250.000000 81250.000000\n",
      "yt : [INFO     ] 2022-04-29 22:13:46,198 Making a fixed resolution buffer of (('boxlib', 'By')) 800 by 800\n",
      "yt : [INFO     ] 2022-04-29 22:13:46,204 Making a fixed resolution buffer of (('boxlib', 'Ex')) 800 by 800\n",
      "yt : [INFO     ] 2022-04-29 22:13:46,209 Making a fixed resolution buffer of (('boxlib', 'rho_e-')) 800 by 800\n",
      "yt : [INFO     ] 2022-04-29 22:13:46,214 Making a fixed resolution buffer of (('boxlib', 'rho_p+')) 800 by 800\n",
      "yt : [WARNING  ] 2022-04-29 22:13:46,233 Plotting ('boxlib', 'rho_p+'): Both positive and negative values. Min = 0.0 dimensionless, Max = 1.1334340964741948e-26 dimensionless.\n",
      "yt : [WARNING  ] 2022-04-29 22:13:46,233 Switching to symlog colorbar scaling.\n",
      "yt : [WARNING  ] 2022-04-29 22:13:46,312 Plotting ('boxlib', 'By'): Both positive and negative values. Min = -3.81420333572038e-21 T, Max = 3.0747118827100894e-21 T.\n",
      "yt : [WARNING  ] 2022-04-29 22:13:46,313 Switching to symlog colorbar scaling.\n",
      "yt : [WARNING  ] 2022-04-29 22:13:46,432 Plotting ('boxlib', 'rho_e-'): All negative values. Max = 0.0 dimensionless.\n",
      "yt : [WARNING  ] 2022-04-29 22:13:46,432 Switching to symlog colorbar scaling.\n",
      "yt : [INFO     ] 2022-04-29 22:13:47,373 Saving plot figures/plt062080_Slice_z_rho_p+.png\n",
      "yt : [INFO     ] 2022-04-29 22:13:47,555 Saving plot figures/plt062080_Slice_z_By.png\n",
      "yt : [INFO     ] 2022-04-29 22:13:47,721 Saving plot figures/plt062080_Slice_z_Ex.png\n",
      "yt : [INFO     ] 2022-04-29 22:13:47,907 Saving plot figures/plt062080_Slice_z_rho_e-.png\n",
      "yt : [INFO     ] 2022-04-29 22:13:48,127 Parameters: current_time              = 0.4178374953080827\n",
      "yt : [INFO     ] 2022-04-29 22:13:48,128 Parameters: domain_dimensions         = [32 64  1]\n",
      "yt : [INFO     ] 2022-04-29 22:13:48,129 Parameters: domain_left_edge          = [     0. -81250.      0.]\n",
      "yt : [INFO     ] 2022-04-29 22:13:48,130 Parameters: domain_right_edge         = [8.125e+04 8.125e+04 1.000e+00]\n"
     ]
    },
    {
     "name": "stdout",
     "output_type": "stream",
     "text": [
      "0.4178374953080827 code_time\n"
     ]
    },
    {
     "name": "stderr",
     "output_type": "stream",
     "text": [
      "yt : [INFO     ] 2022-04-29 22:13:49,308 xlim = 0.000000 81250.000000\n",
      "yt : [INFO     ] 2022-04-29 22:13:49,308 ylim = -81250.000000 81250.000000\n",
      "yt : [INFO     ] 2022-04-29 22:13:49,309 xlim = 0.000000 81250.000000\n",
      "yt : [INFO     ] 2022-04-29 22:13:49,309 ylim = -81250.000000 81250.000000\n",
      "yt : [INFO     ] 2022-04-29 22:13:49,310 Making a fixed resolution buffer of (('boxlib', 'By')) 800 by 800\n",
      "yt : [INFO     ] 2022-04-29 22:13:49,316 Making a fixed resolution buffer of (('boxlib', 'Ex')) 800 by 800\n",
      "yt : [INFO     ] 2022-04-29 22:13:49,321 Making a fixed resolution buffer of (('boxlib', 'rho_e-')) 800 by 800\n",
      "yt : [INFO     ] 2022-04-29 22:13:49,326 Making a fixed resolution buffer of (('boxlib', 'rho_p+')) 800 by 800\n",
      "yt : [WARNING  ] 2022-04-29 22:13:49,344 Plotting ('boxlib', 'rho_p+'): Both positive and negative values. Min = 0.0 dimensionless, Max = 6.476923726064455e-27 dimensionless.\n",
      "yt : [WARNING  ] 2022-04-29 22:13:49,345 Switching to symlog colorbar scaling.\n",
      "yt : [WARNING  ] 2022-04-29 22:13:49,427 Plotting ('boxlib', 'By'): Both positive and negative values. Min = -3.466165342393753e-21 T, Max = 2.9323782733820617e-21 T.\n",
      "yt : [WARNING  ] 2022-04-29 22:13:49,427 Switching to symlog colorbar scaling.\n",
      "yt : [WARNING  ] 2022-04-29 22:13:49,713 Plotting ('boxlib', 'rho_e-'): All negative values. Max = 0.0 dimensionless.\n",
      "yt : [WARNING  ] 2022-04-29 22:13:49,713 Switching to symlog colorbar scaling.\n",
      "yt : [INFO     ] 2022-04-29 22:13:50,523 Saving plot figures/plt069840_Slice_z_rho_p+.png\n",
      "yt : [INFO     ] 2022-04-29 22:13:50,701 Saving plot figures/plt069840_Slice_z_By.png\n",
      "yt : [INFO     ] 2022-04-29 22:13:50,868 Saving plot figures/plt069840_Slice_z_Ex.png\n",
      "yt : [INFO     ] 2022-04-29 22:13:51,056 Saving plot figures/plt069840_Slice_z_rho_e-.png\n",
      "yt : [INFO     ] 2022-04-29 22:13:51,279 Parameters: current_time              = 0.46426388367574456\n",
      "yt : [INFO     ] 2022-04-29 22:13:51,280 Parameters: domain_dimensions         = [32 64  1]\n",
      "yt : [INFO     ] 2022-04-29 22:13:51,280 Parameters: domain_left_edge          = [     0. -81250.      0.]\n",
      "yt : [INFO     ] 2022-04-29 22:13:51,281 Parameters: domain_right_edge         = [8.125e+04 8.125e+04 1.000e+00]\n"
     ]
    },
    {
     "name": "stdout",
     "output_type": "stream",
     "text": [
      "0.46426388367574456 code_time\n"
     ]
    },
    {
     "name": "stderr",
     "output_type": "stream",
     "text": [
      "yt : [INFO     ] 2022-04-29 22:13:52,611 xlim = 0.000000 81250.000000\n",
      "yt : [INFO     ] 2022-04-29 22:13:52,612 ylim = -81250.000000 81250.000000\n",
      "yt : [INFO     ] 2022-04-29 22:13:52,612 xlim = 0.000000 81250.000000\n",
      "yt : [INFO     ] 2022-04-29 22:13:52,613 ylim = -81250.000000 81250.000000\n",
      "yt : [INFO     ] 2022-04-29 22:13:52,614 Making a fixed resolution buffer of (('boxlib', 'By')) 800 by 800\n",
      "yt : [INFO     ] 2022-04-29 22:13:52,620 Making a fixed resolution buffer of (('boxlib', 'Ex')) 800 by 800\n",
      "yt : [INFO     ] 2022-04-29 22:13:52,625 Making a fixed resolution buffer of (('boxlib', 'rho_e-')) 800 by 800\n",
      "yt : [INFO     ] 2022-04-29 22:13:52,630 Making a fixed resolution buffer of (('boxlib', 'rho_p+')) 800 by 800\n",
      "yt : [WARNING  ] 2022-04-29 22:13:52,648 Plotting ('boxlib', 'rho_p+'): Both positive and negative values. Min = 0.0 dimensionless, Max = 4.8906020030984985e-27 dimensionless.\n",
      "yt : [WARNING  ] 2022-04-29 22:13:52,648 Switching to symlog colorbar scaling.\n",
      "yt : [WARNING  ] 2022-04-29 22:13:52,730 Plotting ('boxlib', 'By'): Both positive and negative values. Min = -3.054993147857312e-21 T, Max = 2.5186882066650678e-21 T.\n",
      "yt : [WARNING  ] 2022-04-29 22:13:52,730 Switching to symlog colorbar scaling.\n",
      "yt : [WARNING  ] 2022-04-29 22:13:52,848 Plotting ('boxlib', 'rho_e-'): All negative values. Max = 0.0 dimensionless.\n",
      "yt : [WARNING  ] 2022-04-29 22:13:52,849 Switching to symlog colorbar scaling.\n",
      "yt : [INFO     ] 2022-04-29 22:13:53,658 Saving plot figures/plt077600_Slice_z_rho_p+.png\n",
      "yt : [INFO     ] 2022-04-29 22:13:53,981 Saving plot figures/plt077600_Slice_z_By.png\n",
      "yt : [INFO     ] 2022-04-29 22:13:54,147 Saving plot figures/plt077600_Slice_z_Ex.png\n",
      "yt : [INFO     ] 2022-04-29 22:13:54,336 Saving plot figures/plt077600_Slice_z_rho_e-.png\n",
      "yt : [INFO     ] 2022-04-29 22:13:54,558 Parameters: current_time              = 0.464281832021763\n",
      "yt : [INFO     ] 2022-04-29 22:13:54,559 Parameters: domain_dimensions         = [32 64  1]\n",
      "yt : [INFO     ] 2022-04-29 22:13:54,560 Parameters: domain_left_edge          = [     0. -81250.      0.]\n",
      "yt : [INFO     ] 2022-04-29 22:13:54,561 Parameters: domain_right_edge         = [8.125e+04 8.125e+04 1.000e+00]\n"
     ]
    },
    {
     "name": "stdout",
     "output_type": "stream",
     "text": [
      "0.464281832021763 code_time\n"
     ]
    },
    {
     "name": "stderr",
     "output_type": "stream",
     "text": [
      "yt : [INFO     ] 2022-04-29 22:13:55,731 xlim = 0.000000 81250.000000\n",
      "yt : [INFO     ] 2022-04-29 22:13:55,731 ylim = -81250.000000 81250.000000\n",
      "yt : [INFO     ] 2022-04-29 22:13:55,732 xlim = 0.000000 81250.000000\n",
      "yt : [INFO     ] 2022-04-29 22:13:55,732 ylim = -81250.000000 81250.000000\n",
      "yt : [INFO     ] 2022-04-29 22:13:55,733 Making a fixed resolution buffer of (('boxlib', 'By')) 800 by 800\n",
      "yt : [INFO     ] 2022-04-29 22:13:55,739 Making a fixed resolution buffer of (('boxlib', 'Ex')) 800 by 800\n",
      "yt : [INFO     ] 2022-04-29 22:13:55,744 Making a fixed resolution buffer of (('boxlib', 'rho_e-')) 800 by 800\n",
      "yt : [INFO     ] 2022-04-29 22:13:55,749 Making a fixed resolution buffer of (('boxlib', 'rho_p+')) 800 by 800\n",
      "yt : [WARNING  ] 2022-04-29 22:13:55,767 Plotting ('boxlib', 'rho_p+'): Both positive and negative values. Min = 0.0 dimensionless, Max = 4.8888638242544634e-27 dimensionless.\n",
      "yt : [WARNING  ] 2022-04-29 22:13:55,768 Switching to symlog colorbar scaling.\n",
      "yt : [WARNING  ] 2022-04-29 22:13:55,850 Plotting ('boxlib', 'By'): Both positive and negative values. Min = -3.07700852357557e-21 T, Max = 2.521191179865807e-21 T.\n",
      "yt : [WARNING  ] 2022-04-29 22:13:55,851 Switching to symlog colorbar scaling.\n",
      "yt : [WARNING  ] 2022-04-29 22:13:55,971 Plotting ('boxlib', 'rho_e-'): All negative values. Max = 0.0 dimensionless.\n",
      "yt : [WARNING  ] 2022-04-29 22:13:55,971 Switching to symlog colorbar scaling.\n",
      "yt : [INFO     ] 2022-04-29 22:13:56,921 Saving plot figures/plt077603_Slice_z_rho_p+.png\n",
      "yt : [INFO     ] 2022-04-29 22:13:57,100 Saving plot figures/plt077603_Slice_z_By.png\n",
      "yt : [INFO     ] 2022-04-29 22:13:57,267 Saving plot figures/plt077603_Slice_z_Ex.png\n",
      "yt : [INFO     ] 2022-04-29 22:13:57,454 Saving plot figures/plt077603_Slice_z_rho_e-.png\n"
     ]
    }
   ],
   "source": [
    "field = [('boxlib','rho_e-'),('boxlib','rho_p+'),('boxlib','By'),('boxlib','Ex')]\n",
    "for ds in ts:\n",
    "    print(ds.current_time)\n",
    "    slc = yt.SlicePlot(ds, \"z\", field,origin=\"native\") # Create a sliceplot object\n",
    "    slc.set_unit(('boxlib','By'), \"nT\")\n",
    "    # slc.annotate_grids() # Show grids\n",
    "    slc.save('figures/')"
   ]
  },
  {
   "cell_type": "code",
   "execution_count": null,
   "metadata": {},
   "outputs": [],
   "source": []
  }
 ],
 "metadata": {
  "interpreter": {
   "hash": "99fb49d64534e75f57ce4ab9ef9c0c1e410197b83bfa14029e876c7bc0fba383"
  },
  "kernelspec": {
   "display_name": "Python 3.9.10 ('base')",
   "language": "python",
   "name": "python3"
  },
  "language_info": {
   "codemirror_mode": {
    "name": "ipython",
    "version": 3
   },
   "file_extension": ".py",
   "mimetype": "text/x-python",
   "name": "python",
   "nbconvert_exporter": "python",
   "pygments_lexer": "ipython3",
   "version": "3.10.4"
  },
  "orig_nbformat": 4
 },
 "nbformat": 4,
 "nbformat_minor": 2
}
