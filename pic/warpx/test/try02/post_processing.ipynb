{
 "cells": [
  {
   "cell_type": "code",
   "execution_count": 1,
   "metadata": {},
   "outputs": [
    {
     "data": {
      "text/plain": [
       "False"
      ]
     },
     "execution_count": 1,
     "metadata": {},
     "output_type": "execute_result"
    }
   ],
   "source": [
    "import yt\n",
    "yt.enable_parallelism()"
   ]
  },
  {
   "cell_type": "code",
   "execution_count": 2,
   "metadata": {},
   "outputs": [],
   "source": [
    "diag_name = 'plt'\n",
    "plotfile = './diags/plotfiles/{}??????'.format(diag_name)\n",
    "ts = yt.load(plotfile)"
   ]
  },
  {
   "cell_type": "code",
   "execution_count": 3,
   "metadata": {},
   "outputs": [
    {
     "name": "stderr",
     "output_type": "stream",
     "text": [
      "yt : [INFO     ] 2022-04-30 07:15:16,112 Parameters: current_time              = 0.0\n",
      "yt : [INFO     ] 2022-04-30 07:15:16,113 Parameters: domain_dimensions         = [32 64  8]\n",
      "yt : [INFO     ] 2022-04-30 07:15:16,114 Parameters: domain_left_edge          = [     0. -81250. -81250.]\n",
      "yt : [INFO     ] 2022-04-30 07:15:16,115 Parameters: domain_right_edge         = [81250. 81250. 81250.]\n"
     ]
    },
    {
     "data": {
      "text/plain": [
       "[('all', 'particle_cpu'),\n",
       " ('all', 'particle_id'),\n",
       " ('all', 'particle_momentum_x'),\n",
       " ('all', 'particle_momentum_y'),\n",
       " ('all', 'particle_momentum_z'),\n",
       " ('all', 'particle_position_x'),\n",
       " ('all', 'particle_position_y'),\n",
       " ('all', 'particle_position_z'),\n",
       " ('all', 'particle_weight'),\n",
       " ('boxlib', 'Bx'),\n",
       " ('boxlib', 'By'),\n",
       " ('boxlib', 'Bz'),\n",
       " ('boxlib', 'Ex'),\n",
       " ('boxlib', 'Ey'),\n",
       " ('boxlib', 'Ez'),\n",
       " ('boxlib', 'jx'),\n",
       " ('boxlib', 'jy'),\n",
       " ('boxlib', 'jz'),\n",
       " ('boxlib', 'rho'),\n",
       " ('boxlib', 'rho_e-'),\n",
       " ('boxlib', 'rho_p+'),\n",
       " ('e-', 'particle_cpu'),\n",
       " ('e-', 'particle_id'),\n",
       " ('e-', 'particle_momentum_x'),\n",
       " ('e-', 'particle_momentum_y'),\n",
       " ('e-', 'particle_momentum_z'),\n",
       " ('e-', 'particle_position_x'),\n",
       " ('e-', 'particle_position_y'),\n",
       " ('e-', 'particle_position_z'),\n",
       " ('e-', 'particle_weight'),\n",
       " ('nbody', 'particle_cpu'),\n",
       " ('nbody', 'particle_id'),\n",
       " ('nbody', 'particle_momentum_x'),\n",
       " ('nbody', 'particle_momentum_y'),\n",
       " ('nbody', 'particle_momentum_z'),\n",
       " ('nbody', 'particle_position_x'),\n",
       " ('nbody', 'particle_position_y'),\n",
       " ('nbody', 'particle_position_z'),\n",
       " ('nbody', 'particle_weight'),\n",
       " ('p+', 'particle_cpu'),\n",
       " ('p+', 'particle_id'),\n",
       " ('p+', 'particle_momentum_x'),\n",
       " ('p+', 'particle_momentum_y'),\n",
       " ('p+', 'particle_momentum_z'),\n",
       " ('p+', 'particle_position_x'),\n",
       " ('p+', 'particle_position_y'),\n",
       " ('p+', 'particle_position_z'),\n",
       " ('p+', 'particle_weight')]"
      ]
     },
     "execution_count": 3,
     "metadata": {},
     "output_type": "execute_result"
    }
   ],
   "source": [
    "ds = ts[0]\n",
    "ds.field_list"
   ]
  },
  {
   "cell_type": "code",
   "execution_count": 4,
   "metadata": {},
   "outputs": [
    {
     "name": "stderr",
     "output_type": "stream",
     "text": [
      "yt : [INFO     ] 2022-04-30 07:15:23,033 Parameters: current_time              = 0.0\n",
      "yt : [INFO     ] 2022-04-30 07:15:23,034 Parameters: domain_dimensions         = [32 64  8]\n",
      "yt : [INFO     ] 2022-04-30 07:15:23,035 Parameters: domain_left_edge          = [     0. -81250. -81250.]\n",
      "yt : [INFO     ] 2022-04-30 07:15:23,036 Parameters: domain_right_edge         = [81250. 81250. 81250.]\n"
     ]
    },
    {
     "data": {
      "text/plain": [
       "T"
      ]
     },
     "execution_count": 4,
     "metadata": {},
     "output_type": "execute_result"
    }
   ],
   "source": [
    "ds = ts[0]\n",
    "dd = ds.all_data()\n",
    "dd['boxlib','By'].units"
   ]
  },
  {
   "cell_type": "code",
   "execution_count": 5,
   "metadata": {},
   "outputs": [
    {
     "name": "stderr",
     "output_type": "stream",
     "text": [
      "yt : [INFO     ] 2022-04-30 07:15:27,685 Parameters: current_time              = 0.0\n",
      "yt : [INFO     ] 2022-04-30 07:15:27,686 Parameters: domain_dimensions         = [32 64  8]\n",
      "yt : [INFO     ] 2022-04-30 07:15:27,687 Parameters: domain_left_edge          = [     0. -81250. -81250.]\n",
      "yt : [INFO     ] 2022-04-30 07:15:27,687 Parameters: domain_right_edge         = [81250. 81250. 81250.]\n",
      "yt : [INFO     ] 2022-04-30 07:15:30,582 Saving plot figures/plt000000_2d-Profile_particle_position_x_particle_position_y_particle_weight.png\n",
      "yt : [INFO     ] 2022-04-30 07:15:31,224 Parameters: current_time              = 0.04642487746697338\n",
      "yt : [INFO     ] 2022-04-30 07:15:31,225 Parameters: domain_dimensions         = [32 64  8]\n",
      "yt : [INFO     ] 2022-04-30 07:15:31,226 Parameters: domain_left_edge          = [     0. -81250. -81250.]\n",
      "yt : [INFO     ] 2022-04-30 07:15:31,227 Parameters: domain_right_edge         = [81250. 81250. 81250.]\n",
      "yt : [INFO     ] 2022-04-30 07:15:33,407 Saving plot figures/plt007790_2d-Profile_particle_position_x_particle_position_y_particle_weight.png\n",
      "yt : [INFO     ] 2022-04-30 07:15:33,854 Parameters: current_time              = 0.09284975493394335\n",
      "yt : [INFO     ] 2022-04-30 07:15:33,854 Parameters: domain_dimensions         = [32 64  8]\n",
      "yt : [INFO     ] 2022-04-30 07:15:33,855 Parameters: domain_left_edge          = [     0. -81250. -81250.]\n",
      "yt : [INFO     ] 2022-04-30 07:15:33,856 Parameters: domain_right_edge         = [81250. 81250. 81250.]\n",
      "yt : [INFO     ] 2022-04-30 07:15:36,056 Saving plot figures/plt015580_2d-Profile_particle_position_x_particle_position_y_particle_weight.png\n",
      "yt : [INFO     ] 2022-04-30 07:15:36,486 Parameters: current_time              = 0.13927463240094656\n",
      "yt : [INFO     ] 2022-04-30 07:15:36,486 Parameters: domain_dimensions         = [32 64  8]\n",
      "yt : [INFO     ] 2022-04-30 07:15:36,487 Parameters: domain_left_edge          = [     0. -81250. -81250.]\n",
      "yt : [INFO     ] 2022-04-30 07:15:36,488 Parameters: domain_right_edge         = [81250. 81250. 81250.]\n",
      "yt : [INFO     ] 2022-04-30 07:15:38,628 Saving plot figures/plt023370_2d-Profile_particle_position_x_particle_position_y_particle_weight.png\n",
      "yt : [INFO     ] 2022-04-30 07:15:39,062 Parameters: current_time              = 0.18569950986802464\n",
      "yt : [INFO     ] 2022-04-30 07:15:39,062 Parameters: domain_dimensions         = [32 64  8]\n",
      "yt : [INFO     ] 2022-04-30 07:15:39,063 Parameters: domain_left_edge          = [     0. -81250. -81250.]\n",
      "yt : [INFO     ] 2022-04-30 07:15:39,064 Parameters: domain_right_edge         = [81250. 81250. 81250.]\n",
      "yt : [INFO     ] 2022-04-30 07:15:41,309 Saving plot figures/plt031160_2d-Profile_particle_position_x_particle_position_y_particle_weight.png\n",
      "yt : [INFO     ] 2022-04-30 07:15:41,736 Parameters: current_time              = 0.2321243873351027\n",
      "yt : [INFO     ] 2022-04-30 07:15:41,736 Parameters: domain_dimensions         = [32 64  8]\n",
      "yt : [INFO     ] 2022-04-30 07:15:41,737 Parameters: domain_left_edge          = [     0. -81250. -81250.]\n",
      "yt : [INFO     ] 2022-04-30 07:15:41,738 Parameters: domain_right_edge         = [81250. 81250. 81250.]\n",
      "yt : [INFO     ] 2022-04-30 07:15:43,860 Saving plot figures/plt038950_2d-Profile_particle_position_x_particle_position_y_particle_weight.png\n",
      "yt : [INFO     ] 2022-04-30 07:15:44,290 Parameters: current_time              = 0.27854926480204784\n",
      "yt : [INFO     ] 2022-04-30 07:15:44,291 Parameters: domain_dimensions         = [32 64  8]\n",
      "yt : [INFO     ] 2022-04-30 07:15:44,292 Parameters: domain_left_edge          = [     0. -81250. -81250.]\n",
      "yt : [INFO     ] 2022-04-30 07:15:44,293 Parameters: domain_right_edge         = [81250. 81250. 81250.]\n",
      "yt : [INFO     ] 2022-04-30 07:15:46,425 Saving plot figures/plt046740_2d-Profile_particle_position_x_particle_position_y_particle_weight.png\n",
      "yt : [INFO     ] 2022-04-30 07:15:46,987 Parameters: current_time              = 0.3249741422689097\n",
      "yt : [INFO     ] 2022-04-30 07:15:46,987 Parameters: domain_dimensions         = [32 64  8]\n",
      "yt : [INFO     ] 2022-04-30 07:15:46,988 Parameters: domain_left_edge          = [     0. -81250. -81250.]\n",
      "yt : [INFO     ] 2022-04-30 07:15:46,989 Parameters: domain_right_edge         = [81250. 81250. 81250.]\n",
      "yt : [INFO     ] 2022-04-30 07:15:49,061 Saving plot figures/plt054530_2d-Profile_particle_position_x_particle_position_y_particle_weight.png\n",
      "yt : [INFO     ] 2022-04-30 07:15:49,479 Parameters: current_time              = 0.37139901973577155\n",
      "yt : [INFO     ] 2022-04-30 07:15:49,480 Parameters: domain_dimensions         = [32 64  8]\n",
      "yt : [INFO     ] 2022-04-30 07:15:49,480 Parameters: domain_left_edge          = [     0. -81250. -81250.]\n",
      "yt : [INFO     ] 2022-04-30 07:15:49,481 Parameters: domain_right_edge         = [81250. 81250. 81250.]\n",
      "yt : [INFO     ] 2022-04-30 07:15:51,583 Saving plot figures/plt062320_2d-Profile_particle_position_x_particle_position_y_particle_weight.png\n",
      "yt : [INFO     ] 2022-04-30 07:15:51,997 Parameters: current_time              = 0.4178238972026334\n",
      "yt : [INFO     ] 2022-04-30 07:15:51,997 Parameters: domain_dimensions         = [32 64  8]\n",
      "yt : [INFO     ] 2022-04-30 07:15:51,998 Parameters: domain_left_edge          = [     0. -81250. -81250.]\n",
      "yt : [INFO     ] 2022-04-30 07:15:51,999 Parameters: domain_right_edge         = [81250. 81250. 81250.]\n",
      "yt : [INFO     ] 2022-04-30 07:15:54,226 Saving plot figures/plt070110_2d-Profile_particle_position_x_particle_position_y_particle_weight.png\n",
      "yt : [INFO     ] 2022-04-30 07:15:54,641 Parameters: current_time              = 0.46424877466949527\n",
      "yt : [INFO     ] 2022-04-30 07:15:54,642 Parameters: domain_dimensions         = [32 64  8]\n",
      "yt : [INFO     ] 2022-04-30 07:15:54,643 Parameters: domain_left_edge          = [     0. -81250. -81250.]\n",
      "yt : [INFO     ] 2022-04-30 07:15:54,643 Parameters: domain_right_edge         = [81250. 81250. 81250.]\n",
      "yt : [INFO     ] 2022-04-30 07:15:56,745 Saving plot figures/plt077900_2d-Profile_particle_position_x_particle_position_y_particle_weight.png\n",
      "yt : [INFO     ] 2022-04-30 07:15:57,172 Parameters: current_time              = 0.46428453195637603\n",
      "yt : [INFO     ] 2022-04-30 07:15:57,172 Parameters: domain_dimensions         = [32 64  8]\n",
      "yt : [INFO     ] 2022-04-30 07:15:57,173 Parameters: domain_left_edge          = [     0. -81250. -81250.]\n",
      "yt : [INFO     ] 2022-04-30 07:15:57,174 Parameters: domain_right_edge         = [81250. 81250. 81250.]\n",
      "yt : [INFO     ] 2022-04-30 07:15:59,376 Saving plot figures/plt077906_2d-Profile_particle_position_x_particle_position_y_particle_weight.png\n"
     ]
    }
   ],
   "source": [
    "for ds in ts:\n",
    "    p=  yt.ParticlePhasePlot( ds.all_data(), ('e-','particle_position_x'), ('e-','particle_position_y'), ('e-','particle_weight'))\n",
    "    p.save('figures/')"
   ]
  },
  {
   "cell_type": "code",
   "execution_count": 6,
   "metadata": {},
   "outputs": [
    {
     "name": "stderr",
     "output_type": "stream",
     "text": [
      "yt : [INFO     ] 2022-04-30 07:16:19,975 Parameters: current_time              = 0.0\n",
      "yt : [INFO     ] 2022-04-30 07:16:19,976 Parameters: domain_dimensions         = [32 64  8]\n",
      "yt : [INFO     ] 2022-04-30 07:16:19,976 Parameters: domain_left_edge          = [     0. -81250. -81250.]\n",
      "yt : [INFO     ] 2022-04-30 07:16:19,977 Parameters: domain_right_edge         = [81250. 81250. 81250.]\n"
     ]
    },
    {
     "name": "stdout",
     "output_type": "stream",
     "text": [
      "0.0 code_time\n"
     ]
    },
    {
     "name": "stderr",
     "output_type": "stream",
     "text": [
      "yt : [INFO     ] 2022-04-30 07:16:21,863 xlim = 0.000000 81250.000000\n",
      "yt : [INFO     ] 2022-04-30 07:16:21,864 ylim = -81250.000000 81250.000000\n",
      "yt : [INFO     ] 2022-04-30 07:16:21,864 xlim = 0.000000 81250.000000\n",
      "yt : [INFO     ] 2022-04-30 07:16:21,865 ylim = -81250.000000 81250.000000\n",
      "yt : [INFO     ] 2022-04-30 07:16:21,866 Making a fixed resolution buffer of (('boxlib', 'By')) 800 by 800\n",
      "yt : [INFO     ] 2022-04-30 07:16:21,872 Making a fixed resolution buffer of (('boxlib', 'Ex')) 800 by 800\n",
      "yt : [INFO     ] 2022-04-30 07:16:21,877 Making a fixed resolution buffer of (('boxlib', 'rho_e-')) 800 by 800\n",
      "yt : [INFO     ] 2022-04-30 07:16:21,882 Making a fixed resolution buffer of (('boxlib', 'rho_p+')) 800 by 800\n",
      "yt : [WARNING  ] 2022-04-30 07:16:21,896 Plotting ('boxlib', 'rho_e-'): All negative values. Max = 0.0 dimensionless.\n",
      "yt : [WARNING  ] 2022-04-30 07:16:21,896 Switching to symlog colorbar scaling.\n",
      "yt : [WARNING  ] 2022-04-30 07:16:21,971 Plotting ('boxlib', 'By'): All values = 0.0 T\n",
      "yt : [WARNING  ] 2022-04-30 07:16:21,971 Switching to linear colorbar scaling.\n",
      "yt : [WARNING  ] 2022-04-30 07:16:22,036 Plotting ('boxlib', 'rho_p+'): Both positive and negative values. Min = 0.0 dimensionless, Max = 4.563493566957294e-25 dimensionless.\n",
      "yt : [WARNING  ] 2022-04-30 07:16:22,036 Switching to symlog colorbar scaling.\n",
      "yt : [WARNING  ] 2022-04-30 07:16:22,110 Plotting ('boxlib', 'Ex'): All values = 0.0 V/m\n",
      "yt : [WARNING  ] 2022-04-30 07:16:22,110 Switching to linear colorbar scaling.\n",
      "yt : [INFO     ] 2022-04-30 07:16:23,145 Saving plot figures/plt000000_Slice_z_rho_e-.png\n",
      "yt : [INFO     ] 2022-04-30 07:16:23,314 Saving plot figures/plt000000_Slice_z_By.png\n",
      "yt : [INFO     ] 2022-04-30 07:16:23,521 Saving plot figures/plt000000_Slice_z_rho_p+.png\n",
      "yt : [INFO     ] 2022-04-30 07:16:23,697 Saving plot figures/plt000000_Slice_z_Ex.png\n",
      "yt : [INFO     ] 2022-04-30 07:16:23,949 Parameters: current_time              = 0.04642487746697338\n",
      "yt : [INFO     ] 2022-04-30 07:16:23,950 Parameters: domain_dimensions         = [32 64  8]\n",
      "yt : [INFO     ] 2022-04-30 07:16:23,951 Parameters: domain_left_edge          = [     0. -81250. -81250.]\n",
      "yt : [INFO     ] 2022-04-30 07:16:23,952 Parameters: domain_right_edge         = [81250. 81250. 81250.]\n"
     ]
    },
    {
     "name": "stdout",
     "output_type": "stream",
     "text": [
      "0.04642487746697338 code_time\n"
     ]
    },
    {
     "name": "stderr",
     "output_type": "stream",
     "text": [
      "yt : [INFO     ] 2022-04-30 07:16:26,019 xlim = 0.000000 81250.000000\n",
      "yt : [INFO     ] 2022-04-30 07:16:26,019 ylim = -81250.000000 81250.000000\n",
      "yt : [INFO     ] 2022-04-30 07:16:26,020 xlim = 0.000000 81250.000000\n",
      "yt : [INFO     ] 2022-04-30 07:16:26,020 ylim = -81250.000000 81250.000000\n",
      "yt : [INFO     ] 2022-04-30 07:16:26,021 Making a fixed resolution buffer of (('boxlib', 'By')) 800 by 800\n",
      "yt : [INFO     ] 2022-04-30 07:16:26,027 Making a fixed resolution buffer of (('boxlib', 'Ex')) 800 by 800\n",
      "yt : [INFO     ] 2022-04-30 07:16:26,032 Making a fixed resolution buffer of (('boxlib', 'rho_e-')) 800 by 800\n",
      "yt : [INFO     ] 2022-04-30 07:16:26,038 Making a fixed resolution buffer of (('boxlib', 'rho_p+')) 800 by 800\n",
      "yt : [WARNING  ] 2022-04-30 07:16:26,051 Plotting ('boxlib', 'rho_e-'): All negative values. Max = 0.0 dimensionless.\n",
      "yt : [WARNING  ] 2022-04-30 07:16:26,052 Switching to symlog colorbar scaling.\n",
      "yt : [WARNING  ] 2022-04-30 07:16:26,136 Plotting ('boxlib', 'By'): Both positive and negative values. Min = -7.747098345198197e-22 T, Max = 7.877376054106249e-22 T.\n",
      "yt : [WARNING  ] 2022-04-30 07:16:26,136 Switching to symlog colorbar scaling.\n",
      "yt : [WARNING  ] 2022-04-30 07:16:26,209 Plotting ('boxlib', 'rho_p+'): Both positive and negative values. Min = 0.0 dimensionless, Max = 3.2759469393482794e-25 dimensionless.\n",
      "yt : [WARNING  ] 2022-04-30 07:16:26,210 Switching to symlog colorbar scaling.\n",
      "yt : [WARNING  ] 2022-04-30 07:16:26,292 Plotting ('boxlib', 'Ex'): Both positive and negative values. Min = -8.986523488553597e-11 V/m, Max = 5.069430965111031e-10 V/m.\n",
      "yt : [WARNING  ] 2022-04-30 07:16:26,292 Switching to symlog colorbar scaling.\n",
      "yt : [INFO     ] 2022-04-30 07:16:27,114 Saving plot figures/plt007790_Slice_z_rho_e-.png\n",
      "yt : [INFO     ] 2022-04-30 07:16:27,425 Saving plot figures/plt007790_Slice_z_By.png\n",
      "yt : [INFO     ] 2022-04-30 07:16:27,581 Saving plot figures/plt007790_Slice_z_rho_p+.png\n",
      "yt : [INFO     ] 2022-04-30 07:16:27,756 Saving plot figures/plt007790_Slice_z_Ex.png\n",
      "yt : [INFO     ] 2022-04-30 07:16:27,964 Parameters: current_time              = 0.09284975493394335\n",
      "yt : [INFO     ] 2022-04-30 07:16:27,965 Parameters: domain_dimensions         = [32 64  8]\n",
      "yt : [INFO     ] 2022-04-30 07:16:27,966 Parameters: domain_left_edge          = [     0. -81250. -81250.]\n",
      "yt : [INFO     ] 2022-04-30 07:16:27,967 Parameters: domain_right_edge         = [81250. 81250. 81250.]\n"
     ]
    },
    {
     "name": "stdout",
     "output_type": "stream",
     "text": [
      "0.09284975493394335 code_time\n"
     ]
    },
    {
     "name": "stderr",
     "output_type": "stream",
     "text": [
      "yt : [INFO     ] 2022-04-30 07:16:29,866 xlim = 0.000000 81250.000000\n",
      "yt : [INFO     ] 2022-04-30 07:16:29,867 ylim = -81250.000000 81250.000000\n",
      "yt : [INFO     ] 2022-04-30 07:16:29,867 xlim = 0.000000 81250.000000\n",
      "yt : [INFO     ] 2022-04-30 07:16:29,868 ylim = -81250.000000 81250.000000\n",
      "yt : [INFO     ] 2022-04-30 07:16:29,869 Making a fixed resolution buffer of (('boxlib', 'By')) 800 by 800\n",
      "yt : [INFO     ] 2022-04-30 07:16:29,875 Making a fixed resolution buffer of (('boxlib', 'Ex')) 800 by 800\n",
      "yt : [INFO     ] 2022-04-30 07:16:29,880 Making a fixed resolution buffer of (('boxlib', 'rho_e-')) 800 by 800\n",
      "yt : [INFO     ] 2022-04-30 07:16:29,885 Making a fixed resolution buffer of (('boxlib', 'rho_p+')) 800 by 800\n",
      "yt : [WARNING  ] 2022-04-30 07:16:29,899 Plotting ('boxlib', 'rho_e-'): All negative values. Max = 0.0 dimensionless.\n",
      "yt : [WARNING  ] 2022-04-30 07:16:29,899 Switching to symlog colorbar scaling.\n",
      "yt : [WARNING  ] 2022-04-30 07:16:29,978 Plotting ('boxlib', 'By'): Both positive and negative values. Min = -2.8981783525112513e-22 T, Max = 2.000684536524792e-22 T.\n",
      "yt : [WARNING  ] 2022-04-30 07:16:29,978 Switching to symlog colorbar scaling.\n",
      "yt : [WARNING  ] 2022-04-30 07:16:30,041 Plotting ('boxlib', 'rho_p+'): Both positive and negative values. Min = 0.0 dimensionless, Max = 2.0129935279476732e-25 dimensionless.\n",
      "yt : [WARNING  ] 2022-04-30 07:16:30,042 Switching to symlog colorbar scaling.\n",
      "yt : [WARNING  ] 2022-04-30 07:16:30,121 Plotting ('boxlib', 'Ex'): Both positive and negative values. Min = -6.126645358637263e-11 V/m, Max = 6.646747254738409e-10 V/m.\n",
      "yt : [WARNING  ] 2022-04-30 07:16:30,121 Switching to symlog colorbar scaling.\n",
      "yt : [INFO     ] 2022-04-30 07:16:31,077 Saving plot figures/plt015580_Slice_z_rho_e-.png\n",
      "yt : [INFO     ] 2022-04-30 07:16:31,254 Saving plot figures/plt015580_Slice_z_By.png\n",
      "yt : [INFO     ] 2022-04-30 07:16:31,414 Saving plot figures/plt015580_Slice_z_rho_p+.png\n",
      "yt : [INFO     ] 2022-04-30 07:16:31,595 Saving plot figures/plt015580_Slice_z_Ex.png\n",
      "yt : [INFO     ] 2022-04-30 07:16:31,802 Parameters: current_time              = 0.13927463240094656\n",
      "yt : [INFO     ] 2022-04-30 07:16:31,803 Parameters: domain_dimensions         = [32 64  8]\n",
      "yt : [INFO     ] 2022-04-30 07:16:31,804 Parameters: domain_left_edge          = [     0. -81250. -81250.]\n",
      "yt : [INFO     ] 2022-04-30 07:16:31,804 Parameters: domain_right_edge         = [81250. 81250. 81250.]\n"
     ]
    },
    {
     "name": "stdout",
     "output_type": "stream",
     "text": [
      "0.13927463240094656 code_time\n"
     ]
    },
    {
     "name": "stderr",
     "output_type": "stream",
     "text": [
      "yt : [INFO     ] 2022-04-30 07:16:33,746 xlim = 0.000000 81250.000000\n",
      "yt : [INFO     ] 2022-04-30 07:16:33,746 ylim = -81250.000000 81250.000000\n",
      "yt : [INFO     ] 2022-04-30 07:16:33,747 xlim = 0.000000 81250.000000\n",
      "yt : [INFO     ] 2022-04-30 07:16:33,747 ylim = -81250.000000 81250.000000\n",
      "yt : [INFO     ] 2022-04-30 07:16:33,748 Making a fixed resolution buffer of (('boxlib', 'By')) 800 by 800\n",
      "yt : [INFO     ] 2022-04-30 07:16:33,754 Making a fixed resolution buffer of (('boxlib', 'Ex')) 800 by 800\n",
      "yt : [INFO     ] 2022-04-30 07:16:33,759 Making a fixed resolution buffer of (('boxlib', 'rho_e-')) 800 by 800\n",
      "yt : [INFO     ] 2022-04-30 07:16:33,764 Making a fixed resolution buffer of (('boxlib', 'rho_p+')) 800 by 800\n",
      "yt : [WARNING  ] 2022-04-30 07:16:33,778 Plotting ('boxlib', 'rho_e-'): All negative values. Max = 0.0 dimensionless.\n",
      "yt : [WARNING  ] 2022-04-30 07:16:33,778 Switching to symlog colorbar scaling.\n",
      "yt : [WARNING  ] 2022-04-30 07:16:33,858 Plotting ('boxlib', 'By'): Both positive and negative values. Min = -2.1021515676311377e-22 T, Max = 1.0459290209192879e-22 T.\n",
      "yt : [WARNING  ] 2022-04-30 07:16:33,858 Switching to symlog colorbar scaling.\n",
      "yt : [WARNING  ] 2022-04-30 07:16:33,978 Plotting ('boxlib', 'Ex'): Both positive and negative values. Min = -2.2426721292957098e-11 V/m, Max = 7.128685019091554e-10 V/m.\n",
      "yt : [WARNING  ] 2022-04-30 07:16:33,978 Switching to symlog colorbar scaling.\n",
      "yt : [INFO     ] 2022-04-30 07:16:34,919 Saving plot figures/plt023370_Slice_z_rho_e-.png\n",
      "yt : [INFO     ] 2022-04-30 07:16:35,094 Saving plot figures/plt023370_Slice_z_By.png\n",
      "yt : [INFO     ] 2022-04-30 07:16:35,257 Saving plot figures/plt023370_Slice_z_rho_p+.png\n",
      "yt : [INFO     ] 2022-04-30 07:16:35,491 Saving plot figures/plt023370_Slice_z_Ex.png\n",
      "yt : [INFO     ] 2022-04-30 07:16:35,710 Parameters: current_time              = 0.18569950986802464\n",
      "yt : [INFO     ] 2022-04-30 07:16:35,710 Parameters: domain_dimensions         = [32 64  8]\n",
      "yt : [INFO     ] 2022-04-30 07:16:35,711 Parameters: domain_left_edge          = [     0. -81250. -81250.]\n",
      "yt : [INFO     ] 2022-04-30 07:16:35,712 Parameters: domain_right_edge         = [81250. 81250. 81250.]\n"
     ]
    },
    {
     "name": "stdout",
     "output_type": "stream",
     "text": [
      "0.18569950986802464 code_time\n"
     ]
    },
    {
     "name": "stderr",
     "output_type": "stream",
     "text": [
      "yt : [INFO     ] 2022-04-30 07:16:37,781 xlim = 0.000000 81250.000000\n",
      "yt : [INFO     ] 2022-04-30 07:16:37,781 ylim = -81250.000000 81250.000000\n",
      "yt : [INFO     ] 2022-04-30 07:16:37,782 xlim = 0.000000 81250.000000\n",
      "yt : [INFO     ] 2022-04-30 07:16:37,782 ylim = -81250.000000 81250.000000\n",
      "yt : [INFO     ] 2022-04-30 07:16:37,783 Making a fixed resolution buffer of (('boxlib', 'By')) 800 by 800\n",
      "yt : [INFO     ] 2022-04-30 07:16:37,789 Making a fixed resolution buffer of (('boxlib', 'Ex')) 800 by 800\n",
      "yt : [INFO     ] 2022-04-30 07:16:37,795 Making a fixed resolution buffer of (('boxlib', 'rho_e-')) 800 by 800\n",
      "yt : [INFO     ] 2022-04-30 07:16:37,800 Making a fixed resolution buffer of (('boxlib', 'rho_p+')) 800 by 800\n",
      "yt : [WARNING  ] 2022-04-30 07:16:37,813 Plotting ('boxlib', 'rho_e-'): All negative values. Max = 0.0 dimensionless.\n",
      "yt : [WARNING  ] 2022-04-30 07:16:37,814 Switching to symlog colorbar scaling.\n",
      "yt : [WARNING  ] 2022-04-30 07:16:37,894 Plotting ('boxlib', 'By'): Both positive and negative values. Min = -2.1676166933058882e-22 T, Max = 1.4261602920287551e-22 T.\n",
      "yt : [WARNING  ] 2022-04-30 07:16:37,894 Switching to symlog colorbar scaling.\n",
      "yt : [INFO     ] 2022-04-30 07:16:38,784 Saving plot figures/plt031160_Slice_z_rho_e-.png\n",
      "yt : [INFO     ] 2022-04-30 07:16:38,954 Saving plot figures/plt031160_Slice_z_By.png\n",
      "yt : [INFO     ] 2022-04-30 07:16:39,269 Saving plot figures/plt031160_Slice_z_rho_p+.png\n",
      "yt : [INFO     ] 2022-04-30 07:16:39,524 Saving plot figures/plt031160_Slice_z_Ex.png\n",
      "yt : [INFO     ] 2022-04-30 07:16:39,753 Parameters: current_time              = 0.2321243873351027\n",
      "yt : [INFO     ] 2022-04-30 07:16:39,754 Parameters: domain_dimensions         = [32 64  8]\n",
      "yt : [INFO     ] 2022-04-30 07:16:39,755 Parameters: domain_left_edge          = [     0. -81250. -81250.]\n",
      "yt : [INFO     ] 2022-04-30 07:16:39,755 Parameters: domain_right_edge         = [81250. 81250. 81250.]\n"
     ]
    },
    {
     "name": "stdout",
     "output_type": "stream",
     "text": [
      "0.2321243873351027 code_time\n"
     ]
    },
    {
     "name": "stderr",
     "output_type": "stream",
     "text": [
      "yt : [INFO     ] 2022-04-30 07:16:41,669 xlim = 0.000000 81250.000000\n",
      "yt : [INFO     ] 2022-04-30 07:16:41,669 ylim = -81250.000000 81250.000000\n",
      "yt : [INFO     ] 2022-04-30 07:16:41,670 xlim = 0.000000 81250.000000\n",
      "yt : [INFO     ] 2022-04-30 07:16:41,670 ylim = -81250.000000 81250.000000\n",
      "yt : [INFO     ] 2022-04-30 07:16:41,671 Making a fixed resolution buffer of (('boxlib', 'By')) 800 by 800\n",
      "yt : [INFO     ] 2022-04-30 07:16:41,677 Making a fixed resolution buffer of (('boxlib', 'Ex')) 800 by 800\n",
      "yt : [INFO     ] 2022-04-30 07:16:41,682 Making a fixed resolution buffer of (('boxlib', 'rho_e-')) 800 by 800\n",
      "yt : [INFO     ] 2022-04-30 07:16:41,687 Making a fixed resolution buffer of (('boxlib', 'rho_p+')) 800 by 800\n",
      "yt : [WARNING  ] 2022-04-30 07:16:41,701 Plotting ('boxlib', 'rho_e-'): All negative values. Max = 0.0 dimensionless.\n",
      "yt : [WARNING  ] 2022-04-30 07:16:41,701 Switching to symlog colorbar scaling.\n",
      "yt : [WARNING  ] 2022-04-30 07:16:41,783 Plotting ('boxlib', 'By'): Both positive and negative values. Min = -2.055900340239488e-22 T, Max = 1.2489277525697568e-22 T.\n",
      "yt : [WARNING  ] 2022-04-30 07:16:41,784 Switching to symlog colorbar scaling.\n",
      "yt : [WARNING  ] 2022-04-30 07:16:41,849 Plotting ('boxlib', 'rho_p+'): Both positive and negative values. Min = 0.0 dimensionless, Max = 7.628015054780044e-26 dimensionless.\n",
      "yt : [WARNING  ] 2022-04-30 07:16:41,849 Switching to symlog colorbar scaling.\n",
      "yt : [INFO     ] 2022-04-30 07:16:42,867 Saving plot figures/plt038950_Slice_z_rho_e-.png\n",
      "yt : [INFO     ] 2022-04-30 07:16:43,038 Saving plot figures/plt038950_Slice_z_By.png\n",
      "yt : [INFO     ] 2022-04-30 07:16:43,201 Saving plot figures/plt038950_Slice_z_rho_p+.png\n",
      "yt : [INFO     ] 2022-04-30 07:16:43,376 Saving plot figures/plt038950_Slice_z_Ex.png\n",
      "yt : [INFO     ] 2022-04-30 07:16:43,605 Parameters: current_time              = 0.27854926480204784\n",
      "yt : [INFO     ] 2022-04-30 07:16:43,606 Parameters: domain_dimensions         = [32 64  8]\n",
      "yt : [INFO     ] 2022-04-30 07:16:43,607 Parameters: domain_left_edge          = [     0. -81250. -81250.]\n",
      "yt : [INFO     ] 2022-04-30 07:16:43,608 Parameters: domain_right_edge         = [81250. 81250. 81250.]\n"
     ]
    },
    {
     "name": "stdout",
     "output_type": "stream",
     "text": [
      "0.27854926480204784 code_time\n"
     ]
    },
    {
     "name": "stderr",
     "output_type": "stream",
     "text": [
      "yt : [INFO     ] 2022-04-30 07:16:45,497 xlim = 0.000000 81250.000000\n",
      "yt : [INFO     ] 2022-04-30 07:16:45,498 ylim = -81250.000000 81250.000000\n",
      "yt : [INFO     ] 2022-04-30 07:16:45,498 xlim = 0.000000 81250.000000\n",
      "yt : [INFO     ] 2022-04-30 07:16:45,499 ylim = -81250.000000 81250.000000\n",
      "yt : [INFO     ] 2022-04-30 07:16:45,500 Making a fixed resolution buffer of (('boxlib', 'By')) 800 by 800\n",
      "yt : [INFO     ] 2022-04-30 07:16:45,506 Making a fixed resolution buffer of (('boxlib', 'Ex')) 800 by 800\n",
      "yt : [INFO     ] 2022-04-30 07:16:45,511 Making a fixed resolution buffer of (('boxlib', 'rho_e-')) 800 by 800\n",
      "yt : [INFO     ] 2022-04-30 07:16:45,516 Making a fixed resolution buffer of (('boxlib', 'rho_p+')) 800 by 800\n",
      "yt : [WARNING  ] 2022-04-30 07:16:45,530 Plotting ('boxlib', 'rho_e-'): All negative values. Max = 0.0 dimensionless.\n",
      "yt : [WARNING  ] 2022-04-30 07:16:45,530 Switching to symlog colorbar scaling.\n",
      "yt : [WARNING  ] 2022-04-30 07:16:45,610 Plotting ('boxlib', 'By'): Both positive and negative values. Min = -1.7044045204911446e-22 T, Max = 7.353189135285988e-23 T.\n",
      "yt : [WARNING  ] 2022-04-30 07:16:45,610 Switching to symlog colorbar scaling.\n",
      "yt : [INFO     ] 2022-04-30 07:16:46,652 Saving plot figures/plt046740_Slice_z_rho_e-.png\n",
      "yt : [INFO     ] 2022-04-30 07:16:46,821 Saving plot figures/plt046740_Slice_z_By.png\n",
      "yt : [INFO     ] 2022-04-30 07:16:46,986 Saving plot figures/plt046740_Slice_z_rho_p+.png\n",
      "yt : [INFO     ] 2022-04-30 07:16:47,237 Saving plot figures/plt046740_Slice_z_Ex.png\n",
      "yt : [INFO     ] 2022-04-30 07:16:47,617 Parameters: current_time              = 0.3249741422689097\n",
      "yt : [INFO     ] 2022-04-30 07:16:47,618 Parameters: domain_dimensions         = [32 64  8]\n",
      "yt : [INFO     ] 2022-04-30 07:16:47,618 Parameters: domain_left_edge          = [     0. -81250. -81250.]\n",
      "yt : [INFO     ] 2022-04-30 07:16:47,619 Parameters: domain_right_edge         = [81250. 81250. 81250.]\n"
     ]
    },
    {
     "name": "stdout",
     "output_type": "stream",
     "text": [
      "0.3249741422689097 code_time\n"
     ]
    },
    {
     "name": "stderr",
     "output_type": "stream",
     "text": [
      "yt : [INFO     ] 2022-04-30 07:16:49,509 xlim = 0.000000 81250.000000\n",
      "yt : [INFO     ] 2022-04-30 07:16:49,509 ylim = -81250.000000 81250.000000\n",
      "yt : [INFO     ] 2022-04-30 07:16:49,510 xlim = 0.000000 81250.000000\n",
      "yt : [INFO     ] 2022-04-30 07:16:49,510 ylim = -81250.000000 81250.000000\n",
      "yt : [INFO     ] 2022-04-30 07:16:49,511 Making a fixed resolution buffer of (('boxlib', 'By')) 800 by 800\n",
      "yt : [INFO     ] 2022-04-30 07:16:49,517 Making a fixed resolution buffer of (('boxlib', 'Ex')) 800 by 800\n",
      "yt : [INFO     ] 2022-04-30 07:16:49,522 Making a fixed resolution buffer of (('boxlib', 'rho_e-')) 800 by 800\n",
      "yt : [INFO     ] 2022-04-30 07:16:49,527 Making a fixed resolution buffer of (('boxlib', 'rho_p+')) 800 by 800\n",
      "yt : [WARNING  ] 2022-04-30 07:16:49,541 Plotting ('boxlib', 'rho_e-'): All negative values. Max = 0.0 dimensionless.\n",
      "yt : [WARNING  ] 2022-04-30 07:16:49,541 Switching to symlog colorbar scaling.\n",
      "yt : [WARNING  ] 2022-04-30 07:16:49,621 Plotting ('boxlib', 'By'): Both positive and negative values. Min = -1.2116483874807787e-22 T, Max = 4.316640866738958e-24 T.\n",
      "yt : [WARNING  ] 2022-04-30 07:16:49,621 Switching to symlog colorbar scaling.\n",
      "yt : [WARNING  ] 2022-04-30 07:16:49,699 Plotting ('boxlib', 'rho_p+'): Both positive and negative values. Min = 0.0 dimensionless, Max = 2.4805670103550655e-26 dimensionless.\n",
      "yt : [WARNING  ] 2022-04-30 07:16:49,699 Switching to symlog colorbar scaling.\n",
      "yt : [INFO     ] 2022-04-30 07:16:50,727 Saving plot figures/plt054530_Slice_z_rho_e-.png\n",
      "yt : [INFO     ] 2022-04-30 07:16:50,899 Saving plot figures/plt054530_Slice_z_By.png\n",
      "yt : [INFO     ] 2022-04-30 07:16:51,071 Saving plot figures/plt054530_Slice_z_rho_p+.png\n",
      "yt : [INFO     ] 2022-04-30 07:16:51,249 Saving plot figures/plt054530_Slice_z_Ex.png\n",
      "yt : [INFO     ] 2022-04-30 07:16:51,478 Parameters: current_time              = 0.37139901973577155\n",
      "yt : [INFO     ] 2022-04-30 07:16:51,479 Parameters: domain_dimensions         = [32 64  8]\n",
      "yt : [INFO     ] 2022-04-30 07:16:51,479 Parameters: domain_left_edge          = [     0. -81250. -81250.]\n",
      "yt : [INFO     ] 2022-04-30 07:16:51,480 Parameters: domain_right_edge         = [81250. 81250. 81250.]\n"
     ]
    },
    {
     "name": "stdout",
     "output_type": "stream",
     "text": [
      "0.37139901973577155 code_time\n"
     ]
    },
    {
     "name": "stderr",
     "output_type": "stream",
     "text": [
      "yt : [INFO     ] 2022-04-30 07:16:53,408 xlim = 0.000000 81250.000000\n",
      "yt : [INFO     ] 2022-04-30 07:16:53,408 ylim = -81250.000000 81250.000000\n",
      "yt : [INFO     ] 2022-04-30 07:16:53,409 xlim = 0.000000 81250.000000\n",
      "yt : [INFO     ] 2022-04-30 07:16:53,409 ylim = -81250.000000 81250.000000\n",
      "yt : [INFO     ] 2022-04-30 07:16:53,410 Making a fixed resolution buffer of (('boxlib', 'By')) 800 by 800\n",
      "yt : [INFO     ] 2022-04-30 07:16:53,416 Making a fixed resolution buffer of (('boxlib', 'Ex')) 800 by 800\n",
      "yt : [INFO     ] 2022-04-30 07:16:53,421 Making a fixed resolution buffer of (('boxlib', 'rho_e-')) 800 by 800\n",
      "yt : [INFO     ] 2022-04-30 07:16:53,427 Making a fixed resolution buffer of (('boxlib', 'rho_p+')) 800 by 800\n",
      "yt : [WARNING  ] 2022-04-30 07:16:53,440 Plotting ('boxlib', 'rho_e-'): All negative values. Max = 0.0 dimensionless.\n",
      "yt : [WARNING  ] 2022-04-30 07:16:53,440 Switching to symlog colorbar scaling.\n",
      "yt : [WARNING  ] 2022-04-30 07:16:53,520 Plotting ('boxlib', 'By'): Both positive and negative values. Min = -1.0453464805622452e-22 T, Max = 2.0955217820268206e-23 T.\n",
      "yt : [WARNING  ] 2022-04-30 07:16:53,521 Switching to symlog colorbar scaling.\n",
      "yt : [WARNING  ] 2022-04-30 07:16:53,590 Plotting ('boxlib', 'rho_p+'): Both positive and negative values. Min = 0.0 dimensionless, Max = 1.4476701583296888e-26 dimensionless.\n",
      "yt : [WARNING  ] 2022-04-30 07:16:53,590 Switching to symlog colorbar scaling.\n",
      "yt : [INFO     ] 2022-04-30 07:16:54,604 Saving plot figures/plt062320_Slice_z_rho_e-.png\n",
      "yt : [INFO     ] 2022-04-30 07:16:54,774 Saving plot figures/plt062320_Slice_z_By.png\n",
      "yt : [INFO     ] 2022-04-30 07:16:54,946 Saving plot figures/plt062320_Slice_z_rho_p+.png\n",
      "yt : [INFO     ] 2022-04-30 07:16:55,126 Saving plot figures/plt062320_Slice_z_Ex.png\n",
      "yt : [INFO     ] 2022-04-30 07:16:55,356 Parameters: current_time              = 0.4178238972026334\n",
      "yt : [INFO     ] 2022-04-30 07:16:55,357 Parameters: domain_dimensions         = [32 64  8]\n",
      "yt : [INFO     ] 2022-04-30 07:16:55,357 Parameters: domain_left_edge          = [     0. -81250. -81250.]\n",
      "yt : [INFO     ] 2022-04-30 07:16:55,358 Parameters: domain_right_edge         = [81250. 81250. 81250.]\n"
     ]
    },
    {
     "name": "stdout",
     "output_type": "stream",
     "text": [
      "0.4178238972026334 code_time\n"
     ]
    },
    {
     "name": "stderr",
     "output_type": "stream",
     "text": [
      "yt : [INFO     ] 2022-04-30 07:16:57,256 xlim = 0.000000 81250.000000\n",
      "yt : [INFO     ] 2022-04-30 07:16:57,256 ylim = -81250.000000 81250.000000\n",
      "yt : [INFO     ] 2022-04-30 07:16:57,257 xlim = 0.000000 81250.000000\n",
      "yt : [INFO     ] 2022-04-30 07:16:57,257 ylim = -81250.000000 81250.000000\n",
      "yt : [INFO     ] 2022-04-30 07:16:57,258 Making a fixed resolution buffer of (('boxlib', 'By')) 800 by 800\n",
      "yt : [INFO     ] 2022-04-30 07:16:57,264 Making a fixed resolution buffer of (('boxlib', 'Ex')) 800 by 800\n",
      "yt : [INFO     ] 2022-04-30 07:16:57,269 Making a fixed resolution buffer of (('boxlib', 'rho_e-')) 800 by 800\n",
      "yt : [INFO     ] 2022-04-30 07:16:57,274 Making a fixed resolution buffer of (('boxlib', 'rho_p+')) 800 by 800\n",
      "yt : [WARNING  ] 2022-04-30 07:16:57,288 Plotting ('boxlib', 'rho_e-'): All negative values. Max = 0.0 dimensionless.\n",
      "yt : [WARNING  ] 2022-04-30 07:16:57,288 Switching to symlog colorbar scaling.\n",
      "yt : [WARNING  ] 2022-04-30 07:16:57,369 Plotting ('boxlib', 'By'): Both positive and negative values. Min = -1.2788066083415719e-22 T, Max = 8.076190465209823e-23 T.\n",
      "yt : [WARNING  ] 2022-04-30 07:16:57,370 Switching to symlog colorbar scaling.\n",
      "yt : [WARNING  ] 2022-04-30 07:16:57,441 Plotting ('boxlib', 'rho_p+'): Both positive and negative values. Min = 0.0 dimensionless, Max = 8.565675586387996e-27 dimensionless.\n",
      "yt : [WARNING  ] 2022-04-30 07:16:57,442 Switching to symlog colorbar scaling.\n",
      "yt : [INFO     ] 2022-04-30 07:16:58,456 Saving plot figures/plt070110_Slice_z_rho_e-.png\n",
      "yt : [INFO     ] 2022-04-30 07:16:58,628 Saving plot figures/plt070110_Slice_z_By.png\n",
      "yt : [INFO     ] 2022-04-30 07:16:58,790 Saving plot figures/plt070110_Slice_z_rho_p+.png\n",
      "yt : [INFO     ] 2022-04-30 07:16:58,967 Saving plot figures/plt070110_Slice_z_Ex.png\n",
      "yt : [INFO     ] 2022-04-30 07:16:59,196 Parameters: current_time              = 0.46424877466949527\n",
      "yt : [INFO     ] 2022-04-30 07:16:59,197 Parameters: domain_dimensions         = [32 64  8]\n",
      "yt : [INFO     ] 2022-04-30 07:16:59,197 Parameters: domain_left_edge          = [     0. -81250. -81250.]\n",
      "yt : [INFO     ] 2022-04-30 07:16:59,198 Parameters: domain_right_edge         = [81250. 81250. 81250.]\n"
     ]
    },
    {
     "name": "stdout",
     "output_type": "stream",
     "text": [
      "0.46424877466949527 code_time\n"
     ]
    },
    {
     "name": "stderr",
     "output_type": "stream",
     "text": [
      "yt : [INFO     ] 2022-04-30 07:17:01,264 xlim = 0.000000 81250.000000\n",
      "yt : [INFO     ] 2022-04-30 07:17:01,264 ylim = -81250.000000 81250.000000\n",
      "yt : [INFO     ] 2022-04-30 07:17:01,265 xlim = 0.000000 81250.000000\n",
      "yt : [INFO     ] 2022-04-30 07:17:01,265 ylim = -81250.000000 81250.000000\n",
      "yt : [INFO     ] 2022-04-30 07:17:01,266 Making a fixed resolution buffer of (('boxlib', 'By')) 800 by 800\n",
      "yt : [INFO     ] 2022-04-30 07:17:01,272 Making a fixed resolution buffer of (('boxlib', 'Ex')) 800 by 800\n",
      "yt : [INFO     ] 2022-04-30 07:17:01,277 Making a fixed resolution buffer of (('boxlib', 'rho_e-')) 800 by 800\n",
      "yt : [INFO     ] 2022-04-30 07:17:01,282 Making a fixed resolution buffer of (('boxlib', 'rho_p+')) 800 by 800\n",
      "yt : [WARNING  ] 2022-04-30 07:17:01,296 Plotting ('boxlib', 'rho_e-'): All negative values. Max = 0.0 dimensionless.\n",
      "yt : [WARNING  ] 2022-04-30 07:17:01,296 Switching to symlog colorbar scaling.\n",
      "yt : [WARNING  ] 2022-04-30 07:17:01,378 Plotting ('boxlib', 'By'): Both positive and negative values. Min = -1.22040311806793e-22 T, Max = 9.390665350309982e-23 T.\n",
      "yt : [WARNING  ] 2022-04-30 07:17:01,378 Switching to symlog colorbar scaling.\n",
      "yt : [WARNING  ] 2022-04-30 07:17:01,451 Plotting ('boxlib', 'rho_p+'): Both positive and negative values. Min = 0.0 dimensionless, Max = 5.249972276067611e-27 dimensionless.\n",
      "yt : [WARNING  ] 2022-04-30 07:17:01,451 Switching to symlog colorbar scaling.\n",
      "yt : [INFO     ] 2022-04-30 07:17:02,463 Saving plot figures/plt077900_Slice_z_rho_e-.png\n",
      "yt : [INFO     ] 2022-04-30 07:17:02,635 Saving plot figures/plt077900_Slice_z_By.png\n",
      "yt : [INFO     ] 2022-04-30 07:17:02,799 Saving plot figures/plt077900_Slice_z_rho_p+.png\n",
      "yt : [INFO     ] 2022-04-30 07:17:02,974 Saving plot figures/plt077900_Slice_z_Ex.png\n",
      "yt : [INFO     ] 2022-04-30 07:17:03,203 Parameters: current_time              = 0.46428453195637603\n",
      "yt : [INFO     ] 2022-04-30 07:17:03,204 Parameters: domain_dimensions         = [32 64  8]\n",
      "yt : [INFO     ] 2022-04-30 07:17:03,205 Parameters: domain_left_edge          = [     0. -81250. -81250.]\n",
      "yt : [INFO     ] 2022-04-30 07:17:03,206 Parameters: domain_right_edge         = [81250. 81250. 81250.]\n"
     ]
    },
    {
     "name": "stdout",
     "output_type": "stream",
     "text": [
      "0.46428453195637603 code_time\n"
     ]
    },
    {
     "name": "stderr",
     "output_type": "stream",
     "text": [
      "yt : [INFO     ] 2022-04-30 07:17:05,087 xlim = 0.000000 81250.000000\n",
      "yt : [INFO     ] 2022-04-30 07:17:05,087 ylim = -81250.000000 81250.000000\n",
      "yt : [INFO     ] 2022-04-30 07:17:05,088 xlim = 0.000000 81250.000000\n",
      "yt : [INFO     ] 2022-04-30 07:17:05,088 ylim = -81250.000000 81250.000000\n",
      "yt : [INFO     ] 2022-04-30 07:17:05,089 Making a fixed resolution buffer of (('boxlib', 'By')) 800 by 800\n",
      "yt : [INFO     ] 2022-04-30 07:17:05,095 Making a fixed resolution buffer of (('boxlib', 'Ex')) 800 by 800\n",
      "yt : [INFO     ] 2022-04-30 07:17:05,100 Making a fixed resolution buffer of (('boxlib', 'rho_e-')) 800 by 800\n",
      "yt : [INFO     ] 2022-04-30 07:17:05,105 Making a fixed resolution buffer of (('boxlib', 'rho_p+')) 800 by 800\n",
      "yt : [WARNING  ] 2022-04-30 07:17:05,119 Plotting ('boxlib', 'rho_e-'): All negative values. Max = 0.0 dimensionless.\n",
      "yt : [WARNING  ] 2022-04-30 07:17:05,119 Switching to symlog colorbar scaling.\n",
      "yt : [WARNING  ] 2022-04-30 07:17:05,201 Plotting ('boxlib', 'By'): Both positive and negative values. Min = -1.2173118789926623e-22 T, Max = 9.311170855005271e-23 T.\n",
      "yt : [WARNING  ] 2022-04-30 07:17:05,202 Switching to symlog colorbar scaling.\n",
      "yt : [WARNING  ] 2022-04-30 07:17:05,274 Plotting ('boxlib', 'rho_p+'): Both positive and negative values. Min = 0.0 dimensionless, Max = 5.249569596725338e-27 dimensionless.\n",
      "yt : [WARNING  ] 2022-04-30 07:17:05,275 Switching to symlog colorbar scaling.\n",
      "yt : [INFO     ] 2022-04-30 07:17:06,300 Saving plot figures/plt077906_Slice_z_rho_e-.png\n",
      "yt : [INFO     ] 2022-04-30 07:17:06,470 Saving plot figures/plt077906_Slice_z_By.png\n",
      "yt : [INFO     ] 2022-04-30 07:17:06,635 Saving plot figures/plt077906_Slice_z_rho_p+.png\n",
      "yt : [INFO     ] 2022-04-30 07:17:06,810 Saving plot figures/plt077906_Slice_z_Ex.png\n"
     ]
    }
   ],
   "source": [
    "field = [('boxlib','rho_e-'),('boxlib','rho_p+'),('boxlib','By'),('boxlib','Ex')]\n",
    "for ds in ts:\n",
    "    print(ds.current_time)\n",
    "    slc = yt.SlicePlot(ds, \"z\", field,origin=\"native\") # Create a sliceplot object\n",
    "    slc.set_unit(('boxlib','By'), \"nT\")\n",
    "    # slc.annotate_grids() # Show grids\n",
    "    slc.save('figures/')"
   ]
  },
  {
   "cell_type": "code",
   "execution_count": null,
   "metadata": {},
   "outputs": [],
   "source": []
  }
 ],
 "metadata": {
  "interpreter": {
   "hash": "99fb49d64534e75f57ce4ab9ef9c0c1e410197b83bfa14029e876c7bc0fba383"
  },
  "kernelspec": {
   "display_name": "Python 3.9.10 ('base')",
   "language": "python",
   "name": "python3"
  },
  "language_info": {
   "codemirror_mode": {
    "name": "ipython",
    "version": 3
   },
   "file_extension": ".py",
   "mimetype": "text/x-python",
   "name": "python",
   "nbconvert_exporter": "python",
   "pygments_lexer": "ipython3",
   "version": "3.10.4"
  },
  "orig_nbformat": 4
 },
 "nbformat": 4,
 "nbformat_minor": 2
}
