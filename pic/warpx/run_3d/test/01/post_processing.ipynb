{
 "cells": [
  {
   "cell_type": "code",
   "execution_count": 1,
   "metadata": {},
   "outputs": [
    {
     "name": "stderr",
     "output_type": "stream",
     "text": [
      "yt : [INFO     ] 2022-05-16 09:33:12,457 mpi4py was not found. Disabling parallel computation\n"
     ]
    }
   ],
   "source": [
    "import yt\n",
    "yt.enable_parallelism()"
   ]
  },
  {
   "cell_type": "code",
   "execution_count": 2,
   "metadata": {},
   "outputs": [],
   "source": [
    "diag_name = 'plt'\n",
    "plotfile = './diags/plotfiles/{}??????'.format(diag_name)\n",
    "ts = yt.load(plotfile)"
   ]
  },
  {
   "cell_type": "code",
   "execution_count": 3,
   "metadata": {},
   "outputs": [
    {
     "name": "stderr",
     "output_type": "stream",
     "text": [
      "yt : [INFO     ] 2022-05-16 09:35:05,595 Parameters: current_time              = 0.0\n",
      "yt : [INFO     ] 2022-05-16 09:35:05,596 Parameters: domain_dimensions         = [ 64 128   1]\n",
      "yt : [INFO     ] 2022-05-16 09:35:05,597 Parameters: domain_left_edge          = [     0.         -63647.09434703      0.        ]\n",
      "yt : [INFO     ] 2022-05-16 09:35:05,598 Parameters: domain_right_edge         = [6.36470943e+04 6.36470943e+04 1.00000000e+00]\n"
     ]
    },
    {
     "data": {
      "text/plain": [
       "[('all', 'particle_cpu'),\n",
       " ('all', 'particle_id'),\n",
       " ('all', 'particle_momentum_x'),\n",
       " ('all', 'particle_momentum_y'),\n",
       " ('all', 'particle_momentum_z'),\n",
       " ('all', 'particle_position_x'),\n",
       " ('all', 'particle_position_y'),\n",
       " ('all', 'particle_weight'),\n",
       " ('boxlib', 'Bx'),\n",
       " ('boxlib', 'By'),\n",
       " ('boxlib', 'Bz'),\n",
       " ('boxlib', 'Ex'),\n",
       " ('boxlib', 'Ey'),\n",
       " ('boxlib', 'Ez'),\n",
       " ('boxlib', 'jx'),\n",
       " ('boxlib', 'jy'),\n",
       " ('boxlib', 'jz'),\n",
       " ('boxlib', 'rho'),\n",
       " ('boxlib', 'rho_e-'),\n",
       " ('boxlib', 'rho_p+'),\n",
       " ('e-', 'particle_cpu'),\n",
       " ('e-', 'particle_id'),\n",
       " ('e-', 'particle_momentum_x'),\n",
       " ('e-', 'particle_momentum_y'),\n",
       " ('e-', 'particle_momentum_z'),\n",
       " ('e-', 'particle_position_x'),\n",
       " ('e-', 'particle_position_y'),\n",
       " ('e-', 'particle_weight'),\n",
       " ('nbody', 'particle_cpu'),\n",
       " ('nbody', 'particle_id'),\n",
       " ('nbody', 'particle_momentum_x'),\n",
       " ('nbody', 'particle_momentum_y'),\n",
       " ('nbody', 'particle_momentum_z'),\n",
       " ('nbody', 'particle_position_x'),\n",
       " ('nbody', 'particle_position_y'),\n",
       " ('nbody', 'particle_weight'),\n",
       " ('p+', 'particle_cpu'),\n",
       " ('p+', 'particle_id'),\n",
       " ('p+', 'particle_momentum_x'),\n",
       " ('p+', 'particle_momentum_y'),\n",
       " ('p+', 'particle_momentum_z'),\n",
       " ('p+', 'particle_position_x'),\n",
       " ('p+', 'particle_position_y'),\n",
       " ('p+', 'particle_weight')]"
      ]
     },
     "execution_count": 3,
     "metadata": {},
     "output_type": "execute_result"
    }
   ],
   "source": [
    "ds = ts[0]\n",
    "ds.field_list"
   ]
  },
  {
   "cell_type": "code",
   "execution_count": 4,
   "metadata": {},
   "outputs": [
    {
     "name": "stderr",
     "output_type": "stream",
     "text": [
      "yt : [INFO     ] 2022-05-16 09:35:13,170 Parameters: current_time              = 0.0\n",
      "yt : [INFO     ] 2022-05-16 09:35:13,171 Parameters: domain_dimensions         = [ 64 128   1]\n",
      "yt : [INFO     ] 2022-05-16 09:35:13,171 Parameters: domain_left_edge          = [     0.         -63647.09434703      0.        ]\n",
      "yt : [INFO     ] 2022-05-16 09:35:13,172 Parameters: domain_right_edge         = [6.36470943e+04 6.36470943e+04 1.00000000e+00]\n"
     ]
    },
    {
     "data": {
      "text/plain": [
       "T"
      ]
     },
     "execution_count": 4,
     "metadata": {},
     "output_type": "execute_result"
    }
   ],
   "source": [
    "ds = ts[0]\n",
    "dd = ds.all_data()\n",
    "dd['boxlib','By'].units"
   ]
  },
  {
   "cell_type": "code",
   "execution_count": 5,
   "metadata": {},
   "outputs": [
    {
     "name": "stderr",
     "output_type": "stream",
     "text": [
      "yt : [INFO     ] 2022-05-16 09:35:22,855 Parameters: current_time              = 0.0\n",
      "yt : [INFO     ] 2022-05-16 09:35:22,856 Parameters: domain_dimensions         = [ 64 128   1]\n",
      "yt : [INFO     ] 2022-05-16 09:35:22,857 Parameters: domain_left_edge          = [     0.         -63647.09434703      0.        ]\n",
      "yt : [INFO     ] 2022-05-16 09:35:22,857 Parameters: domain_right_edge         = [6.36470943e+04 6.36470943e+04 1.00000000e+00]\n",
      "yt : [INFO     ] 2022-05-16 09:35:24,728 Saving plot figures/plt000000_2d-Profile_particle_position_x_particle_position_y_particle_weight.png\n",
      "yt : [INFO     ] 2022-05-16 09:35:25,732 Parameters: current_time              = 0.07955747039633462\n",
      "yt : [INFO     ] 2022-05-16 09:35:25,733 Parameters: domain_dimensions         = [ 64 128   1]\n",
      "yt : [INFO     ] 2022-05-16 09:35:25,734 Parameters: domain_left_edge          = [     0.         -63647.09434703      0.        ]\n",
      "yt : [INFO     ] 2022-05-16 09:35:25,735 Parameters: domain_right_edge         = [6.36470943e+04 6.36470943e+04 1.00000000e+00]\n",
      "yt : [INFO     ] 2022-05-16 09:35:27,468 Saving plot figures/plt033951_2d-Profile_particle_position_x_particle_position_y_particle_weight.png\n",
      "yt : [INFO     ] 2022-05-16 09:35:27,921 Parameters: current_time              = 0.1591149407925211\n",
      "yt : [INFO     ] 2022-05-16 09:35:27,921 Parameters: domain_dimensions         = [ 64 128   1]\n",
      "yt : [INFO     ] 2022-05-16 09:35:27,922 Parameters: domain_left_edge          = [     0.         -63647.09434703      0.        ]\n",
      "yt : [INFO     ] 2022-05-16 09:35:27,923 Parameters: domain_right_edge         = [6.36470943e+04 6.36470943e+04 1.00000000e+00]\n",
      "yt : [INFO     ] 2022-05-16 09:35:29,463 Saving plot figures/plt067902_2d-Profile_particle_position_x_particle_position_y_particle_weight.png\n",
      "yt : [INFO     ] 2022-05-16 09:35:29,877 Parameters: current_time              = 0.23867241118870755\n",
      "yt : [INFO     ] 2022-05-16 09:35:29,877 Parameters: domain_dimensions         = [ 64 128   1]\n",
      "yt : [INFO     ] 2022-05-16 09:35:29,878 Parameters: domain_left_edge          = [     0.         -63647.09434703      0.        ]\n",
      "yt : [INFO     ] 2022-05-16 09:35:29,879 Parameters: domain_right_edge         = [6.36470943e+04 6.36470943e+04 1.00000000e+00]\n",
      "yt : [INFO     ] 2022-05-16 09:35:31,355 Saving plot figures/plt101853_2d-Profile_particle_position_x_particle_position_y_particle_weight.png\n",
      "yt : [INFO     ] 2022-05-16 09:35:31,877 Parameters: current_time              = 0.31822988158570215\n",
      "yt : [INFO     ] 2022-05-16 09:35:31,877 Parameters: domain_dimensions         = [ 64 128   1]\n",
      "yt : [INFO     ] 2022-05-16 09:35:31,878 Parameters: domain_left_edge          = [     0.         -63647.09434703      0.        ]\n",
      "yt : [INFO     ] 2022-05-16 09:35:31,879 Parameters: domain_right_edge         = [6.36470943e+04 6.36470943e+04 1.00000000e+00]\n",
      "yt : [INFO     ] 2022-05-16 09:35:33,346 Saving plot figures/plt135804_2d-Profile_particle_position_x_particle_position_y_particle_weight.png\n",
      "yt : [INFO     ] 2022-05-16 09:35:33,865 Parameters: current_time              = 0.39778735198283094\n",
      "yt : [INFO     ] 2022-05-16 09:35:33,866 Parameters: domain_dimensions         = [ 64 128   1]\n",
      "yt : [INFO     ] 2022-05-16 09:35:33,867 Parameters: domain_left_edge          = [     0.         -63647.09434703      0.        ]\n",
      "yt : [INFO     ] 2022-05-16 09:35:33,868 Parameters: domain_right_edge         = [6.36470943e+04 6.36470943e+04 1.00000000e+00]\n",
      "yt : [INFO     ] 2022-05-16 09:35:35,870 Saving plot figures/plt169755_2d-Profile_particle_position_x_particle_position_y_particle_weight.png\n",
      "yt : [INFO     ] 2022-05-16 09:35:36,460 Parameters: current_time              = 0.47734482237995973\n",
      "yt : [INFO     ] 2022-05-16 09:35:36,461 Parameters: domain_dimensions         = [ 64 128   1]\n",
      "yt : [INFO     ] 2022-05-16 09:35:36,461 Parameters: domain_left_edge          = [     0.         -63647.09434703      0.        ]\n",
      "yt : [INFO     ] 2022-05-16 09:35:36,462 Parameters: domain_right_edge         = [6.36470943e+04 6.36470943e+04 1.00000000e+00]\n",
      "yt : [INFO     ] 2022-05-16 09:35:38,403 Saving plot figures/plt203706_2d-Profile_particle_position_x_particle_position_y_particle_weight.png\n",
      "yt : [INFO     ] 2022-05-16 09:35:38,972 Parameters: current_time              = 0.5569022927770885\n",
      "yt : [INFO     ] 2022-05-16 09:35:38,973 Parameters: domain_dimensions         = [ 64 128   1]\n",
      "yt : [INFO     ] 2022-05-16 09:35:38,974 Parameters: domain_left_edge          = [     0.         -63647.09434703      0.        ]\n",
      "yt : [INFO     ] 2022-05-16 09:35:38,975 Parameters: domain_right_edge         = [6.36470943e+04 6.36470943e+04 1.00000000e+00]\n",
      "yt : [INFO     ] 2022-05-16 09:35:40,529 Saving plot figures/plt237657_2d-Profile_particle_position_x_particle_position_y_particle_weight.png\n",
      "yt : [INFO     ] 2022-05-16 09:35:41,007 Parameters: current_time              = 0.6364597631742173\n",
      "yt : [INFO     ] 2022-05-16 09:35:41,008 Parameters: domain_dimensions         = [ 64 128   1]\n",
      "yt : [INFO     ] 2022-05-16 09:35:41,009 Parameters: domain_left_edge          = [     0.         -63647.09434703      0.        ]\n",
      "yt : [INFO     ] 2022-05-16 09:35:41,009 Parameters: domain_right_edge         = [6.36470943e+04 6.36470943e+04 1.00000000e+00]\n",
      "yt : [INFO     ] 2022-05-16 09:35:42,666 Saving plot figures/plt271608_2d-Profile_particle_position_x_particle_position_y_particle_weight.png\n",
      "yt : [INFO     ] 2022-05-16 09:35:43,061 Parameters: current_time              = 0.7160172335713461\n",
      "yt : [INFO     ] 2022-05-16 09:35:43,062 Parameters: domain_dimensions         = [ 64 128   1]\n",
      "yt : [INFO     ] 2022-05-16 09:35:43,062 Parameters: domain_left_edge          = [     0.         -63647.09434703      0.        ]\n",
      "yt : [INFO     ] 2022-05-16 09:35:43,063 Parameters: domain_right_edge         = [6.36470943e+04 6.36470943e+04 1.00000000e+00]\n",
      "yt : [INFO     ] 2022-05-16 09:35:44,482 Saving plot figures/plt305559_2d-Profile_particle_position_x_particle_position_y_particle_weight.png\n",
      "yt : [INFO     ] 2022-05-16 09:35:44,888 Parameters: current_time              = 0.7955747039684749\n",
      "yt : [INFO     ] 2022-05-16 09:35:44,888 Parameters: domain_dimensions         = [ 64 128   1]\n",
      "yt : [INFO     ] 2022-05-16 09:35:44,889 Parameters: domain_left_edge          = [     0.         -63647.09434703      0.        ]\n",
      "yt : [INFO     ] 2022-05-16 09:35:44,890 Parameters: domain_right_edge         = [6.36470943e+04 6.36470943e+04 1.00000000e+00]\n",
      "yt : [INFO     ] 2022-05-16 09:35:46,448 Saving plot figures/plt339510_2d-Profile_particle_position_x_particle_position_y_particle_weight.png\n",
      "yt : [INFO     ] 2022-05-16 09:35:46,850 Parameters: current_time              = 0.7955864204820381\n",
      "yt : [INFO     ] 2022-05-16 09:35:46,851 Parameters: domain_dimensions         = [ 64 128   1]\n",
      "yt : [INFO     ] 2022-05-16 09:35:46,851 Parameters: domain_left_edge          = [     0.         -63647.09434703      0.        ]\n",
      "yt : [INFO     ] 2022-05-16 09:35:46,852 Parameters: domain_right_edge         = [6.36470943e+04 6.36470943e+04 1.00000000e+00]\n",
      "yt : [INFO     ] 2022-05-16 09:35:48,273 Saving plot figures/plt339515_2d-Profile_particle_position_x_particle_position_y_particle_weight.png\n"
     ]
    }
   ],
   "source": [
    "for ds in ts:\n",
    "    p=  yt.ParticlePhasePlot( ds.all_data(), ('e-','particle_position_x'), ('e-','particle_position_y'), ('e-','particle_weight'))\n",
    "    p.save('figures/')"
   ]
  },
  {
   "cell_type": "code",
   "execution_count": 6,
   "metadata": {},
   "outputs": [
    {
     "name": "stderr",
     "output_type": "stream",
     "text": [
      "yt : [INFO     ] 2022-05-16 09:37:23,568 Parameters: current_time              = 0.0\n",
      "yt : [INFO     ] 2022-05-16 09:37:23,569 Parameters: domain_dimensions         = [ 64 128   1]\n",
      "yt : [INFO     ] 2022-05-16 09:37:23,570 Parameters: domain_left_edge          = [     0.         -63647.09434703      0.        ]\n",
      "yt : [INFO     ] 2022-05-16 09:37:23,571 Parameters: domain_right_edge         = [6.36470943e+04 6.36470943e+04 1.00000000e+00]\n"
     ]
    },
    {
     "name": "stdout",
     "output_type": "stream",
     "text": [
      "0.0 code_time\n"
     ]
    },
    {
     "name": "stderr",
     "output_type": "stream",
     "text": [
      "yt : [INFO     ] 2022-05-16 09:37:24,797 xlim = 0.000000 63647.094347\n",
      "yt : [INFO     ] 2022-05-16 09:37:24,797 ylim = -63647.094347 63647.094347\n",
      "yt : [INFO     ] 2022-05-16 09:37:24,798 xlim = 0.000000 63647.094347\n",
      "yt : [INFO     ] 2022-05-16 09:37:24,798 ylim = -63647.094347 63647.094347\n",
      "yt : [INFO     ] 2022-05-16 09:37:24,799 Making a fixed resolution buffer of (('boxlib', 'By')) 800 by 800\n",
      "yt : [INFO     ] 2022-05-16 09:37:24,807 Making a fixed resolution buffer of (('boxlib', 'Ex')) 800 by 800\n",
      "yt : [INFO     ] 2022-05-16 09:37:24,812 Making a fixed resolution buffer of (('boxlib', 'rho_e-')) 800 by 800\n",
      "yt : [INFO     ] 2022-05-16 09:37:24,817 Making a fixed resolution buffer of (('boxlib', 'rho_p+')) 800 by 800\n",
      "yt : [WARNING  ] 2022-05-16 09:37:24,832 Plotting ('boxlib', 'rho_e-'): All negative values. Max = 0.0 dimensionless.\n",
      "yt : [WARNING  ] 2022-05-16 09:37:24,832 Switching to symlog colorbar scaling.\n",
      "yt : [WARNING  ] 2022-05-16 09:37:25,086 Plotting ('boxlib', 'rho_p+'): Both positive and negative values. Min = 0.0 dimensionless, Max = 8.124176049444625e-13 dimensionless.\n",
      "yt : [WARNING  ] 2022-05-16 09:37:25,086 Switching to symlog colorbar scaling.\n",
      "yt : [WARNING  ] 2022-05-16 09:37:25,189 Plotting ('boxlib', 'Ex'): All values = 0.0 V/m\n",
      "yt : [WARNING  ] 2022-05-16 09:37:25,189 Switching to linear colorbar scaling.\n",
      "yt : [WARNING  ] 2022-05-16 09:37:27,898 Plotting ('boxlib', 'By'): All values = 0.0 T\n",
      "yt : [WARNING  ] 2022-05-16 09:37:27,898 Switching to linear colorbar scaling.\n",
      "yt : [INFO     ] 2022-05-16 09:37:28,780 Saving plot figures/plt000000_Slice_z_rho_e-.png\n",
      "yt : [INFO     ] 2022-05-16 09:37:29,340 Saving plot figures/plt000000_Slice_z_rho_p+.png\n",
      "yt : [INFO     ] 2022-05-16 09:37:29,482 Saving plot figures/plt000000_Slice_z_Ex.png\n",
      "yt : [INFO     ] 2022-05-16 09:37:29,790 Saving plot figures/plt000000_Slice_z_By.png\n",
      "yt : [INFO     ] 2022-05-16 09:37:30,031 Parameters: current_time              = 0.07955747039633462\n",
      "yt : [INFO     ] 2022-05-16 09:37:30,032 Parameters: domain_dimensions         = [ 64 128   1]\n",
      "yt : [INFO     ] 2022-05-16 09:37:30,033 Parameters: domain_left_edge          = [     0.         -63647.09434703      0.        ]\n",
      "yt : [INFO     ] 2022-05-16 09:37:30,033 Parameters: domain_right_edge         = [6.36470943e+04 6.36470943e+04 1.00000000e+00]\n"
     ]
    },
    {
     "name": "stdout",
     "output_type": "stream",
     "text": [
      "0.07955747039633462 code_time\n"
     ]
    },
    {
     "name": "stderr",
     "output_type": "stream",
     "text": [
      "yt : [INFO     ] 2022-05-16 09:37:31,277 xlim = 0.000000 63647.094347\n",
      "yt : [INFO     ] 2022-05-16 09:37:31,277 ylim = -63647.094347 63647.094347\n",
      "yt : [INFO     ] 2022-05-16 09:37:31,278 xlim = 0.000000 63647.094347\n",
      "yt : [INFO     ] 2022-05-16 09:37:31,278 ylim = -63647.094347 63647.094347\n",
      "yt : [INFO     ] 2022-05-16 09:37:31,279 Making a fixed resolution buffer of (('boxlib', 'By')) 800 by 800\n",
      "yt : [INFO     ] 2022-05-16 09:37:31,287 Making a fixed resolution buffer of (('boxlib', 'Ex')) 800 by 800\n",
      "yt : [INFO     ] 2022-05-16 09:37:31,292 Making a fixed resolution buffer of (('boxlib', 'rho_e-')) 800 by 800\n",
      "yt : [INFO     ] 2022-05-16 09:37:31,297 Making a fixed resolution buffer of (('boxlib', 'rho_p+')) 800 by 800\n",
      "yt : [WARNING  ] 2022-05-16 09:37:31,311 Plotting ('boxlib', 'rho_e-'): All negative values. Max = 0.0 dimensionless.\n",
      "yt : [WARNING  ] 2022-05-16 09:37:31,311 Switching to symlog colorbar scaling.\n",
      "yt : [WARNING  ] 2022-05-16 09:37:31,415 Plotting ('boxlib', 'rho_p+'): Both positive and negative values. Min = 0.0 dimensionless, Max = 4.816176884357389e-13 dimensionless.\n",
      "yt : [WARNING  ] 2022-05-16 09:37:31,416 Switching to symlog colorbar scaling.\n",
      "yt : [WARNING  ] 2022-05-16 09:37:31,519 Plotting ('boxlib', 'Ex'): Both positive and negative values. Min = -0.4459772776742042 V/m, Max = 0.31207669787689934 V/m.\n",
      "yt : [WARNING  ] 2022-05-16 09:37:31,520 Switching to symlog colorbar scaling.\n",
      "yt : [WARNING  ] 2022-05-16 09:37:31,594 Plotting ('boxlib', 'By'): Both positive and negative values. Min = -1.110731248831645e-10 T, Max = 9.518787809076542e-11 T.\n",
      "yt : [WARNING  ] 2022-05-16 09:37:31,594 Switching to symlog colorbar scaling.\n",
      "yt : [INFO     ] 2022-05-16 09:37:32,621 Saving plot figures/plt033951_Slice_z_rho_e-.png\n",
      "yt : [INFO     ] 2022-05-16 09:37:32,765 Saving plot figures/plt033951_Slice_z_rho_p+.png\n",
      "yt : [INFO     ] 2022-05-16 09:37:32,911 Saving plot figures/plt033951_Slice_z_Ex.png\n",
      "yt : [INFO     ] 2022-05-16 09:37:33,055 Saving plot figures/plt033951_Slice_z_By.png\n",
      "yt : [INFO     ] 2022-05-16 09:37:33,236 Parameters: current_time              = 0.1591149407925211\n",
      "yt : [INFO     ] 2022-05-16 09:37:33,237 Parameters: domain_dimensions         = [ 64 128   1]\n",
      "yt : [INFO     ] 2022-05-16 09:37:33,238 Parameters: domain_left_edge          = [     0.         -63647.09434703      0.        ]\n",
      "yt : [INFO     ] 2022-05-16 09:37:33,239 Parameters: domain_right_edge         = [6.36470943e+04 6.36470943e+04 1.00000000e+00]\n"
     ]
    },
    {
     "name": "stdout",
     "output_type": "stream",
     "text": [
      "0.1591149407925211 code_time\n"
     ]
    },
    {
     "name": "stderr",
     "output_type": "stream",
     "text": [
      "yt : [INFO     ] 2022-05-16 09:37:34,441 xlim = 0.000000 63647.094347\n",
      "yt : [INFO     ] 2022-05-16 09:37:34,441 ylim = -63647.094347 63647.094347\n",
      "yt : [INFO     ] 2022-05-16 09:37:34,442 xlim = 0.000000 63647.094347\n",
      "yt : [INFO     ] 2022-05-16 09:37:34,442 ylim = -63647.094347 63647.094347\n",
      "yt : [INFO     ] 2022-05-16 09:37:34,443 Making a fixed resolution buffer of (('boxlib', 'By')) 800 by 800\n",
      "yt : [INFO     ] 2022-05-16 09:37:34,450 Making a fixed resolution buffer of (('boxlib', 'Ex')) 800 by 800\n",
      "yt : [INFO     ] 2022-05-16 09:37:34,455 Making a fixed resolution buffer of (('boxlib', 'rho_e-')) 800 by 800\n",
      "yt : [INFO     ] 2022-05-16 09:37:34,460 Making a fixed resolution buffer of (('boxlib', 'rho_p+')) 800 by 800\n",
      "yt : [WARNING  ] 2022-05-16 09:37:34,474 Plotting ('boxlib', 'rho_e-'): All negative values. Max = 0.0 dimensionless.\n",
      "yt : [WARNING  ] 2022-05-16 09:37:34,475 Switching to symlog colorbar scaling.\n",
      "yt : [WARNING  ] 2022-05-16 09:37:34,635 Plotting ('boxlib', 'Ex'): Both positive and negative values. Min = -0.4435607414076406 V/m, Max = 0.6409961045498369 V/m.\n",
      "yt : [WARNING  ] 2022-05-16 09:37:34,636 Switching to symlog colorbar scaling.\n",
      "yt : [WARNING  ] 2022-05-16 09:37:34,714 Plotting ('boxlib', 'By'): Both positive and negative values. Min = -1.6875611365326673e-10 T, Max = 1.9740248917355533e-10 T.\n",
      "yt : [WARNING  ] 2022-05-16 09:37:34,714 Switching to symlog colorbar scaling.\n",
      "yt : [INFO     ] 2022-05-16 09:37:35,684 Saving plot figures/plt067902_Slice_z_rho_e-.png\n",
      "yt : [INFO     ] 2022-05-16 09:37:35,834 Saving plot figures/plt067902_Slice_z_rho_p+.png\n",
      "yt : [INFO     ] 2022-05-16 09:37:36,090 Saving plot figures/plt067902_Slice_z_Ex.png\n",
      "yt : [INFO     ] 2022-05-16 09:37:36,221 Saving plot figures/plt067902_Slice_z_By.png\n",
      "yt : [INFO     ] 2022-05-16 09:37:36,406 Parameters: current_time              = 0.23867241118870755\n",
      "yt : [INFO     ] 2022-05-16 09:37:36,407 Parameters: domain_dimensions         = [ 64 128   1]\n",
      "yt : [INFO     ] 2022-05-16 09:37:36,408 Parameters: domain_left_edge          = [     0.         -63647.09434703      0.        ]\n",
      "yt : [INFO     ] 2022-05-16 09:37:36,408 Parameters: domain_right_edge         = [6.36470943e+04 6.36470943e+04 1.00000000e+00]\n"
     ]
    },
    {
     "name": "stdout",
     "output_type": "stream",
     "text": [
      "0.23867241118870755 code_time\n"
     ]
    },
    {
     "name": "stderr",
     "output_type": "stream",
     "text": [
      "yt : [INFO     ] 2022-05-16 09:37:37,618 xlim = 0.000000 63647.094347\n",
      "yt : [INFO     ] 2022-05-16 09:37:37,618 ylim = -63647.094347 63647.094347\n",
      "yt : [INFO     ] 2022-05-16 09:37:37,619 xlim = 0.000000 63647.094347\n",
      "yt : [INFO     ] 2022-05-16 09:37:37,619 ylim = -63647.094347 63647.094347\n",
      "yt : [INFO     ] 2022-05-16 09:37:37,620 Making a fixed resolution buffer of (('boxlib', 'By')) 800 by 800\n",
      "yt : [INFO     ] 2022-05-16 09:37:37,627 Making a fixed resolution buffer of (('boxlib', 'Ex')) 800 by 800\n",
      "yt : [INFO     ] 2022-05-16 09:37:37,632 Making a fixed resolution buffer of (('boxlib', 'rho_e-')) 800 by 800\n",
      "yt : [INFO     ] 2022-05-16 09:37:37,637 Making a fixed resolution buffer of (('boxlib', 'rho_p+')) 800 by 800\n",
      "yt : [WARNING  ] 2022-05-16 09:37:37,652 Plotting ('boxlib', 'rho_e-'): All negative values. Max = 0.0 dimensionless.\n",
      "yt : [WARNING  ] 2022-05-16 09:37:37,652 Switching to symlog colorbar scaling.\n",
      "yt : [WARNING  ] 2022-05-16 09:37:37,756 Plotting ('boxlib', 'rho_p+'): Both positive and negative values. Min = 0.0 dimensionless, Max = 8.313628006719936e-14 dimensionless.\n",
      "yt : [WARNING  ] 2022-05-16 09:37:37,756 Switching to symlog colorbar scaling.\n",
      "yt : [WARNING  ] 2022-05-16 09:37:37,865 Plotting ('boxlib', 'Ex'): Both positive and negative values. Min = -1.1238653329688018 V/m, Max = 1.5273173486102458 V/m.\n",
      "yt : [WARNING  ] 2022-05-16 09:37:37,865 Switching to symlog colorbar scaling.\n",
      "yt : [WARNING  ] 2022-05-16 09:37:37,938 Plotting ('boxlib', 'By'): Both positive and negative values. Min = -2.9130077552880994e-11 T, Max = 3.73193731111035e-11 T.\n",
      "yt : [WARNING  ] 2022-05-16 09:37:37,938 Switching to symlog colorbar scaling.\n",
      "yt : [INFO     ] 2022-05-16 09:37:38,936 Saving plot figures/plt101853_Slice_z_rho_e-.png\n",
      "yt : [INFO     ] 2022-05-16 09:37:39,083 Saving plot figures/plt101853_Slice_z_rho_p+.png\n",
      "yt : [INFO     ] 2022-05-16 09:37:39,227 Saving plot figures/plt101853_Slice_z_Ex.png\n",
      "yt : [INFO     ] 2022-05-16 09:37:39,369 Saving plot figures/plt101853_Slice_z_By.png\n",
      "yt : [INFO     ] 2022-05-16 09:37:39,556 Parameters: current_time              = 0.31822988158570215\n",
      "yt : [INFO     ] 2022-05-16 09:37:39,557 Parameters: domain_dimensions         = [ 64 128   1]\n",
      "yt : [INFO     ] 2022-05-16 09:37:39,557 Parameters: domain_left_edge          = [     0.         -63647.09434703      0.        ]\n",
      "yt : [INFO     ] 2022-05-16 09:37:39,558 Parameters: domain_right_edge         = [6.36470943e+04 6.36470943e+04 1.00000000e+00]\n"
     ]
    },
    {
     "name": "stdout",
     "output_type": "stream",
     "text": [
      "0.31822988158570215 code_time\n"
     ]
    },
    {
     "name": "stderr",
     "output_type": "stream",
     "text": [
      "yt : [INFO     ] 2022-05-16 09:37:40,771 xlim = 0.000000 63647.094347\n",
      "yt : [INFO     ] 2022-05-16 09:37:40,771 ylim = -63647.094347 63647.094347\n",
      "yt : [INFO     ] 2022-05-16 09:37:40,772 xlim = 0.000000 63647.094347\n",
      "yt : [INFO     ] 2022-05-16 09:37:40,772 ylim = -63647.094347 63647.094347\n",
      "yt : [INFO     ] 2022-05-16 09:37:40,773 Making a fixed resolution buffer of (('boxlib', 'By')) 800 by 800\n",
      "yt : [INFO     ] 2022-05-16 09:37:40,781 Making a fixed resolution buffer of (('boxlib', 'Ex')) 800 by 800\n",
      "yt : [INFO     ] 2022-05-16 09:37:40,786 Making a fixed resolution buffer of (('boxlib', 'rho_e-')) 800 by 800\n",
      "yt : [INFO     ] 2022-05-16 09:37:40,792 Making a fixed resolution buffer of (('boxlib', 'rho_p+')) 800 by 800\n",
      "yt : [WARNING  ] 2022-05-16 09:37:40,809 Plotting ('boxlib', 'rho_e-'): All negative values. Max = 0.0 dimensionless.\n",
      "yt : [WARNING  ] 2022-05-16 09:37:40,810 Switching to symlog colorbar scaling.\n",
      "yt : [WARNING  ] 2022-05-16 09:37:40,976 Plotting ('boxlib', 'Ex'): Both positive and negative values. Min = -1.3486749333185601 V/m, Max = 1.339683002599365 V/m.\n",
      "yt : [WARNING  ] 2022-05-16 09:37:40,977 Switching to symlog colorbar scaling.\n",
      "yt : [WARNING  ] 2022-05-16 09:37:41,206 Plotting ('boxlib', 'By'): Both positive and negative values. Min = -2.3023238946518712e-11 T, Max = 2.3876398653635313e-11 T.\n",
      "yt : [WARNING  ] 2022-05-16 09:37:41,207 Switching to symlog colorbar scaling.\n",
      "yt : [INFO     ] 2022-05-16 09:37:42,038 Saving plot figures/plt135804_Slice_z_rho_e-.png\n",
      "yt : [INFO     ] 2022-05-16 09:37:42,191 Saving plot figures/plt135804_Slice_z_rho_p+.png\n",
      "yt : [INFO     ] 2022-05-16 09:37:42,380 Saving plot figures/plt135804_Slice_z_Ex.png\n",
      "yt : [INFO     ] 2022-05-16 09:37:42,521 Saving plot figures/plt135804_Slice_z_By.png\n",
      "yt : [INFO     ] 2022-05-16 09:37:42,707 Parameters: current_time              = 0.39778735198283094\n",
      "yt : [INFO     ] 2022-05-16 09:37:42,708 Parameters: domain_dimensions         = [ 64 128   1]\n",
      "yt : [INFO     ] 2022-05-16 09:37:42,708 Parameters: domain_left_edge          = [     0.         -63647.09434703      0.        ]\n",
      "yt : [INFO     ] 2022-05-16 09:37:42,709 Parameters: domain_right_edge         = [6.36470943e+04 6.36470943e+04 1.00000000e+00]\n"
     ]
    },
    {
     "name": "stdout",
     "output_type": "stream",
     "text": [
      "0.39778735198283094 code_time\n"
     ]
    },
    {
     "name": "stderr",
     "output_type": "stream",
     "text": [
      "yt : [INFO     ] 2022-05-16 09:37:43,948 xlim = 0.000000 63647.094347\n",
      "yt : [INFO     ] 2022-05-16 09:37:43,949 ylim = -63647.094347 63647.094347\n",
      "yt : [INFO     ] 2022-05-16 09:37:43,949 xlim = 0.000000 63647.094347\n",
      "yt : [INFO     ] 2022-05-16 09:37:43,950 ylim = -63647.094347 63647.094347\n",
      "yt : [INFO     ] 2022-05-16 09:37:43,951 Making a fixed resolution buffer of (('boxlib', 'By')) 800 by 800\n",
      "yt : [INFO     ] 2022-05-16 09:37:43,958 Making a fixed resolution buffer of (('boxlib', 'Ex')) 800 by 800\n",
      "yt : [INFO     ] 2022-05-16 09:37:43,963 Making a fixed resolution buffer of (('boxlib', 'rho_e-')) 800 by 800\n",
      "yt : [INFO     ] 2022-05-16 09:37:43,968 Making a fixed resolution buffer of (('boxlib', 'rho_p+')) 800 by 800\n",
      "yt : [WARNING  ] 2022-05-16 09:37:43,983 Plotting ('boxlib', 'rho_e-'): All negative values. Max = -9.05146581818172e-19 dimensionless.\n",
      "yt : [WARNING  ] 2022-05-16 09:37:43,983 Switching to symlog colorbar scaling.\n",
      "yt : [WARNING  ] 2022-05-16 09:37:44,296 Plotting ('boxlib', 'Ex'): Both positive and negative values. Min = -1.5253354461120114 V/m, Max = 1.3776621516744998 V/m.\n",
      "yt : [WARNING  ] 2022-05-16 09:37:44,297 Switching to symlog colorbar scaling.\n",
      "yt : [WARNING  ] 2022-05-16 09:37:44,368 Plotting ('boxlib', 'By'): Both positive and negative values. Min = -2.310784903867248e-11 T, Max = 3.763036555190484e-11 T.\n",
      "yt : [WARNING  ] 2022-05-16 09:37:44,368 Switching to symlog colorbar scaling.\n",
      "yt : [INFO     ] 2022-05-16 09:37:45,223 Saving plot figures/plt169755_Slice_z_rho_e-.png\n",
      "yt : [INFO     ] 2022-05-16 09:37:45,382 Saving plot figures/plt169755_Slice_z_rho_p+.png\n",
      "yt : [INFO     ] 2022-05-16 09:37:45,637 Saving plot figures/plt169755_Slice_z_Ex.png\n",
      "yt : [INFO     ] 2022-05-16 09:37:45,778 Saving plot figures/plt169755_Slice_z_By.png\n",
      "yt : [INFO     ] 2022-05-16 09:37:46,106 Parameters: current_time              = 0.47734482237995973\n",
      "yt : [INFO     ] 2022-05-16 09:37:46,107 Parameters: domain_dimensions         = [ 64 128   1]\n",
      "yt : [INFO     ] 2022-05-16 09:37:46,108 Parameters: domain_left_edge          = [     0.         -63647.09434703      0.        ]\n",
      "yt : [INFO     ] 2022-05-16 09:37:46,109 Parameters: domain_right_edge         = [6.36470943e+04 6.36470943e+04 1.00000000e+00]\n"
     ]
    },
    {
     "name": "stdout",
     "output_type": "stream",
     "text": [
      "0.47734482237995973 code_time\n"
     ]
    },
    {
     "name": "stderr",
     "output_type": "stream",
     "text": [
      "yt : [INFO     ] 2022-05-16 09:37:47,321 xlim = 0.000000 63647.094347\n",
      "yt : [INFO     ] 2022-05-16 09:37:47,322 ylim = -63647.094347 63647.094347\n",
      "yt : [INFO     ] 2022-05-16 09:37:47,322 xlim = 0.000000 63647.094347\n",
      "yt : [INFO     ] 2022-05-16 09:37:47,322 ylim = -63647.094347 63647.094347\n",
      "yt : [INFO     ] 2022-05-16 09:37:47,324 Making a fixed resolution buffer of (('boxlib', 'By')) 800 by 800\n",
      "yt : [INFO     ] 2022-05-16 09:37:47,331 Making a fixed resolution buffer of (('boxlib', 'Ex')) 800 by 800\n",
      "yt : [INFO     ] 2022-05-16 09:37:47,336 Making a fixed resolution buffer of (('boxlib', 'rho_e-')) 800 by 800\n",
      "yt : [INFO     ] 2022-05-16 09:37:47,341 Making a fixed resolution buffer of (('boxlib', 'rho_p+')) 800 by 800\n",
      "yt : [WARNING  ] 2022-05-16 09:37:47,355 Plotting ('boxlib', 'rho_e-'): All negative values. Max = 0.0 dimensionless.\n",
      "yt : [WARNING  ] 2022-05-16 09:37:47,355 Switching to symlog colorbar scaling.\n",
      "yt : [WARNING  ] 2022-05-16 09:37:47,456 Plotting ('boxlib', 'rho_p+'): Both positive and negative values. Min = 0.0 dimensionless, Max = 4.855649588971118e-14 dimensionless.\n",
      "yt : [WARNING  ] 2022-05-16 09:37:47,457 Switching to symlog colorbar scaling.\n",
      "yt : [WARNING  ] 2022-05-16 09:37:47,560 Plotting ('boxlib', 'Ex'): Both positive and negative values. Min = -1.5783467395022555 V/m, Max = 1.340839201301892 V/m.\n",
      "yt : [WARNING  ] 2022-05-16 09:37:47,561 Switching to symlog colorbar scaling.\n",
      "yt : [WARNING  ] 2022-05-16 09:37:47,632 Plotting ('boxlib', 'By'): Both positive and negative values. Min = -2.5050778897054918e-11 T, Max = 2.7029454987262625e-11 T.\n",
      "yt : [WARNING  ] 2022-05-16 09:37:47,632 Switching to symlog colorbar scaling.\n",
      "yt : [INFO     ] 2022-05-16 09:37:48,503 Saving plot figures/plt203706_Slice_z_rho_e-.png\n",
      "yt : [INFO     ] 2022-05-16 09:37:48,795 Saving plot figures/plt203706_Slice_z_rho_p+.png\n",
      "yt : [INFO     ] 2022-05-16 09:37:48,941 Saving plot figures/plt203706_Slice_z_Ex.png\n",
      "yt : [INFO     ] 2022-05-16 09:37:49,085 Saving plot figures/plt203706_Slice_z_By.png\n",
      "yt : [INFO     ] 2022-05-16 09:37:49,271 Parameters: current_time              = 0.5569022927770885\n",
      "yt : [INFO     ] 2022-05-16 09:37:49,272 Parameters: domain_dimensions         = [ 64 128   1]\n",
      "yt : [INFO     ] 2022-05-16 09:37:49,272 Parameters: domain_left_edge          = [     0.         -63647.09434703      0.        ]\n",
      "yt : [INFO     ] 2022-05-16 09:37:49,273 Parameters: domain_right_edge         = [6.36470943e+04 6.36470943e+04 1.00000000e+00]\n"
     ]
    },
    {
     "name": "stdout",
     "output_type": "stream",
     "text": [
      "0.5569022927770885 code_time\n"
     ]
    },
    {
     "name": "stderr",
     "output_type": "stream",
     "text": [
      "yt : [INFO     ] 2022-05-16 09:37:50,479 xlim = 0.000000 63647.094347\n",
      "yt : [INFO     ] 2022-05-16 09:37:50,480 ylim = -63647.094347 63647.094347\n",
      "yt : [INFO     ] 2022-05-16 09:37:50,480 xlim = 0.000000 63647.094347\n",
      "yt : [INFO     ] 2022-05-16 09:37:50,481 ylim = -63647.094347 63647.094347\n",
      "yt : [INFO     ] 2022-05-16 09:37:50,482 Making a fixed resolution buffer of (('boxlib', 'By')) 800 by 800\n",
      "yt : [INFO     ] 2022-05-16 09:37:50,489 Making a fixed resolution buffer of (('boxlib', 'Ex')) 800 by 800\n",
      "yt : [INFO     ] 2022-05-16 09:37:50,494 Making a fixed resolution buffer of (('boxlib', 'rho_e-')) 800 by 800\n",
      "yt : [INFO     ] 2022-05-16 09:37:50,499 Making a fixed resolution buffer of (('boxlib', 'rho_p+')) 800 by 800\n",
      "yt : [WARNING  ] 2022-05-16 09:37:50,513 Plotting ('boxlib', 'rho_e-'): All negative values. Max = 0.0 dimensionless.\n",
      "yt : [WARNING  ] 2022-05-16 09:37:50,513 Switching to symlog colorbar scaling.\n",
      "yt : [WARNING  ] 2022-05-16 09:37:50,615 Plotting ('boxlib', 'rho_p+'): Both positive and negative values. Min = 0.0 dimensionless, Max = 4.7687412924020504e-14 dimensionless.\n",
      "yt : [WARNING  ] 2022-05-16 09:37:50,616 Switching to symlog colorbar scaling.\n",
      "yt : [WARNING  ] 2022-05-16 09:37:50,720 Plotting ('boxlib', 'Ex'): Both positive and negative values. Min = -1.4751571954241116 V/m, Max = 1.2930000064370963 V/m.\n",
      "yt : [WARNING  ] 2022-05-16 09:37:50,721 Switching to symlog colorbar scaling.\n",
      "yt : [WARNING  ] 2022-05-16 09:37:50,792 Plotting ('boxlib', 'By'): Both positive and negative values. Min = -3.6713611983698796e-11 T, Max = 2.6037786106548326e-11 T.\n",
      "yt : [WARNING  ] 2022-05-16 09:37:50,793 Switching to symlog colorbar scaling.\n",
      "yt : [INFO     ] 2022-05-16 09:37:51,790 Saving plot figures/plt237657_Slice_z_rho_e-.png\n",
      "yt : [INFO     ] 2022-05-16 09:37:51,944 Saving plot figures/plt237657_Slice_z_rho_p+.png\n",
      "yt : [INFO     ] 2022-05-16 09:37:52,091 Saving plot figures/plt237657_Slice_z_Ex.png\n",
      "yt : [INFO     ] 2022-05-16 09:37:52,232 Saving plot figures/plt237657_Slice_z_By.png\n",
      "yt : [INFO     ] 2022-05-16 09:37:52,417 Parameters: current_time              = 0.6364597631742173\n",
      "yt : [INFO     ] 2022-05-16 09:37:52,418 Parameters: domain_dimensions         = [ 64 128   1]\n",
      "yt : [INFO     ] 2022-05-16 09:37:52,419 Parameters: domain_left_edge          = [     0.         -63647.09434703      0.        ]\n",
      "yt : [INFO     ] 2022-05-16 09:37:52,420 Parameters: domain_right_edge         = [6.36470943e+04 6.36470943e+04 1.00000000e+00]\n"
     ]
    },
    {
     "name": "stdout",
     "output_type": "stream",
     "text": [
      "0.6364597631742173 code_time\n"
     ]
    },
    {
     "name": "stderr",
     "output_type": "stream",
     "text": [
      "yt : [INFO     ] 2022-05-16 09:37:53,671 xlim = 0.000000 63647.094347\n",
      "yt : [INFO     ] 2022-05-16 09:37:53,671 ylim = -63647.094347 63647.094347\n",
      "yt : [INFO     ] 2022-05-16 09:37:53,672 xlim = 0.000000 63647.094347\n",
      "yt : [INFO     ] 2022-05-16 09:37:53,672 ylim = -63647.094347 63647.094347\n",
      "yt : [INFO     ] 2022-05-16 09:37:53,673 Making a fixed resolution buffer of (('boxlib', 'By')) 800 by 800\n",
      "yt : [INFO     ] 2022-05-16 09:37:53,681 Making a fixed resolution buffer of (('boxlib', 'Ex')) 800 by 800\n",
      "yt : [INFO     ] 2022-05-16 09:37:53,686 Making a fixed resolution buffer of (('boxlib', 'rho_e-')) 800 by 800\n",
      "yt : [INFO     ] 2022-05-16 09:37:53,691 Making a fixed resolution buffer of (('boxlib', 'rho_p+')) 800 by 800\n",
      "yt : [WARNING  ] 2022-05-16 09:37:53,705 Plotting ('boxlib', 'rho_e-'): All negative values. Max = 0.0 dimensionless.\n",
      "yt : [WARNING  ] 2022-05-16 09:37:53,705 Switching to symlog colorbar scaling.\n",
      "yt : [WARNING  ] 2022-05-16 09:37:53,806 Plotting ('boxlib', 'rho_p+'): Both positive and negative values. Min = 0.0 dimensionless, Max = 4.49053876711171e-14 dimensionless.\n",
      "yt : [WARNING  ] 2022-05-16 09:37:53,807 Switching to symlog colorbar scaling.\n",
      "yt : [WARNING  ] 2022-05-16 09:37:53,909 Plotting ('boxlib', 'Ex'): Both positive and negative values. Min = -1.6772809623278673 V/m, Max = 1.4826075206347316 V/m.\n",
      "yt : [WARNING  ] 2022-05-16 09:37:53,909 Switching to symlog colorbar scaling.\n",
      "yt : [WARNING  ] 2022-05-16 09:37:53,980 Plotting ('boxlib', 'By'): Both positive and negative values. Min = -2.9247448588475516e-11 T, Max = 2.4451635839188342e-11 T.\n",
      "yt : [WARNING  ] 2022-05-16 09:37:53,981 Switching to symlog colorbar scaling.\n",
      "yt : [INFO     ] 2022-05-16 09:37:54,971 Saving plot figures/plt271608_Slice_z_rho_e-.png\n",
      "yt : [INFO     ] 2022-05-16 09:37:55,125 Saving plot figures/plt271608_Slice_z_rho_p+.png\n",
      "yt : [INFO     ] 2022-05-16 09:37:55,271 Saving plot figures/plt271608_Slice_z_Ex.png\n",
      "yt : [INFO     ] 2022-05-16 09:37:55,412 Saving plot figures/plt271608_Slice_z_By.png\n",
      "yt : [INFO     ] 2022-05-16 09:37:55,599 Parameters: current_time              = 0.7160172335713461\n",
      "yt : [INFO     ] 2022-05-16 09:37:55,600 Parameters: domain_dimensions         = [ 64 128   1]\n",
      "yt : [INFO     ] 2022-05-16 09:37:55,601 Parameters: domain_left_edge          = [     0.         -63647.09434703      0.        ]\n",
      "yt : [INFO     ] 2022-05-16 09:37:55,601 Parameters: domain_right_edge         = [6.36470943e+04 6.36470943e+04 1.00000000e+00]\n"
     ]
    },
    {
     "name": "stdout",
     "output_type": "stream",
     "text": [
      "0.7160172335713461 code_time\n"
     ]
    },
    {
     "name": "stderr",
     "output_type": "stream",
     "text": [
      "yt : [INFO     ] 2022-05-16 09:37:56,832 xlim = 0.000000 63647.094347\n",
      "yt : [INFO     ] 2022-05-16 09:37:56,833 ylim = -63647.094347 63647.094347\n",
      "yt : [INFO     ] 2022-05-16 09:37:56,833 xlim = 0.000000 63647.094347\n",
      "yt : [INFO     ] 2022-05-16 09:37:56,833 ylim = -63647.094347 63647.094347\n",
      "yt : [INFO     ] 2022-05-16 09:37:56,834 Making a fixed resolution buffer of (('boxlib', 'By')) 800 by 800\n",
      "yt : [INFO     ] 2022-05-16 09:37:56,842 Making a fixed resolution buffer of (('boxlib', 'Ex')) 800 by 800\n",
      "yt : [INFO     ] 2022-05-16 09:37:56,847 Making a fixed resolution buffer of (('boxlib', 'rho_e-')) 800 by 800\n",
      "yt : [INFO     ] 2022-05-16 09:37:56,852 Making a fixed resolution buffer of (('boxlib', 'rho_p+')) 800 by 800\n",
      "yt : [WARNING  ] 2022-05-16 09:37:56,866 Plotting ('boxlib', 'rho_e-'): All negative values. Max = 0.0 dimensionless.\n",
      "yt : [WARNING  ] 2022-05-16 09:37:56,866 Switching to symlog colorbar scaling.\n",
      "yt : [WARNING  ] 2022-05-16 09:37:56,966 Plotting ('boxlib', 'rho_p+'): Both positive and negative values. Min = 0.0 dimensionless, Max = 4.418017607008958e-14 dimensionless.\n",
      "yt : [WARNING  ] 2022-05-16 09:37:56,967 Switching to symlog colorbar scaling.\n",
      "yt : [WARNING  ] 2022-05-16 09:37:57,070 Plotting ('boxlib', 'Ex'): Both positive and negative values. Min = -1.5034830577707379 V/m, Max = 1.3721998057484823 V/m.\n",
      "yt : [WARNING  ] 2022-05-16 09:37:57,070 Switching to symlog colorbar scaling.\n",
      "yt : [WARNING  ] 2022-05-16 09:37:57,144 Plotting ('boxlib', 'By'): Both positive and negative values. Min = -2.1227733453348465e-11 T, Max = 1.7887934759261028e-11 T.\n",
      "yt : [WARNING  ] 2022-05-16 09:37:57,145 Switching to symlog colorbar scaling.\n",
      "yt : [INFO     ] 2022-05-16 09:37:58,170 Saving plot figures/plt305559_Slice_z_rho_e-.png\n",
      "yt : [INFO     ] 2022-05-16 09:37:58,324 Saving plot figures/plt305559_Slice_z_rho_p+.png\n",
      "yt : [INFO     ] 2022-05-16 09:37:58,473 Saving plot figures/plt305559_Slice_z_Ex.png\n",
      "yt : [INFO     ] 2022-05-16 09:37:58,617 Saving plot figures/plt305559_Slice_z_By.png\n",
      "yt : [INFO     ] 2022-05-16 09:37:58,806 Parameters: current_time              = 0.7955747039684749\n",
      "yt : [INFO     ] 2022-05-16 09:37:58,806 Parameters: domain_dimensions         = [ 64 128   1]\n",
      "yt : [INFO     ] 2022-05-16 09:37:58,807 Parameters: domain_left_edge          = [     0.         -63647.09434703      0.        ]\n",
      "yt : [INFO     ] 2022-05-16 09:37:58,808 Parameters: domain_right_edge         = [6.36470943e+04 6.36470943e+04 1.00000000e+00]\n"
     ]
    },
    {
     "name": "stdout",
     "output_type": "stream",
     "text": [
      "0.7955747039684749 code_time\n"
     ]
    },
    {
     "name": "stderr",
     "output_type": "stream",
     "text": [
      "yt : [INFO     ] 2022-05-16 09:38:00,017 xlim = 0.000000 63647.094347\n",
      "yt : [INFO     ] 2022-05-16 09:38:00,017 ylim = -63647.094347 63647.094347\n",
      "yt : [INFO     ] 2022-05-16 09:38:00,018 xlim = 0.000000 63647.094347\n",
      "yt : [INFO     ] 2022-05-16 09:38:00,018 ylim = -63647.094347 63647.094347\n",
      "yt : [INFO     ] 2022-05-16 09:38:00,020 Making a fixed resolution buffer of (('boxlib', 'By')) 800 by 800\n",
      "yt : [INFO     ] 2022-05-16 09:38:00,027 Making a fixed resolution buffer of (('boxlib', 'Ex')) 800 by 800\n",
      "yt : [INFO     ] 2022-05-16 09:38:00,032 Making a fixed resolution buffer of (('boxlib', 'rho_e-')) 800 by 800\n",
      "yt : [INFO     ] 2022-05-16 09:38:00,037 Making a fixed resolution buffer of (('boxlib', 'rho_p+')) 800 by 800\n",
      "yt : [WARNING  ] 2022-05-16 09:38:00,052 Plotting ('boxlib', 'rho_e-'): All negative values. Max = 0.0 dimensionless.\n",
      "yt : [WARNING  ] 2022-05-16 09:38:00,052 Switching to symlog colorbar scaling.\n",
      "yt : [WARNING  ] 2022-05-16 09:38:00,154 Plotting ('boxlib', 'rho_p+'): Both positive and negative values. Min = 0.0 dimensionless, Max = 4.1249353886439e-14 dimensionless.\n",
      "yt : [WARNING  ] 2022-05-16 09:38:00,154 Switching to symlog colorbar scaling.\n",
      "yt : [WARNING  ] 2022-05-16 09:38:00,258 Plotting ('boxlib', 'Ex'): Both positive and negative values. Min = -1.751699113375275 V/m, Max = 1.7435206352941564 V/m.\n",
      "yt : [WARNING  ] 2022-05-16 09:38:00,259 Switching to symlog colorbar scaling.\n",
      "yt : [WARNING  ] 2022-05-16 09:38:00,330 Plotting ('boxlib', 'By'): Both positive and negative values. Min = -3.0230433641903665e-11 T, Max = 2.0818706027598427e-11 T.\n",
      "yt : [WARNING  ] 2022-05-16 09:38:00,331 Switching to symlog colorbar scaling.\n",
      "yt : [INFO     ] 2022-05-16 09:38:01,366 Saving plot figures/plt339510_Slice_z_rho_e-.png\n",
      "yt : [INFO     ] 2022-05-16 09:38:01,522 Saving plot figures/plt339510_Slice_z_rho_p+.png\n",
      "yt : [INFO     ] 2022-05-16 09:38:01,671 Saving plot figures/plt339510_Slice_z_Ex.png\n",
      "yt : [INFO     ] 2022-05-16 09:38:01,813 Saving plot figures/plt339510_Slice_z_By.png\n",
      "yt : [INFO     ] 2022-05-16 09:38:02,001 Parameters: current_time              = 0.7955864204820381\n",
      "yt : [INFO     ] 2022-05-16 09:38:02,002 Parameters: domain_dimensions         = [ 64 128   1]\n",
      "yt : [INFO     ] 2022-05-16 09:38:02,003 Parameters: domain_left_edge          = [     0.         -63647.09434703      0.        ]\n",
      "yt : [INFO     ] 2022-05-16 09:38:02,003 Parameters: domain_right_edge         = [6.36470943e+04 6.36470943e+04 1.00000000e+00]\n"
     ]
    },
    {
     "name": "stdout",
     "output_type": "stream",
     "text": [
      "0.7955864204820381 code_time\n"
     ]
    },
    {
     "name": "stderr",
     "output_type": "stream",
     "text": [
      "yt : [INFO     ] 2022-05-16 09:38:03,225 xlim = 0.000000 63647.094347\n",
      "yt : [INFO     ] 2022-05-16 09:38:03,225 ylim = -63647.094347 63647.094347\n",
      "yt : [INFO     ] 2022-05-16 09:38:03,226 xlim = 0.000000 63647.094347\n",
      "yt : [INFO     ] 2022-05-16 09:38:03,226 ylim = -63647.094347 63647.094347\n",
      "yt : [INFO     ] 2022-05-16 09:38:03,227 Making a fixed resolution buffer of (('boxlib', 'By')) 800 by 800\n",
      "yt : [INFO     ] 2022-05-16 09:38:03,235 Making a fixed resolution buffer of (('boxlib', 'Ex')) 800 by 800\n",
      "yt : [INFO     ] 2022-05-16 09:38:03,240 Making a fixed resolution buffer of (('boxlib', 'rho_e-')) 800 by 800\n",
      "yt : [INFO     ] 2022-05-16 09:38:03,245 Making a fixed resolution buffer of (('boxlib', 'rho_p+')) 800 by 800\n",
      "yt : [WARNING  ] 2022-05-16 09:38:03,259 Plotting ('boxlib', 'rho_e-'): All negative values. Max = 0.0 dimensionless.\n",
      "yt : [WARNING  ] 2022-05-16 09:38:03,259 Switching to symlog colorbar scaling.\n",
      "yt : [WARNING  ] 2022-05-16 09:38:03,362 Plotting ('boxlib', 'rho_p+'): Both positive and negative values. Min = 0.0 dimensionless, Max = 4.124522577590048e-14 dimensionless.\n",
      "yt : [WARNING  ] 2022-05-16 09:38:03,362 Switching to symlog colorbar scaling.\n",
      "yt : [WARNING  ] 2022-05-16 09:38:03,614 Plotting ('boxlib', 'Ex'): Both positive and negative values. Min = -1.7483893155227233 V/m, Max = 1.7404531361269866 V/m.\n",
      "yt : [WARNING  ] 2022-05-16 09:38:03,615 Switching to symlog colorbar scaling.\n",
      "yt : [WARNING  ] 2022-05-16 09:38:03,687 Plotting ('boxlib', 'By'): Both positive and negative values. Min = -3.0939627635319414e-11 T, Max = 2.544186978354082e-11 T.\n",
      "yt : [WARNING  ] 2022-05-16 09:38:03,687 Switching to symlog colorbar scaling.\n",
      "yt : [INFO     ] 2022-05-16 09:38:04,565 Saving plot figures/plt339515_Slice_z_rho_e-.png\n",
      "yt : [INFO     ] 2022-05-16 09:38:04,719 Saving plot figures/plt339515_Slice_z_rho_p+.png\n",
      "yt : [INFO     ] 2022-05-16 09:38:04,867 Saving plot figures/plt339515_Slice_z_Ex.png\n",
      "yt : [INFO     ] 2022-05-16 09:38:05,008 Saving plot figures/plt339515_Slice_z_By.png\n"
     ]
    }
   ],
   "source": [
    "field = [('boxlib','rho_e-'),('boxlib','rho_p+'),('boxlib','By'),('boxlib','Ex')]\n",
    "for ds in ts:\n",
    "    print(ds.current_time)\n",
    "    slc = yt.SlicePlot(ds, \"z\", field,origin=\"native\") # Create a sliceplot object\n",
    "    slc.set_unit(('boxlib','By'), \"nT\")\n",
    "    # slc.annotate_grids() # Show grids\n",
    "    slc.save('figures/')"
   ]
  },
  {
   "cell_type": "code",
   "execution_count": null,
   "metadata": {},
   "outputs": [],
   "source": []
  }
 ],
 "metadata": {
  "interpreter": {
   "hash": "671b0050274f182f665a141985bb36225234931a2a799c68e4f77f49e77a2aa4"
  },
  "kernelspec": {
   "display_name": "Python 3.10.4 ('pic')",
   "language": "python",
   "name": "python3"
  },
  "language_info": {
   "codemirror_mode": {
    "name": "ipython",
    "version": 3
   },
   "file_extension": ".py",
   "mimetype": "text/x-python",
   "name": "python",
   "nbconvert_exporter": "python",
   "pygments_lexer": "ipython3",
   "version": "3.10.4"
  },
  "orig_nbformat": 4
 },
 "nbformat": 4,
 "nbformat_minor": 2
}
