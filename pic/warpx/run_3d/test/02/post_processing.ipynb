{
 "cells": [
  {
   "cell_type": "code",
   "execution_count": 1,
   "metadata": {},
   "outputs": [],
   "source": [
    "import yt\n",
    "# yt.enable_parallelism()"
   ]
  },
  {
   "cell_type": "code",
   "execution_count": 2,
   "metadata": {},
   "outputs": [],
   "source": [
    "diag_name = 'plt'\n",
    "plotfile = './diags/plotfiles/{}??????'.format(diag_name)\n",
    "ts = yt.load(plotfile)"
   ]
  },
  {
   "cell_type": "code",
   "execution_count": 3,
   "metadata": {},
   "outputs": [
    {
     "name": "stderr",
     "output_type": "stream",
     "text": [
      "yt : [INFO     ] 2022-05-17 11:17:45,024 Parameters: current_time              = 0.0\n",
      "yt : [INFO     ] 2022-05-17 11:17:45,025 Parameters: domain_dimensions         = [16 32  1]\n",
      "yt : [INFO     ] 2022-05-17 11:17:45,026 Parameters: domain_left_edge          = [     0.         -63647.09434703      0.        ]\n",
      "yt : [INFO     ] 2022-05-17 11:17:45,026 Parameters: domain_right_edge         = [6.36470943e+04 6.36470943e+04 1.00000000e+00]\n"
     ]
    },
    {
     "data": {
      "text/plain": [
       "[('all', 'particle_cpu'),\n",
       " ('all', 'particle_id'),\n",
       " ('all', 'particle_momentum_x'),\n",
       " ('all', 'particle_momentum_y'),\n",
       " ('all', 'particle_momentum_z'),\n",
       " ('all', 'particle_position_x'),\n",
       " ('all', 'particle_position_y'),\n",
       " ('all', 'particle_weight'),\n",
       " ('boxlib', 'Bx'),\n",
       " ('boxlib', 'By'),\n",
       " ('boxlib', 'Bz'),\n",
       " ('boxlib', 'Ex'),\n",
       " ('boxlib', 'Ey'),\n",
       " ('boxlib', 'Ez'),\n",
       " ('boxlib', 'jx'),\n",
       " ('boxlib', 'jy'),\n",
       " ('boxlib', 'jz'),\n",
       " ('boxlib', 'rho'),\n",
       " ('boxlib', 'rho_e-'),\n",
       " ('boxlib', 'rho_p+'),\n",
       " ('e-', 'particle_cpu'),\n",
       " ('e-', 'particle_id'),\n",
       " ('e-', 'particle_momentum_x'),\n",
       " ('e-', 'particle_momentum_y'),\n",
       " ('e-', 'particle_momentum_z'),\n",
       " ('e-', 'particle_position_x'),\n",
       " ('e-', 'particle_position_y'),\n",
       " ('e-', 'particle_weight'),\n",
       " ('nbody', 'particle_cpu'),\n",
       " ('nbody', 'particle_id'),\n",
       " ('nbody', 'particle_momentum_x'),\n",
       " ('nbody', 'particle_momentum_y'),\n",
       " ('nbody', 'particle_momentum_z'),\n",
       " ('nbody', 'particle_position_x'),\n",
       " ('nbody', 'particle_position_y'),\n",
       " ('nbody', 'particle_weight'),\n",
       " ('p+', 'particle_cpu'),\n",
       " ('p+', 'particle_id'),\n",
       " ('p+', 'particle_momentum_x'),\n",
       " ('p+', 'particle_momentum_y'),\n",
       " ('p+', 'particle_momentum_z'),\n",
       " ('p+', 'particle_position_x'),\n",
       " ('p+', 'particle_position_y'),\n",
       " ('p+', 'particle_weight')]"
      ]
     },
     "execution_count": 3,
     "metadata": {},
     "output_type": "execute_result"
    }
   ],
   "source": [
    "ds = ts[0]\n",
    "ds.field_list"
   ]
  },
  {
   "cell_type": "code",
   "execution_count": 4,
   "metadata": {},
   "outputs": [
    {
     "name": "stderr",
     "output_type": "stream",
     "text": [
      "yt : [INFO     ] 2022-05-17 11:17:46,401 Parameters: current_time              = 0.0\n",
      "yt : [INFO     ] 2022-05-17 11:17:46,402 Parameters: domain_dimensions         = [16 32  1]\n",
      "yt : [INFO     ] 2022-05-17 11:17:46,402 Parameters: domain_left_edge          = [     0.         -63647.09434703      0.        ]\n",
      "yt : [INFO     ] 2022-05-17 11:17:46,403 Parameters: domain_right_edge         = [6.36470943e+04 6.36470943e+04 1.00000000e+00]\n"
     ]
    },
    {
     "data": {
      "text/plain": [
       "T"
      ]
     },
     "execution_count": 4,
     "metadata": {},
     "output_type": "execute_result"
    }
   ],
   "source": [
    "ds = ts[0]\n",
    "dd = ds.all_data()\n",
    "dd['boxlib','By'].units"
   ]
  },
  {
   "cell_type": "code",
   "execution_count": 5,
   "metadata": {},
   "outputs": [
    {
     "name": "stderr",
     "output_type": "stream",
     "text": [
      "yt : [INFO     ] 2022-05-17 11:17:47,705 Parameters: current_time              = 0.0\n",
      "yt : [INFO     ] 2022-05-17 11:17:47,706 Parameters: domain_dimensions         = [16 32  1]\n",
      "yt : [INFO     ] 2022-05-17 11:17:47,707 Parameters: domain_left_edge          = [     0.         -63647.09434703      0.        ]\n",
      "yt : [INFO     ] 2022-05-17 11:17:47,707 Parameters: domain_right_edge         = [6.36470943e+04 6.36470943e+04 1.00000000e+00]\n"
     ]
    },
    {
     "name": "stdout",
     "output_type": "stream",
     "text": [
      "0.0 code_time\n"
     ]
    },
    {
     "name": "stderr",
     "output_type": "stream",
     "text": [
      "yt : [INFO     ] 2022-05-17 11:17:48,861 xlim = 0.000000 63647.094347\n",
      "yt : [INFO     ] 2022-05-17 11:17:48,862 ylim = -63647.094347 63647.094347\n",
      "yt : [INFO     ] 2022-05-17 11:17:48,862 xlim = 0.000000 63647.094347\n",
      "yt : [INFO     ] 2022-05-17 11:17:48,862 ylim = -63647.094347 63647.094347\n",
      "yt : [INFO     ] 2022-05-17 11:17:48,864 Making a fixed resolution buffer of (('boxlib', 'Bx')) 800 by 800\n",
      "yt : [INFO     ] 2022-05-17 11:17:48,870 Making a fixed resolution buffer of (('boxlib', 'By')) 800 by 800\n",
      "yt : [INFO     ] 2022-05-17 11:17:48,876 Making a fixed resolution buffer of (('boxlib', 'Bz')) 800 by 800\n",
      "yt : [WARNING  ] 2022-05-17 11:17:48,895 Plotting ('boxlib', 'By'): All values = 0.0 T\n",
      "yt : [WARNING  ] 2022-05-17 11:17:48,895 Switching to linear colorbar scaling.\n",
      "yt : [WARNING  ] 2022-05-17 11:17:49,153 Plotting ('boxlib', 'Bz'): Both positive and negative values. Min = -4.999538503222019e-08 T, Max = 1.1532534148541816e-08 T.\n",
      "yt : [WARNING  ] 2022-05-17 11:17:49,154 Switching to symlog colorbar scaling.\n",
      "yt : [WARNING  ] 2022-05-17 11:17:49,228 Plotting ('boxlib', 'Bx'): Both positive and negative values. Min = -6.11320301763076e-08 T, Max = 6.113203017631041e-08 T.\n",
      "yt : [WARNING  ] 2022-05-17 11:17:49,228 Switching to symlog colorbar scaling.\n",
      "yt : [INFO     ] 2022-05-17 11:17:49,874 Saving plot figures/plt000000_Slice_z_By.png\n",
      "yt : [INFO     ] 2022-05-17 11:17:50,080 Saving plot figures/plt000000_Slice_z_Bz.png\n",
      "yt : [INFO     ] 2022-05-17 11:17:50,214 Saving plot figures/plt000000_Slice_z_Bx.png\n",
      "yt : [INFO     ] 2022-05-17 11:17:50,383 Parameters: current_time              = 0.0795504404882038\n",
      "yt : [INFO     ] 2022-05-17 11:17:50,384 Parameters: domain_dimensions         = [16 32  1]\n",
      "yt : [INFO     ] 2022-05-17 11:17:50,385 Parameters: domain_left_edge          = [     0.         -63647.09434703      0.        ]\n",
      "yt : [INFO     ] 2022-05-17 11:17:50,386 Parameters: domain_right_edge         = [6.36470943e+04 6.36470943e+04 1.00000000e+00]\n"
     ]
    },
    {
     "name": "stdout",
     "output_type": "stream",
     "text": [
      "0.0795504404882038 code_time\n"
     ]
    },
    {
     "name": "stderr",
     "output_type": "stream",
     "text": [
      "yt : [INFO     ] 2022-05-17 11:17:51,650 xlim = 0.000000 63647.094347\n",
      "yt : [INFO     ] 2022-05-17 11:17:51,651 ylim = -63647.094347 63647.094347\n",
      "yt : [INFO     ] 2022-05-17 11:17:51,651 xlim = 0.000000 63647.094347\n",
      "yt : [INFO     ] 2022-05-17 11:17:51,652 ylim = -63647.094347 63647.094347\n",
      "yt : [INFO     ] 2022-05-17 11:17:51,653 Making a fixed resolution buffer of (('boxlib', 'Bx')) 800 by 800\n",
      "yt : [INFO     ] 2022-05-17 11:17:51,658 Making a fixed resolution buffer of (('boxlib', 'By')) 800 by 800\n",
      "yt : [INFO     ] 2022-05-17 11:17:51,662 Making a fixed resolution buffer of (('boxlib', 'Bz')) 800 by 800\n",
      "yt : [WARNING  ] 2022-05-17 11:17:51,681 Plotting ('boxlib', 'By'): Both positive and negative values. Min = -2.804249314185328e-10 T, Max = 2.737537034871931e-10 T.\n",
      "yt : [WARNING  ] 2022-05-17 11:17:51,681 Switching to symlog colorbar scaling.\n",
      "yt : [WARNING  ] 2022-05-17 11:17:51,758 Plotting ('boxlib', 'Bz'): Both positive and negative values. Min = -2.046355547960122e-09 T, Max = 1.0660043152619175e-08 T.\n",
      "yt : [WARNING  ] 2022-05-17 11:17:51,758 Switching to symlog colorbar scaling.\n",
      "yt : [WARNING  ] 2022-05-17 11:17:51,841 Plotting ('boxlib', 'Bx'): Both positive and negative values. Min = -7.308122223945894e-09 T, Max = 7.285714598511567e-09 T.\n",
      "yt : [WARNING  ] 2022-05-17 11:17:51,841 Switching to symlog colorbar scaling.\n",
      "yt : [INFO     ] 2022-05-17 11:17:52,504 Saving plot figures/plt008487_Slice_z_By.png\n",
      "yt : [INFO     ] 2022-05-17 11:17:52,641 Saving plot figures/plt008487_Slice_z_Bz.png\n",
      "yt : [INFO     ] 2022-05-17 11:17:52,783 Saving plot figures/plt008487_Slice_z_Bx.png\n",
      "yt : [INFO     ] 2022-05-17 11:17:52,950 Parameters: current_time              = 0.15910088097642067\n",
      "yt : [INFO     ] 2022-05-17 11:17:52,951 Parameters: domain_dimensions         = [16 32  1]\n",
      "yt : [INFO     ] 2022-05-17 11:17:52,952 Parameters: domain_left_edge          = [     0.         -63647.09434703      0.        ]\n",
      "yt : [INFO     ] 2022-05-17 11:17:52,952 Parameters: domain_right_edge         = [6.36470943e+04 6.36470943e+04 1.00000000e+00]\n"
     ]
    },
    {
     "name": "stdout",
     "output_type": "stream",
     "text": [
      "0.15910088097642067 code_time\n"
     ]
    },
    {
     "name": "stderr",
     "output_type": "stream",
     "text": [
      "yt : [INFO     ] 2022-05-17 11:17:54,122 xlim = 0.000000 63647.094347\n",
      "yt : [INFO     ] 2022-05-17 11:17:54,123 ylim = -63647.094347 63647.094347\n",
      "yt : [INFO     ] 2022-05-17 11:17:54,123 xlim = 0.000000 63647.094347\n",
      "yt : [INFO     ] 2022-05-17 11:17:54,124 ylim = -63647.094347 63647.094347\n",
      "yt : [INFO     ] 2022-05-17 11:17:54,125 Making a fixed resolution buffer of (('boxlib', 'Bx')) 800 by 800\n",
      "yt : [INFO     ] 2022-05-17 11:17:54,131 Making a fixed resolution buffer of (('boxlib', 'By')) 800 by 800\n",
      "yt : [INFO     ] 2022-05-17 11:17:54,136 Making a fixed resolution buffer of (('boxlib', 'Bz')) 800 by 800\n",
      "yt : [WARNING  ] 2022-05-17 11:17:54,157 Plotting ('boxlib', 'By'): Both positive and negative values. Min = -3.2943928826145205e-10 T, Max = 2.90478594338361e-10 T.\n",
      "yt : [WARNING  ] 2022-05-17 11:17:54,157 Switching to symlog colorbar scaling.\n",
      "yt : [WARNING  ] 2022-05-17 11:17:54,344 Plotting ('boxlib', 'Bz'): Both positive and negative values. Min = -2.1488462445776414e-09 T, Max = 1.0795887092409715e-08 T.\n",
      "yt : [WARNING  ] 2022-05-17 11:17:54,345 Switching to symlog colorbar scaling.\n",
      "yt : [WARNING  ] 2022-05-17 11:17:54,431 Plotting ('boxlib', 'Bx'): Both positive and negative values. Min = -8.357309477571705e-09 T, Max = 8.400717037466947e-09 T.\n",
      "yt : [WARNING  ] 2022-05-17 11:17:54,431 Switching to symlog colorbar scaling.\n",
      "yt : [INFO     ] 2022-05-17 11:17:55,079 Saving plot figures/plt016974_Slice_z_By.png\n",
      "yt : [INFO     ] 2022-05-17 11:17:55,222 Saving plot figures/plt016974_Slice_z_Bz.png\n",
      "yt : [INFO     ] 2022-05-17 11:17:55,363 Saving plot figures/plt016974_Slice_z_Bx.png\n",
      "yt : [INFO     ] 2022-05-17 11:17:55,538 Parameters: current_time              = 0.23865132146470483\n",
      "yt : [INFO     ] 2022-05-17 11:17:55,539 Parameters: domain_dimensions         = [16 32  1]\n",
      "yt : [INFO     ] 2022-05-17 11:17:55,539 Parameters: domain_left_edge          = [     0.         -63647.09434703      0.        ]\n",
      "yt : [INFO     ] 2022-05-17 11:17:55,540 Parameters: domain_right_edge         = [6.36470943e+04 6.36470943e+04 1.00000000e+00]\n"
     ]
    },
    {
     "name": "stdout",
     "output_type": "stream",
     "text": [
      "0.23865132146470483 code_time\n"
     ]
    },
    {
     "name": "stderr",
     "output_type": "stream",
     "text": [
      "yt : [INFO     ] 2022-05-17 11:17:56,739 xlim = 0.000000 63647.094347\n",
      "yt : [INFO     ] 2022-05-17 11:17:56,740 ylim = -63647.094347 63647.094347\n",
      "yt : [INFO     ] 2022-05-17 11:17:56,740 xlim = 0.000000 63647.094347\n",
      "yt : [INFO     ] 2022-05-17 11:17:56,741 ylim = -63647.094347 63647.094347\n",
      "yt : [INFO     ] 2022-05-17 11:17:56,742 Making a fixed resolution buffer of (('boxlib', 'Bx')) 800 by 800\n",
      "yt : [INFO     ] 2022-05-17 11:17:56,747 Making a fixed resolution buffer of (('boxlib', 'By')) 800 by 800\n",
      "yt : [INFO     ] 2022-05-17 11:17:56,751 Making a fixed resolution buffer of (('boxlib', 'Bz')) 800 by 800\n",
      "yt : [WARNING  ] 2022-05-17 11:17:56,773 Plotting ('boxlib', 'By'): Both positive and negative values. Min = -1.519755644933725e-10 T, Max = 1.2737798905064928e-10 T.\n",
      "yt : [WARNING  ] 2022-05-17 11:17:56,773 Switching to symlog colorbar scaling.\n",
      "yt : [WARNING  ] 2022-05-17 11:17:56,848 Plotting ('boxlib', 'Bz'): Both positive and negative values. Min = -2.2117561900946832e-09 T, Max = 1.0656566505596661e-08 T.\n",
      "yt : [WARNING  ] 2022-05-17 11:17:56,848 Switching to symlog colorbar scaling.\n",
      "yt : [WARNING  ] 2022-05-17 11:17:57,045 Plotting ('boxlib', 'Bx'): Both positive and negative values. Min = -7.757290648217157e-09 T, Max = 7.565305927525775e-09 T.\n",
      "yt : [WARNING  ] 2022-05-17 11:17:57,046 Switching to symlog colorbar scaling.\n",
      "yt : [INFO     ] 2022-05-17 11:17:57,681 Saving plot figures/plt025461_Slice_z_By.png\n",
      "yt : [INFO     ] 2022-05-17 11:17:57,819 Saving plot figures/plt025461_Slice_z_Bz.png\n",
      "yt : [INFO     ] 2022-05-17 11:17:57,962 Saving plot figures/plt025461_Slice_z_Bx.png\n",
      "yt : [INFO     ] 2022-05-17 11:17:58,131 Parameters: current_time              = 0.31820176195278704\n",
      "yt : [INFO     ] 2022-05-17 11:17:58,131 Parameters: domain_dimensions         = [16 32  1]\n",
      "yt : [INFO     ] 2022-05-17 11:17:58,132 Parameters: domain_left_edge          = [     0.         -63647.09434703      0.        ]\n",
      "yt : [INFO     ] 2022-05-17 11:17:58,133 Parameters: domain_right_edge         = [6.36470943e+04 6.36470943e+04 1.00000000e+00]\n"
     ]
    },
    {
     "name": "stdout",
     "output_type": "stream",
     "text": [
      "0.31820176195278704 code_time\n"
     ]
    },
    {
     "name": "stderr",
     "output_type": "stream",
     "text": [
      "yt : [INFO     ] 2022-05-17 11:17:59,340 xlim = 0.000000 63647.094347\n",
      "yt : [INFO     ] 2022-05-17 11:17:59,341 ylim = -63647.094347 63647.094347\n",
      "yt : [INFO     ] 2022-05-17 11:17:59,342 xlim = 0.000000 63647.094347\n",
      "yt : [INFO     ] 2022-05-17 11:17:59,342 ylim = -63647.094347 63647.094347\n",
      "yt : [INFO     ] 2022-05-17 11:17:59,343 Making a fixed resolution buffer of (('boxlib', 'Bx')) 800 by 800\n",
      "yt : [INFO     ] 2022-05-17 11:17:59,348 Making a fixed resolution buffer of (('boxlib', 'By')) 800 by 800\n",
      "yt : [INFO     ] 2022-05-17 11:17:59,353 Making a fixed resolution buffer of (('boxlib', 'Bz')) 800 by 800\n",
      "yt : [WARNING  ] 2022-05-17 11:17:59,370 Plotting ('boxlib', 'By'): Both positive and negative values. Min = -1.1290446219524395e-10 T, Max = 1.0559943592574984e-10 T.\n",
      "yt : [WARNING  ] 2022-05-17 11:17:59,371 Switching to symlog colorbar scaling.\n",
      "yt : [WARNING  ] 2022-05-17 11:17:59,443 Plotting ('boxlib', 'Bz'): Both positive and negative values. Min = -2.2932710660022538e-09 T, Max = 1.0570858520359023e-08 T.\n",
      "yt : [WARNING  ] 2022-05-17 11:17:59,444 Switching to symlog colorbar scaling.\n",
      "yt : [WARNING  ] 2022-05-17 11:17:59,525 Plotting ('boxlib', 'Bx'): Both positive and negative values. Min = -7.45873953187707e-09 T, Max = 7.298939092958438e-09 T.\n",
      "yt : [WARNING  ] 2022-05-17 11:17:59,525 Switching to symlog colorbar scaling.\n",
      "yt : [INFO     ] 2022-05-17 11:18:00,289 Saving plot figures/plt033948_Slice_z_By.png\n",
      "yt : [INFO     ] 2022-05-17 11:18:00,428 Saving plot figures/plt033948_Slice_z_Bz.png\n",
      "yt : [INFO     ] 2022-05-17 11:18:00,569 Saving plot figures/plt033948_Slice_z_Bx.png\n",
      "yt : [INFO     ] 2022-05-17 11:18:00,737 Parameters: current_time              = 0.39775220244083564\n",
      "yt : [INFO     ] 2022-05-17 11:18:00,738 Parameters: domain_dimensions         = [16 32  1]\n",
      "yt : [INFO     ] 2022-05-17 11:18:00,738 Parameters: domain_left_edge          = [     0.         -63647.09434703      0.        ]\n",
      "yt : [INFO     ] 2022-05-17 11:18:00,739 Parameters: domain_right_edge         = [6.36470943e+04 6.36470943e+04 1.00000000e+00]\n"
     ]
    },
    {
     "name": "stdout",
     "output_type": "stream",
     "text": [
      "0.39775220244083564 code_time\n"
     ]
    },
    {
     "name": "stderr",
     "output_type": "stream",
     "text": [
      "yt : [INFO     ] 2022-05-17 11:18:01,917 xlim = 0.000000 63647.094347\n",
      "yt : [INFO     ] 2022-05-17 11:18:01,918 ylim = -63647.094347 63647.094347\n",
      "yt : [INFO     ] 2022-05-17 11:18:01,918 xlim = 0.000000 63647.094347\n",
      "yt : [INFO     ] 2022-05-17 11:18:01,918 ylim = -63647.094347 63647.094347\n",
      "yt : [INFO     ] 2022-05-17 11:18:01,919 Making a fixed resolution buffer of (('boxlib', 'Bx')) 800 by 800\n",
      "yt : [INFO     ] 2022-05-17 11:18:01,925 Making a fixed resolution buffer of (('boxlib', 'By')) 800 by 800\n",
      "yt : [INFO     ] 2022-05-17 11:18:01,929 Making a fixed resolution buffer of (('boxlib', 'Bz')) 800 by 800\n",
      "yt : [WARNING  ] 2022-05-17 11:18:01,947 Plotting ('boxlib', 'By'): Both positive and negative values. Min = -1.0827243063468079e-10 T, Max = 1.1213157057175786e-10 T.\n",
      "yt : [WARNING  ] 2022-05-17 11:18:01,947 Switching to symlog colorbar scaling.\n",
      "yt : [WARNING  ] 2022-05-17 11:18:02,016 Plotting ('boxlib', 'Bz'): Both positive and negative values. Min = -2.318500395761519e-09 T, Max = 1.0446861004096559e-08 T.\n",
      "yt : [WARNING  ] 2022-05-17 11:18:02,017 Switching to symlog colorbar scaling.\n",
      "yt : [WARNING  ] 2022-05-17 11:18:02,096 Plotting ('boxlib', 'Bx'): Both positive and negative values. Min = -7.220811853613414e-09 T, Max = 7.168897921101328e-09 T.\n",
      "yt : [WARNING  ] 2022-05-17 11:18:02,097 Switching to symlog colorbar scaling.\n",
      "yt : [INFO     ] 2022-05-17 11:18:02,864 Saving plot figures/plt042435_Slice_z_By.png\n",
      "yt : [INFO     ] 2022-05-17 11:18:03,002 Saving plot figures/plt042435_Slice_z_Bz.png\n",
      "yt : [INFO     ] 2022-05-17 11:18:03,146 Saving plot figures/plt042435_Slice_z_Bx.png\n",
      "yt : [INFO     ] 2022-05-17 11:18:03,314 Parameters: current_time              = 0.47730264292888425\n",
      "yt : [INFO     ] 2022-05-17 11:18:03,315 Parameters: domain_dimensions         = [16 32  1]\n",
      "yt : [INFO     ] 2022-05-17 11:18:03,316 Parameters: domain_left_edge          = [     0.         -63647.09434703      0.        ]\n",
      "yt : [INFO     ] 2022-05-17 11:18:03,316 Parameters: domain_right_edge         = [6.36470943e+04 6.36470943e+04 1.00000000e+00]\n"
     ]
    },
    {
     "name": "stdout",
     "output_type": "stream",
     "text": [
      "0.47730264292888425 code_time\n"
     ]
    },
    {
     "name": "stderr",
     "output_type": "stream",
     "text": [
      "yt : [INFO     ] 2022-05-17 11:18:04,506 xlim = 0.000000 63647.094347\n",
      "yt : [INFO     ] 2022-05-17 11:18:04,507 ylim = -63647.094347 63647.094347\n",
      "yt : [INFO     ] 2022-05-17 11:18:04,507 xlim = 0.000000 63647.094347\n",
      "yt : [INFO     ] 2022-05-17 11:18:04,508 ylim = -63647.094347 63647.094347\n",
      "yt : [INFO     ] 2022-05-17 11:18:04,509 Making a fixed resolution buffer of (('boxlib', 'Bx')) 800 by 800\n",
      "yt : [INFO     ] 2022-05-17 11:18:04,514 Making a fixed resolution buffer of (('boxlib', 'By')) 800 by 800\n",
      "yt : [INFO     ] 2022-05-17 11:18:04,518 Making a fixed resolution buffer of (('boxlib', 'Bz')) 800 by 800\n",
      "yt : [WARNING  ] 2022-05-17 11:18:04,536 Plotting ('boxlib', 'By'): Both positive and negative values. Min = -1.5061740961644848e-10 T, Max = 9.499651825552042e-11 T.\n",
      "yt : [WARNING  ] 2022-05-17 11:18:04,536 Switching to symlog colorbar scaling.\n",
      "yt : [WARNING  ] 2022-05-17 11:18:04,628 Plotting ('boxlib', 'Bz'): Both positive and negative values. Min = -2.324256606148233e-09 T, Max = 1.0406573986536123e-08 T.\n",
      "yt : [WARNING  ] 2022-05-17 11:18:04,628 Switching to symlog colorbar scaling.\n",
      "yt : [WARNING  ] 2022-05-17 11:18:04,709 Plotting ('boxlib', 'Bx'): Both positive and negative values. Min = -7.194017714290225e-09 T, Max = 7.161967359569219e-09 T.\n",
      "yt : [WARNING  ] 2022-05-17 11:18:04,709 Switching to symlog colorbar scaling.\n",
      "yt : [INFO     ] 2022-05-17 11:18:05,486 Saving plot figures/plt050922_Slice_z_By.png\n",
      "yt : [INFO     ] 2022-05-17 11:18:05,618 Saving plot figures/plt050922_Slice_z_Bz.png\n",
      "yt : [INFO     ] 2022-05-17 11:18:05,760 Saving plot figures/plt050922_Slice_z_Bx.png\n",
      "yt : [INFO     ] 2022-05-17 11:18:05,927 Parameters: current_time              = 0.5568530834169328\n",
      "yt : [INFO     ] 2022-05-17 11:18:05,928 Parameters: domain_dimensions         = [16 32  1]\n",
      "yt : [INFO     ] 2022-05-17 11:18:05,929 Parameters: domain_left_edge          = [     0.         -63647.09434703      0.        ]\n",
      "yt : [INFO     ] 2022-05-17 11:18:05,929 Parameters: domain_right_edge         = [6.36470943e+04 6.36470943e+04 1.00000000e+00]\n"
     ]
    },
    {
     "name": "stdout",
     "output_type": "stream",
     "text": [
      "0.5568530834169328 code_time\n"
     ]
    },
    {
     "name": "stderr",
     "output_type": "stream",
     "text": [
      "yt : [INFO     ] 2022-05-17 11:18:07,126 xlim = 0.000000 63647.094347\n",
      "yt : [INFO     ] 2022-05-17 11:18:07,127 ylim = -63647.094347 63647.094347\n",
      "yt : [INFO     ] 2022-05-17 11:18:07,127 xlim = 0.000000 63647.094347\n",
      "yt : [INFO     ] 2022-05-17 11:18:07,128 ylim = -63647.094347 63647.094347\n",
      "yt : [INFO     ] 2022-05-17 11:18:07,129 Making a fixed resolution buffer of (('boxlib', 'Bx')) 800 by 800\n",
      "yt : [INFO     ] 2022-05-17 11:18:07,134 Making a fixed resolution buffer of (('boxlib', 'By')) 800 by 800\n",
      "yt : [INFO     ] 2022-05-17 11:18:07,138 Making a fixed resolution buffer of (('boxlib', 'Bz')) 800 by 800\n",
      "yt : [WARNING  ] 2022-05-17 11:18:07,156 Plotting ('boxlib', 'By'): Both positive and negative values. Min = -1.1422389259819875e-10 T, Max = 9.75287401130411e-11 T.\n",
      "yt : [WARNING  ] 2022-05-17 11:18:07,156 Switching to symlog colorbar scaling.\n",
      "yt : [WARNING  ] 2022-05-17 11:18:07,248 Plotting ('boxlib', 'Bz'): Both positive and negative values. Min = -2.322991008407982e-09 T, Max = 1.0352729029837175e-08 T.\n",
      "yt : [WARNING  ] 2022-05-17 11:18:07,248 Switching to symlog colorbar scaling.\n",
      "yt : [WARNING  ] 2022-05-17 11:18:07,333 Plotting ('boxlib', 'Bx'): Both positive and negative values. Min = -7.115589049595987e-09 T, Max = 7.112544800650102e-09 T.\n",
      "yt : [WARNING  ] 2022-05-17 11:18:07,334 Switching to symlog colorbar scaling.\n",
      "yt : [INFO     ] 2022-05-17 11:18:08,108 Saving plot figures/plt059409_Slice_z_By.png\n",
      "yt : [INFO     ] 2022-05-17 11:18:08,241 Saving plot figures/plt059409_Slice_z_Bz.png\n",
      "yt : [INFO     ] 2022-05-17 11:18:08,383 Saving plot figures/plt059409_Slice_z_Bx.png\n",
      "yt : [INFO     ] 2022-05-17 11:18:08,551 Parameters: current_time              = 0.6364035239049814\n",
      "yt : [INFO     ] 2022-05-17 11:18:08,551 Parameters: domain_dimensions         = [16 32  1]\n",
      "yt : [INFO     ] 2022-05-17 11:18:08,552 Parameters: domain_left_edge          = [     0.         -63647.09434703      0.        ]\n",
      "yt : [INFO     ] 2022-05-17 11:18:08,553 Parameters: domain_right_edge         = [6.36470943e+04 6.36470943e+04 1.00000000e+00]\n"
     ]
    },
    {
     "name": "stdout",
     "output_type": "stream",
     "text": [
      "0.6364035239049814 code_time\n"
     ]
    },
    {
     "name": "stderr",
     "output_type": "stream",
     "text": [
      "yt : [INFO     ] 2022-05-17 11:18:09,729 xlim = 0.000000 63647.094347\n",
      "yt : [INFO     ] 2022-05-17 11:18:09,730 ylim = -63647.094347 63647.094347\n",
      "yt : [INFO     ] 2022-05-17 11:18:09,730 xlim = 0.000000 63647.094347\n",
      "yt : [INFO     ] 2022-05-17 11:18:09,731 ylim = -63647.094347 63647.094347\n",
      "yt : [INFO     ] 2022-05-17 11:18:09,732 Making a fixed resolution buffer of (('boxlib', 'Bx')) 800 by 800\n",
      "yt : [INFO     ] 2022-05-17 11:18:09,737 Making a fixed resolution buffer of (('boxlib', 'By')) 800 by 800\n",
      "yt : [INFO     ] 2022-05-17 11:18:09,741 Making a fixed resolution buffer of (('boxlib', 'Bz')) 800 by 800\n",
      "yt : [WARNING  ] 2022-05-17 11:18:09,759 Plotting ('boxlib', 'By'): Both positive and negative values. Min = -1.4262644842951358e-10 T, Max = 1.6988014429774308e-10 T.\n",
      "yt : [WARNING  ] 2022-05-17 11:18:09,759 Switching to symlog colorbar scaling.\n",
      "yt : [WARNING  ] 2022-05-17 11:18:09,829 Plotting ('boxlib', 'Bz'): Both positive and negative values. Min = -2.3274305654280805e-09 T, Max = 1.0393012737872004e-08 T.\n",
      "yt : [WARNING  ] 2022-05-17 11:18:09,829 Switching to symlog colorbar scaling.\n",
      "yt : [WARNING  ] 2022-05-17 11:18:09,910 Plotting ('boxlib', 'Bx'): Both positive and negative values. Min = -7.080772188807124e-09 T, Max = 7.095591617023808e-09 T.\n",
      "yt : [WARNING  ] 2022-05-17 11:18:09,911 Switching to symlog colorbar scaling.\n",
      "yt : [INFO     ] 2022-05-17 11:18:10,666 Saving plot figures/plt067896_Slice_z_By.png\n",
      "yt : [INFO     ] 2022-05-17 11:18:10,805 Saving plot figures/plt067896_Slice_z_Bz.png\n",
      "yt : [INFO     ] 2022-05-17 11:18:10,947 Saving plot figures/plt067896_Slice_z_Bx.png\n",
      "yt : [INFO     ] 2022-05-17 11:18:11,118 Parameters: current_time              = 0.71595396439303\n",
      "yt : [INFO     ] 2022-05-17 11:18:11,118 Parameters: domain_dimensions         = [16 32  1]\n",
      "yt : [INFO     ] 2022-05-17 11:18:11,119 Parameters: domain_left_edge          = [     0.         -63647.09434703      0.        ]\n",
      "yt : [INFO     ] 2022-05-17 11:18:11,120 Parameters: domain_right_edge         = [6.36470943e+04 6.36470943e+04 1.00000000e+00]\n"
     ]
    },
    {
     "name": "stdout",
     "output_type": "stream",
     "text": [
      "0.71595396439303 code_time\n"
     ]
    },
    {
     "name": "stderr",
     "output_type": "stream",
     "text": [
      "yt : [INFO     ] 2022-05-17 11:18:12,309 xlim = 0.000000 63647.094347\n",
      "yt : [INFO     ] 2022-05-17 11:18:12,310 ylim = -63647.094347 63647.094347\n",
      "yt : [INFO     ] 2022-05-17 11:18:12,310 xlim = 0.000000 63647.094347\n",
      "yt : [INFO     ] 2022-05-17 11:18:12,310 ylim = -63647.094347 63647.094347\n",
      "yt : [INFO     ] 2022-05-17 11:18:12,311 Making a fixed resolution buffer of (('boxlib', 'Bx')) 800 by 800\n",
      "yt : [INFO     ] 2022-05-17 11:18:12,317 Making a fixed resolution buffer of (('boxlib', 'By')) 800 by 800\n",
      "yt : [INFO     ] 2022-05-17 11:18:12,321 Making a fixed resolution buffer of (('boxlib', 'Bz')) 800 by 800\n",
      "yt : [WARNING  ] 2022-05-17 11:18:12,339 Plotting ('boxlib', 'By'): Both positive and negative values. Min = -1.0939940415962378e-10 T, Max = 1.9816328943238276e-10 T.\n",
      "yt : [WARNING  ] 2022-05-17 11:18:12,339 Switching to symlog colorbar scaling.\n",
      "yt : [WARNING  ] 2022-05-17 11:18:12,408 Plotting ('boxlib', 'Bz'): Both positive and negative values. Min = -2.3650397115994307e-09 T, Max = 1.0347912634325322e-08 T.\n",
      "yt : [WARNING  ] 2022-05-17 11:18:12,409 Switching to symlog colorbar scaling.\n",
      "yt : [WARNING  ] 2022-05-17 11:18:12,490 Plotting ('boxlib', 'Bx'): Both positive and negative values. Min = -7.091283667611197e-09 T, Max = 7.084237557526161e-09 T.\n",
      "yt : [WARNING  ] 2022-05-17 11:18:12,491 Switching to symlog colorbar scaling.\n",
      "yt : [INFO     ] 2022-05-17 11:18:13,243 Saving plot figures/plt076383_Slice_z_By.png\n",
      "yt : [INFO     ] 2022-05-17 11:18:13,386 Saving plot figures/plt076383_Slice_z_Bz.png\n",
      "yt : [INFO     ] 2022-05-17 11:18:13,526 Saving plot figures/plt076383_Slice_z_Bx.png\n",
      "yt : [INFO     ] 2022-05-17 11:18:13,697 Parameters: current_time              = 0.7955044048810787\n",
      "yt : [INFO     ] 2022-05-17 11:18:13,698 Parameters: domain_dimensions         = [16 32  1]\n",
      "yt : [INFO     ] 2022-05-17 11:18:13,699 Parameters: domain_left_edge          = [     0.         -63647.09434703      0.        ]\n",
      "yt : [INFO     ] 2022-05-17 11:18:13,699 Parameters: domain_right_edge         = [6.36470943e+04 6.36470943e+04 1.00000000e+00]\n"
     ]
    },
    {
     "name": "stdout",
     "output_type": "stream",
     "text": [
      "0.7955044048810787 code_time\n"
     ]
    },
    {
     "name": "stderr",
     "output_type": "stream",
     "text": [
      "yt : [INFO     ] 2022-05-17 11:18:14,877 xlim = 0.000000 63647.094347\n",
      "yt : [INFO     ] 2022-05-17 11:18:14,878 ylim = -63647.094347 63647.094347\n",
      "yt : [INFO     ] 2022-05-17 11:18:14,879 xlim = 0.000000 63647.094347\n",
      "yt : [INFO     ] 2022-05-17 11:18:14,879 ylim = -63647.094347 63647.094347\n",
      "yt : [INFO     ] 2022-05-17 11:18:14,880 Making a fixed resolution buffer of (('boxlib', 'Bx')) 800 by 800\n",
      "yt : [INFO     ] 2022-05-17 11:18:14,886 Making a fixed resolution buffer of (('boxlib', 'By')) 800 by 800\n",
      "yt : [INFO     ] 2022-05-17 11:18:14,891 Making a fixed resolution buffer of (('boxlib', 'Bz')) 800 by 800\n",
      "yt : [WARNING  ] 2022-05-17 11:18:14,910 Plotting ('boxlib', 'By'): Both positive and negative values. Min = -2.678284063979621e-10 T, Max = 1.3015487440107813e-10 T.\n",
      "yt : [WARNING  ] 2022-05-17 11:18:14,911 Switching to symlog colorbar scaling.\n",
      "yt : [WARNING  ] 2022-05-17 11:18:14,981 Plotting ('boxlib', 'Bz'): Both positive and negative values. Min = -2.3774472282142446e-09 T, Max = 1.0297112862469283e-08 T.\n",
      "yt : [WARNING  ] 2022-05-17 11:18:14,981 Switching to symlog colorbar scaling.\n",
      "yt : [WARNING  ] 2022-05-17 11:18:15,061 Plotting ('boxlib', 'Bx'): Both positive and negative values. Min = -7.083595260145452e-09 T, Max = 7.000230393104391e-09 T.\n",
      "yt : [WARNING  ] 2022-05-17 11:18:15,062 Switching to symlog colorbar scaling.\n",
      "yt : [INFO     ] 2022-05-17 11:18:15,822 Saving plot figures/plt084870_Slice_z_By.png\n",
      "yt : [INFO     ] 2022-05-17 11:18:15,961 Saving plot figures/plt084870_Slice_z_Bz.png\n",
      "yt : [INFO     ] 2022-05-17 11:18:16,130 Saving plot figures/plt084870_Slice_z_Bx.png\n",
      "yt : [INFO     ] 2022-05-17 11:18:16,302 Parameters: current_time              = 0.7955793905678825\n",
      "yt : [INFO     ] 2022-05-17 11:18:16,302 Parameters: domain_dimensions         = [16 32  1]\n",
      "yt : [INFO     ] 2022-05-17 11:18:16,303 Parameters: domain_left_edge          = [     0.         -63647.09434703      0.        ]\n",
      "yt : [INFO     ] 2022-05-17 11:18:16,304 Parameters: domain_right_edge         = [6.36470943e+04 6.36470943e+04 1.00000000e+00]\n"
     ]
    },
    {
     "name": "stdout",
     "output_type": "stream",
     "text": [
      "0.7955793905678825 code_time\n"
     ]
    },
    {
     "name": "stderr",
     "output_type": "stream",
     "text": [
      "yt : [INFO     ] 2022-05-17 11:18:17,495 xlim = 0.000000 63647.094347\n",
      "yt : [INFO     ] 2022-05-17 11:18:17,495 ylim = -63647.094347 63647.094347\n",
      "yt : [INFO     ] 2022-05-17 11:18:17,496 xlim = 0.000000 63647.094347\n",
      "yt : [INFO     ] 2022-05-17 11:18:17,496 ylim = -63647.094347 63647.094347\n",
      "yt : [INFO     ] 2022-05-17 11:18:17,497 Making a fixed resolution buffer of (('boxlib', 'Bx')) 800 by 800\n",
      "yt : [INFO     ] 2022-05-17 11:18:17,502 Making a fixed resolution buffer of (('boxlib', 'By')) 800 by 800\n",
      "yt : [INFO     ] 2022-05-17 11:18:17,507 Making a fixed resolution buffer of (('boxlib', 'Bz')) 800 by 800\n",
      "yt : [WARNING  ] 2022-05-17 11:18:17,524 Plotting ('boxlib', 'By'): Both positive and negative values. Min = -1.1126604887206974e-10 T, Max = 1.1127027545276826e-10 T.\n",
      "yt : [WARNING  ] 2022-05-17 11:18:17,525 Switching to symlog colorbar scaling.\n",
      "yt : [WARNING  ] 2022-05-17 11:18:17,595 Plotting ('boxlib', 'Bz'): Both positive and negative values. Min = -2.3775857414496426e-09 T, Max = 1.0301631462787492e-08 T.\n",
      "yt : [WARNING  ] 2022-05-17 11:18:17,595 Switching to symlog colorbar scaling.\n",
      "yt : [WARNING  ] 2022-05-17 11:18:17,676 Plotting ('boxlib', 'Bx'): Both positive and negative values. Min = -7.084394704469989e-09 T, Max = 7.007219764394552e-09 T.\n",
      "yt : [WARNING  ] 2022-05-17 11:18:17,676 Switching to symlog colorbar scaling.\n",
      "yt : [INFO     ] 2022-05-17 11:18:18,430 Saving plot figures/plt084878_Slice_z_By.png\n",
      "yt : [INFO     ] 2022-05-17 11:18:18,570 Saving plot figures/plt084878_Slice_z_Bz.png\n",
      "yt : [INFO     ] 2022-05-17 11:18:18,712 Saving plot figures/plt084878_Slice_z_Bx.png\n"
     ]
    }
   ],
   "source": [
    "fields = [('boxlib','Bx'),('boxlib','By'),('boxlib','Bz')]\n",
    "for ds in ts:\n",
    "    print(ds.current_time)\n",
    "    slc = yt.SlicePlot(ds, \"z\", fields,origin=\"native\") # Create a sliceplot object\n",
    "    for field in fields:\n",
    "       slc.set_unit(field, \"nT\")\n",
    "    # slc.annotate_grids() # Show grids\n",
    "    slc.save('figures/')"
   ]
  },
  {
   "cell_type": "code",
   "execution_count": 8,
   "metadata": {},
   "outputs": [
    {
     "name": "stderr",
     "output_type": "stream",
     "text": [
      "yt : [INFO     ] 2022-05-17 11:29:30,519 Parameters: current_time              = 0.0\n",
      "yt : [INFO     ] 2022-05-17 11:29:30,519 Parameters: domain_dimensions         = [16 32  1]\n",
      "yt : [INFO     ] 2022-05-17 11:29:30,520 Parameters: domain_left_edge          = [     0.         -63647.09434703      0.        ]\n",
      "yt : [INFO     ] 2022-05-17 11:29:30,521 Parameters: domain_right_edge         = [6.36470943e+04 6.36470943e+04 1.00000000e+00]\n"
     ]
    },
    {
     "name": "stdout",
     "output_type": "stream",
     "text": [
      "0.0 code_time\n"
     ]
    },
    {
     "name": "stderr",
     "output_type": "stream",
     "text": [
      "yt : [INFO     ] 2022-05-17 11:29:31,721 xlim = 0.000000 63647.094347\n",
      "yt : [INFO     ] 2022-05-17 11:29:31,722 ylim = -63647.094347 63647.094347\n",
      "yt : [INFO     ] 2022-05-17 11:29:31,722 xlim = 0.000000 63647.094347\n",
      "yt : [INFO     ] 2022-05-17 11:29:31,723 ylim = -63647.094347 63647.094347\n",
      "yt : [INFO     ] 2022-05-17 11:29:31,724 Making a fixed resolution buffer of (('boxlib', 'rho_e-')) 800 by 800\n",
      "yt : [INFO     ] 2022-05-17 11:29:31,729 Making a fixed resolution buffer of (('boxlib', 'rho_p+')) 800 by 800\n",
      "yt : [WARNING  ] 2022-05-17 11:29:31,747 Plotting ('boxlib', 'rho_p+'): Both positive and negative values. Min = 0.0 dimensionless, Max = 5.077887269633025e-13 dimensionless.\n",
      "yt : [WARNING  ] 2022-05-17 11:29:31,747 Switching to symlog colorbar scaling.\n",
      "yt : [WARNING  ] 2022-05-17 11:29:31,850 Plotting ('boxlib', 'rho_e-'): All negative values. Max = 0.0 dimensionless.\n",
      "yt : [WARNING  ] 2022-05-17 11:29:31,851 Switching to symlog colorbar scaling.\n",
      "yt : [INFO     ] 2022-05-17 11:29:32,386 Saving plot figures/plt000000_Slice_z_rho_p+.png\n",
      "yt : [INFO     ] 2022-05-17 11:29:32,526 Saving plot figures/plt000000_Slice_z_rho_e-.png\n",
      "yt : [INFO     ] 2022-05-17 11:29:32,673 xlim = 0.000000 1.000000\n",
      "yt : [INFO     ] 2022-05-17 11:29:32,673 ylim = 0.000000 63647.094347\n",
      "yt : [INFO     ] 2022-05-17 11:29:32,674 xlim = 0.000000 1.000000\n",
      "yt : [INFO     ] 2022-05-17 11:29:32,674 ylim = 0.000000 63647.094347\n",
      "yt : [INFO     ] 2022-05-17 11:29:32,675 Making a fixed resolution buffer of (('boxlib', 'rho_e-')) 800 by 800\n",
      "yt : [INFO     ] 2022-05-17 11:29:32,682 Making a fixed resolution buffer of (('boxlib', 'rho_p+')) 800 by 800\n",
      "yt : [WARNING  ] 2022-05-17 11:29:32,700 Plotting ('boxlib', 'rho_p+'): Both positive and negative values. Min = 0.0 dimensionless, Max = 1.0079609276239724e-12 dimensionless.\n",
      "yt : [WARNING  ] 2022-05-17 11:29:32,700 Switching to symlog colorbar scaling.\n",
      "yt : [WARNING  ] 2022-05-17 11:29:32,797 Plotting ('boxlib', 'rho_e-'): All negative values. Max = 0.0 dimensionless.\n",
      "yt : [WARNING  ] 2022-05-17 11:29:32,797 Switching to symlog colorbar scaling.\n",
      "yt : [INFO     ] 2022-05-17 11:29:33,376 Saving plot figures/plt000000_Slice_y_rho_p+.png\n",
      "yt : [INFO     ] 2022-05-17 11:29:33,489 Saving plot figures/plt000000_Slice_y_rho_e-.png\n",
      "yt : [INFO     ] 2022-05-17 11:29:33,644 Parameters: current_time              = 0.0795504404882038\n",
      "yt : [INFO     ] 2022-05-17 11:29:33,645 Parameters: domain_dimensions         = [16 32  1]\n",
      "yt : [INFO     ] 2022-05-17 11:29:33,646 Parameters: domain_left_edge          = [     0.         -63647.09434703      0.        ]\n",
      "yt : [INFO     ] 2022-05-17 11:29:33,647 Parameters: domain_right_edge         = [6.36470943e+04 6.36470943e+04 1.00000000e+00]\n"
     ]
    },
    {
     "name": "stdout",
     "output_type": "stream",
     "text": [
      "0.0795504404882038 code_time\n"
     ]
    },
    {
     "name": "stderr",
     "output_type": "stream",
     "text": [
      "yt : [INFO     ] 2022-05-17 11:29:34,839 xlim = 0.000000 63647.094347\n",
      "yt : [INFO     ] 2022-05-17 11:29:34,839 ylim = -63647.094347 63647.094347\n",
      "yt : [INFO     ] 2022-05-17 11:29:34,840 xlim = 0.000000 63647.094347\n",
      "yt : [INFO     ] 2022-05-17 11:29:34,840 ylim = -63647.094347 63647.094347\n",
      "yt : [INFO     ] 2022-05-17 11:29:34,841 Making a fixed resolution buffer of (('boxlib', 'rho_e-')) 800 by 800\n",
      "yt : [INFO     ] 2022-05-17 11:29:34,846 Making a fixed resolution buffer of (('boxlib', 'rho_p+')) 800 by 800\n",
      "yt : [WARNING  ] 2022-05-17 11:29:34,922 Plotting ('boxlib', 'rho_e-'): All negative values. Max = -2.796597995899123e-16 dimensionless.\n",
      "yt : [WARNING  ] 2022-05-17 11:29:34,923 Switching to symlog colorbar scaling.\n",
      "yt : [INFO     ] 2022-05-17 11:29:35,458 Saving plot figures/plt008487_Slice_z_rho_p+.png\n",
      "yt : [INFO     ] 2022-05-17 11:29:35,657 Saving plot figures/plt008487_Slice_z_rho_e-.png\n",
      "yt : [INFO     ] 2022-05-17 11:29:35,931 xlim = 0.000000 1.000000\n",
      "yt : [INFO     ] 2022-05-17 11:29:35,932 ylim = 0.000000 63647.094347\n",
      "yt : [INFO     ] 2022-05-17 11:29:35,932 xlim = 0.000000 1.000000\n",
      "yt : [INFO     ] 2022-05-17 11:29:35,933 ylim = 0.000000 63647.094347\n",
      "yt : [INFO     ] 2022-05-17 11:29:35,934 Making a fixed resolution buffer of (('boxlib', 'rho_e-')) 800 by 800\n",
      "yt : [INFO     ] 2022-05-17 11:29:35,940 Making a fixed resolution buffer of (('boxlib', 'rho_p+')) 800 by 800\n",
      "yt : [WARNING  ] 2022-05-17 11:29:36,018 Plotting ('boxlib', 'rho_e-'): All negative values. Max = -1.252189812449546e-15 dimensionless.\n",
      "yt : [WARNING  ] 2022-05-17 11:29:36,018 Switching to symlog colorbar scaling.\n",
      "yt : [INFO     ] 2022-05-17 11:29:36,408 Saving plot figures/plt008487_Slice_y_rho_p+.png\n",
      "yt : [INFO     ] 2022-05-17 11:29:36,561 Saving plot figures/plt008487_Slice_y_rho_e-.png\n",
      "yt : [INFO     ] 2022-05-17 11:29:36,710 Parameters: current_time              = 0.15910088097642067\n",
      "yt : [INFO     ] 2022-05-17 11:29:36,711 Parameters: domain_dimensions         = [16 32  1]\n",
      "yt : [INFO     ] 2022-05-17 11:29:36,711 Parameters: domain_left_edge          = [     0.         -63647.09434703      0.        ]\n",
      "yt : [INFO     ] 2022-05-17 11:29:36,712 Parameters: domain_right_edge         = [6.36470943e+04 6.36470943e+04 1.00000000e+00]\n"
     ]
    },
    {
     "name": "stdout",
     "output_type": "stream",
     "text": [
      "0.15910088097642067 code_time\n"
     ]
    },
    {
     "name": "stderr",
     "output_type": "stream",
     "text": [
      "yt : [INFO     ] 2022-05-17 11:29:37,899 xlim = 0.000000 63647.094347\n",
      "yt : [INFO     ] 2022-05-17 11:29:37,899 ylim = -63647.094347 63647.094347\n",
      "yt : [INFO     ] 2022-05-17 11:29:37,900 xlim = 0.000000 63647.094347\n",
      "yt : [INFO     ] 2022-05-17 11:29:37,900 ylim = -63647.094347 63647.094347\n",
      "yt : [INFO     ] 2022-05-17 11:29:37,901 Making a fixed resolution buffer of (('boxlib', 'rho_e-')) 800 by 800\n",
      "yt : [INFO     ] 2022-05-17 11:29:37,906 Making a fixed resolution buffer of (('boxlib', 'rho_p+')) 800 by 800\n",
      "yt : [WARNING  ] 2022-05-17 11:29:37,981 Plotting ('boxlib', 'rho_e-'): All negative values. Max = 0.0 dimensionless.\n",
      "yt : [WARNING  ] 2022-05-17 11:29:37,982 Switching to symlog colorbar scaling.\n",
      "yt : [INFO     ] 2022-05-17 11:29:38,605 Saving plot figures/plt016974_Slice_z_rho_p+.png\n",
      "yt : [INFO     ] 2022-05-17 11:29:38,807 Saving plot figures/plt016974_Slice_z_rho_e-.png\n",
      "yt : [INFO     ] 2022-05-17 11:29:38,957 xlim = 0.000000 1.000000\n",
      "yt : [INFO     ] 2022-05-17 11:29:38,957 ylim = 0.000000 63647.094347\n",
      "yt : [INFO     ] 2022-05-17 11:29:38,958 xlim = 0.000000 1.000000\n",
      "yt : [INFO     ] 2022-05-17 11:29:38,958 ylim = 0.000000 63647.094347\n",
      "yt : [INFO     ] 2022-05-17 11:29:38,959 Making a fixed resolution buffer of (('boxlib', 'rho_e-')) 800 by 800\n",
      "yt : [INFO     ] 2022-05-17 11:29:38,965 Making a fixed resolution buffer of (('boxlib', 'rho_p+')) 800 by 800\n",
      "yt : [WARNING  ] 2022-05-17 11:29:39,045 Plotting ('boxlib', 'rho_e-'): All negative values. Max = -9.077979295684391e-16 dimensionless.\n",
      "yt : [WARNING  ] 2022-05-17 11:29:39,045 Switching to symlog colorbar scaling.\n",
      "yt : [INFO     ] 2022-05-17 11:29:39,436 Saving plot figures/plt016974_Slice_y_rho_p+.png\n",
      "yt : [INFO     ] 2022-05-17 11:29:39,594 Saving plot figures/plt016974_Slice_y_rho_e-.png\n",
      "yt : [INFO     ] 2022-05-17 11:29:39,741 Parameters: current_time              = 0.23865132146470483\n",
      "yt : [INFO     ] 2022-05-17 11:29:39,742 Parameters: domain_dimensions         = [16 32  1]\n",
      "yt : [INFO     ] 2022-05-17 11:29:39,743 Parameters: domain_left_edge          = [     0.         -63647.09434703      0.        ]\n",
      "yt : [INFO     ] 2022-05-17 11:29:39,743 Parameters: domain_right_edge         = [6.36470943e+04 6.36470943e+04 1.00000000e+00]\n"
     ]
    },
    {
     "name": "stdout",
     "output_type": "stream",
     "text": [
      "0.23865132146470483 code_time\n"
     ]
    },
    {
     "name": "stderr",
     "output_type": "stream",
     "text": [
      "yt : [INFO     ] 2022-05-17 11:29:40,955 xlim = 0.000000 63647.094347\n",
      "yt : [INFO     ] 2022-05-17 11:29:40,955 ylim = -63647.094347 63647.094347\n",
      "yt : [INFO     ] 2022-05-17 11:29:40,956 xlim = 0.000000 63647.094347\n",
      "yt : [INFO     ] 2022-05-17 11:29:40,956 ylim = -63647.094347 63647.094347\n",
      "yt : [INFO     ] 2022-05-17 11:29:40,957 Making a fixed resolution buffer of (('boxlib', 'rho_e-')) 800 by 800\n",
      "yt : [INFO     ] 2022-05-17 11:29:40,963 Making a fixed resolution buffer of (('boxlib', 'rho_p+')) 800 by 800\n",
      "yt : [WARNING  ] 2022-05-17 11:29:41,158 Plotting ('boxlib', 'rho_e-'): All negative values. Max = 0.0 dimensionless.\n",
      "yt : [WARNING  ] 2022-05-17 11:29:41,159 Switching to symlog colorbar scaling.\n",
      "yt : [INFO     ] 2022-05-17 11:29:41,666 Saving plot figures/plt025461_Slice_z_rho_p+.png\n",
      "yt : [INFO     ] 2022-05-17 11:29:41,855 Saving plot figures/plt025461_Slice_z_rho_e-.png\n",
      "yt : [INFO     ] 2022-05-17 11:29:42,005 xlim = 0.000000 1.000000\n",
      "yt : [INFO     ] 2022-05-17 11:29:42,005 ylim = 0.000000 63647.094347\n",
      "yt : [INFO     ] 2022-05-17 11:29:42,006 xlim = 0.000000 1.000000\n",
      "yt : [INFO     ] 2022-05-17 11:29:42,006 ylim = 0.000000 63647.094347\n",
      "yt : [INFO     ] 2022-05-17 11:29:42,007 Making a fixed resolution buffer of (('boxlib', 'rho_e-')) 800 by 800\n",
      "yt : [INFO     ] 2022-05-17 11:29:42,014 Making a fixed resolution buffer of (('boxlib', 'rho_p+')) 800 by 800\n",
      "yt : [WARNING  ] 2022-05-17 11:29:42,094 Plotting ('boxlib', 'rho_e-'): All negative values. Max = -5.752010380156854e-16 dimensionless.\n",
      "yt : [WARNING  ] 2022-05-17 11:29:42,095 Switching to symlog colorbar scaling.\n",
      "yt : [INFO     ] 2022-05-17 11:29:42,507 Saving plot figures/plt025461_Slice_y_rho_p+.png\n",
      "yt : [INFO     ] 2022-05-17 11:29:42,785 Saving plot figures/plt025461_Slice_y_rho_e-.png\n",
      "yt : [INFO     ] 2022-05-17 11:29:42,935 Parameters: current_time              = 0.31820176195278704\n",
      "yt : [INFO     ] 2022-05-17 11:29:42,936 Parameters: domain_dimensions         = [16 32  1]\n",
      "yt : [INFO     ] 2022-05-17 11:29:42,936 Parameters: domain_left_edge          = [     0.         -63647.09434703      0.        ]\n",
      "yt : [INFO     ] 2022-05-17 11:29:42,937 Parameters: domain_right_edge         = [6.36470943e+04 6.36470943e+04 1.00000000e+00]\n"
     ]
    },
    {
     "name": "stdout",
     "output_type": "stream",
     "text": [
      "0.31820176195278704 code_time\n"
     ]
    },
    {
     "name": "stderr",
     "output_type": "stream",
     "text": [
      "yt : [INFO     ] 2022-05-17 11:29:44,112 xlim = 0.000000 63647.094347\n",
      "yt : [INFO     ] 2022-05-17 11:29:44,113 ylim = -63647.094347 63647.094347\n",
      "yt : [INFO     ] 2022-05-17 11:29:44,113 xlim = 0.000000 63647.094347\n",
      "yt : [INFO     ] 2022-05-17 11:29:44,114 ylim = -63647.094347 63647.094347\n",
      "yt : [INFO     ] 2022-05-17 11:29:44,115 Making a fixed resolution buffer of (('boxlib', 'rho_e-')) 800 by 800\n",
      "yt : [INFO     ] 2022-05-17 11:29:44,120 Making a fixed resolution buffer of (('boxlib', 'rho_p+')) 800 by 800\n",
      "yt : [WARNING  ] 2022-05-17 11:29:44,195 Plotting ('boxlib', 'rho_e-'): All negative values. Max = 0.0 dimensionless.\n",
      "yt : [WARNING  ] 2022-05-17 11:29:44,196 Switching to symlog colorbar scaling.\n",
      "yt : [INFO     ] 2022-05-17 11:29:44,698 Saving plot figures/plt033948_Slice_z_rho_p+.png\n",
      "yt : [INFO     ] 2022-05-17 11:29:44,881 Saving plot figures/plt033948_Slice_z_rho_e-.png\n",
      "yt : [INFO     ] 2022-05-17 11:29:45,025 xlim = 0.000000 1.000000\n",
      "yt : [INFO     ] 2022-05-17 11:29:45,026 ylim = 0.000000 63647.094347\n",
      "yt : [INFO     ] 2022-05-17 11:29:45,026 xlim = 0.000000 1.000000\n",
      "yt : [INFO     ] 2022-05-17 11:29:45,026 ylim = 0.000000 63647.094347\n",
      "yt : [INFO     ] 2022-05-17 11:29:45,028 Making a fixed resolution buffer of (('boxlib', 'rho_e-')) 800 by 800\n",
      "yt : [INFO     ] 2022-05-17 11:29:45,034 Making a fixed resolution buffer of (('boxlib', 'rho_p+')) 800 by 800\n",
      "yt : [WARNING  ] 2022-05-17 11:29:45,110 Plotting ('boxlib', 'rho_e-'): All negative values. Max = -1.1161800725905237e-15 dimensionless.\n",
      "yt : [WARNING  ] 2022-05-17 11:29:45,110 Switching to symlog colorbar scaling.\n",
      "yt : [INFO     ] 2022-05-17 11:29:45,610 Saving plot figures/plt033948_Slice_y_rho_p+.png\n",
      "yt : [INFO     ] 2022-05-17 11:29:45,763 Saving plot figures/plt033948_Slice_y_rho_e-.png\n",
      "yt : [INFO     ] 2022-05-17 11:29:45,911 Parameters: current_time              = 0.39775220244083564\n",
      "yt : [INFO     ] 2022-05-17 11:29:45,912 Parameters: domain_dimensions         = [16 32  1]\n",
      "yt : [INFO     ] 2022-05-17 11:29:45,913 Parameters: domain_left_edge          = [     0.         -63647.09434703      0.        ]\n",
      "yt : [INFO     ] 2022-05-17 11:29:45,914 Parameters: domain_right_edge         = [6.36470943e+04 6.36470943e+04 1.00000000e+00]\n"
     ]
    },
    {
     "name": "stdout",
     "output_type": "stream",
     "text": [
      "0.39775220244083564 code_time\n"
     ]
    },
    {
     "name": "stderr",
     "output_type": "stream",
     "text": [
      "yt : [INFO     ] 2022-05-17 11:29:47,093 xlim = 0.000000 63647.094347\n",
      "yt : [INFO     ] 2022-05-17 11:29:47,094 ylim = -63647.094347 63647.094347\n",
      "yt : [INFO     ] 2022-05-17 11:29:47,094 xlim = 0.000000 63647.094347\n",
      "yt : [INFO     ] 2022-05-17 11:29:47,094 ylim = -63647.094347 63647.094347\n",
      "yt : [INFO     ] 2022-05-17 11:29:47,095 Making a fixed resolution buffer of (('boxlib', 'rho_e-')) 800 by 800\n",
      "yt : [INFO     ] 2022-05-17 11:29:47,101 Making a fixed resolution buffer of (('boxlib', 'rho_p+')) 800 by 800\n",
      "yt : [WARNING  ] 2022-05-17 11:29:47,175 Plotting ('boxlib', 'rho_e-'): All negative values. Max = 0.0 dimensionless.\n",
      "yt : [WARNING  ] 2022-05-17 11:29:47,175 Switching to symlog colorbar scaling.\n",
      "yt : [INFO     ] 2022-05-17 11:29:47,673 Saving plot figures/plt042435_Slice_z_rho_p+.png\n",
      "yt : [INFO     ] 2022-05-17 11:29:47,856 Saving plot figures/plt042435_Slice_z_rho_e-.png\n",
      "yt : [INFO     ] 2022-05-17 11:29:48,131 xlim = 0.000000 1.000000\n",
      "yt : [INFO     ] 2022-05-17 11:29:48,131 ylim = 0.000000 63647.094347\n",
      "yt : [INFO     ] 2022-05-17 11:29:48,132 xlim = 0.000000 1.000000\n",
      "yt : [INFO     ] 2022-05-17 11:29:48,132 ylim = 0.000000 63647.094347\n",
      "yt : [INFO     ] 2022-05-17 11:29:48,133 Making a fixed resolution buffer of (('boxlib', 'rho_e-')) 800 by 800\n",
      "yt : [INFO     ] 2022-05-17 11:29:48,140 Making a fixed resolution buffer of (('boxlib', 'rho_p+')) 800 by 800\n",
      "yt : [WARNING  ] 2022-05-17 11:29:48,215 Plotting ('boxlib', 'rho_e-'): All negative values. Max = -1.0834843357140205e-15 dimensionless.\n",
      "yt : [WARNING  ] 2022-05-17 11:29:48,215 Switching to symlog colorbar scaling.\n",
      "yt : [INFO     ] 2022-05-17 11:29:48,595 Saving plot figures/plt042435_Slice_y_rho_p+.png\n",
      "yt : [INFO     ] 2022-05-17 11:29:48,745 Saving plot figures/plt042435_Slice_y_rho_e-.png\n",
      "yt : [INFO     ] 2022-05-17 11:29:48,893 Parameters: current_time              = 0.47730264292888425\n",
      "yt : [INFO     ] 2022-05-17 11:29:48,894 Parameters: domain_dimensions         = [16 32  1]\n",
      "yt : [INFO     ] 2022-05-17 11:29:48,895 Parameters: domain_left_edge          = [     0.         -63647.09434703      0.        ]\n",
      "yt : [INFO     ] 2022-05-17 11:29:48,895 Parameters: domain_right_edge         = [6.36470943e+04 6.36470943e+04 1.00000000e+00]\n"
     ]
    },
    {
     "name": "stdout",
     "output_type": "stream",
     "text": [
      "0.47730264292888425 code_time\n"
     ]
    },
    {
     "name": "stderr",
     "output_type": "stream",
     "text": [
      "yt : [INFO     ] 2022-05-17 11:29:50,069 xlim = 0.000000 63647.094347\n",
      "yt : [INFO     ] 2022-05-17 11:29:50,069 ylim = -63647.094347 63647.094347\n",
      "yt : [INFO     ] 2022-05-17 11:29:50,070 xlim = 0.000000 63647.094347\n",
      "yt : [INFO     ] 2022-05-17 11:29:50,070 ylim = -63647.094347 63647.094347\n",
      "yt : [INFO     ] 2022-05-17 11:29:50,071 Making a fixed resolution buffer of (('boxlib', 'rho_e-')) 800 by 800\n",
      "yt : [INFO     ] 2022-05-17 11:29:50,076 Making a fixed resolution buffer of (('boxlib', 'rho_p+')) 800 by 800\n",
      "yt : [WARNING  ] 2022-05-17 11:29:50,151 Plotting ('boxlib', 'rho_e-'): All negative values. Max = 0.0 dimensionless.\n",
      "yt : [WARNING  ] 2022-05-17 11:29:50,152 Switching to symlog colorbar scaling.\n",
      "yt : [INFO     ] 2022-05-17 11:29:50,764 Saving plot figures/plt050922_Slice_z_rho_p+.png\n",
      "yt : [INFO     ] 2022-05-17 11:29:50,947 Saving plot figures/plt050922_Slice_z_rho_e-.png\n",
      "yt : [INFO     ] 2022-05-17 11:29:51,089 xlim = 0.000000 1.000000\n",
      "yt : [INFO     ] 2022-05-17 11:29:51,089 ylim = 0.000000 63647.094347\n",
      "yt : [INFO     ] 2022-05-17 11:29:51,090 xlim = 0.000000 1.000000\n",
      "yt : [INFO     ] 2022-05-17 11:29:51,090 ylim = 0.000000 63647.094347\n",
      "yt : [INFO     ] 2022-05-17 11:29:51,091 Making a fixed resolution buffer of (('boxlib', 'rho_e-')) 800 by 800\n",
      "yt : [INFO     ] 2022-05-17 11:29:51,098 Making a fixed resolution buffer of (('boxlib', 'rho_p+')) 800 by 800\n",
      "yt : [WARNING  ] 2022-05-17 11:29:51,173 Plotting ('boxlib', 'rho_e-'): All negative values. Max = -8.929677929370155e-16 dimensionless.\n",
      "yt : [WARNING  ] 2022-05-17 11:29:51,173 Switching to symlog colorbar scaling.\n",
      "yt : [INFO     ] 2022-05-17 11:29:51,558 Saving plot figures/plt050922_Slice_y_rho_p+.png\n",
      "yt : [INFO     ] 2022-05-17 11:29:51,709 Saving plot figures/plt050922_Slice_y_rho_e-.png\n",
      "yt : [INFO     ] 2022-05-17 11:29:51,851 Parameters: current_time              = 0.5568530834169328\n",
      "yt : [INFO     ] 2022-05-17 11:29:51,851 Parameters: domain_dimensions         = [16 32  1]\n",
      "yt : [INFO     ] 2022-05-17 11:29:51,852 Parameters: domain_left_edge          = [     0.         -63647.09434703      0.        ]\n",
      "yt : [INFO     ] 2022-05-17 11:29:51,853 Parameters: domain_right_edge         = [6.36470943e+04 6.36470943e+04 1.00000000e+00]\n"
     ]
    },
    {
     "name": "stdout",
     "output_type": "stream",
     "text": [
      "0.5568530834169328 code_time\n"
     ]
    },
    {
     "name": "stderr",
     "output_type": "stream",
     "text": [
      "yt : [INFO     ] 2022-05-17 11:29:53,068 xlim = 0.000000 63647.094347\n",
      "yt : [INFO     ] 2022-05-17 11:29:53,069 ylim = -63647.094347 63647.094347\n",
      "yt : [INFO     ] 2022-05-17 11:29:53,069 xlim = 0.000000 63647.094347\n",
      "yt : [INFO     ] 2022-05-17 11:29:53,070 ylim = -63647.094347 63647.094347\n",
      "yt : [INFO     ] 2022-05-17 11:29:53,071 Making a fixed resolution buffer of (('boxlib', 'rho_e-')) 800 by 800\n",
      "yt : [INFO     ] 2022-05-17 11:29:53,076 Making a fixed resolution buffer of (('boxlib', 'rho_p+')) 800 by 800\n",
      "yt : [WARNING  ] 2022-05-17 11:29:53,153 Plotting ('boxlib', 'rho_e-'): All negative values. Max = 0.0 dimensionless.\n",
      "yt : [WARNING  ] 2022-05-17 11:29:53,153 Switching to symlog colorbar scaling.\n",
      "yt : [INFO     ] 2022-05-17 11:29:53,765 Saving plot figures/plt059409_Slice_z_rho_p+.png\n",
      "yt : [INFO     ] 2022-05-17 11:29:53,948 Saving plot figures/plt059409_Slice_z_rho_e-.png\n",
      "yt : [INFO     ] 2022-05-17 11:29:54,092 xlim = 0.000000 1.000000\n",
      "yt : [INFO     ] 2022-05-17 11:29:54,093 ylim = 0.000000 63647.094347\n",
      "yt : [INFO     ] 2022-05-17 11:29:54,093 xlim = 0.000000 1.000000\n",
      "yt : [INFO     ] 2022-05-17 11:29:54,093 ylim = 0.000000 63647.094347\n",
      "yt : [INFO     ] 2022-05-17 11:29:54,094 Making a fixed resolution buffer of (('boxlib', 'rho_e-')) 800 by 800\n",
      "yt : [INFO     ] 2022-05-17 11:29:54,101 Making a fixed resolution buffer of (('boxlib', 'rho_p+')) 800 by 800\n",
      "yt : [WARNING  ] 2022-05-17 11:29:54,176 Plotting ('boxlib', 'rho_e-'): All negative values. Max = -7.511041789082057e-16 dimensionless.\n",
      "yt : [WARNING  ] 2022-05-17 11:29:54,177 Switching to symlog colorbar scaling.\n",
      "yt : [INFO     ] 2022-05-17 11:29:54,562 Saving plot figures/plt059409_Slice_y_rho_p+.png\n",
      "yt : [INFO     ] 2022-05-17 11:29:54,712 Saving plot figures/plt059409_Slice_y_rho_e-.png\n",
      "yt : [INFO     ] 2022-05-17 11:29:54,853 Parameters: current_time              = 0.6364035239049814\n",
      "yt : [INFO     ] 2022-05-17 11:29:54,854 Parameters: domain_dimensions         = [16 32  1]\n",
      "yt : [INFO     ] 2022-05-17 11:29:54,855 Parameters: domain_left_edge          = [     0.         -63647.09434703      0.        ]\n",
      "yt : [INFO     ] 2022-05-17 11:29:54,855 Parameters: domain_right_edge         = [6.36470943e+04 6.36470943e+04 1.00000000e+00]\n"
     ]
    },
    {
     "name": "stdout",
     "output_type": "stream",
     "text": [
      "0.6364035239049814 code_time\n"
     ]
    },
    {
     "name": "stderr",
     "output_type": "stream",
     "text": [
      "yt : [INFO     ] 2022-05-17 11:29:56,046 xlim = 0.000000 63647.094347\n",
      "yt : [INFO     ] 2022-05-17 11:29:56,046 ylim = -63647.094347 63647.094347\n",
      "yt : [INFO     ] 2022-05-17 11:29:56,047 xlim = 0.000000 63647.094347\n",
      "yt : [INFO     ] 2022-05-17 11:29:56,047 ylim = -63647.094347 63647.094347\n",
      "yt : [INFO     ] 2022-05-17 11:29:56,048 Making a fixed resolution buffer of (('boxlib', 'rho_e-')) 800 by 800\n",
      "yt : [INFO     ] 2022-05-17 11:29:56,053 Making a fixed resolution buffer of (('boxlib', 'rho_p+')) 800 by 800\n",
      "yt : [WARNING  ] 2022-05-17 11:29:56,256 Plotting ('boxlib', 'rho_e-'): All negative values. Max = 0.0 dimensionless.\n",
      "yt : [WARNING  ] 2022-05-17 11:29:56,256 Switching to symlog colorbar scaling.\n",
      "yt : [INFO     ] 2022-05-17 11:29:56,751 Saving plot figures/plt067896_Slice_z_rho_p+.png\n",
      "yt : [INFO     ] 2022-05-17 11:29:56,948 Saving plot figures/plt067896_Slice_z_rho_e-.png\n",
      "yt : [INFO     ] 2022-05-17 11:29:57,095 xlim = 0.000000 1.000000\n",
      "yt : [INFO     ] 2022-05-17 11:29:57,095 ylim = 0.000000 63647.094347\n",
      "yt : [INFO     ] 2022-05-17 11:29:57,096 xlim = 0.000000 1.000000\n",
      "yt : [INFO     ] 2022-05-17 11:29:57,096 ylim = 0.000000 63647.094347\n",
      "yt : [INFO     ] 2022-05-17 11:29:57,097 Making a fixed resolution buffer of (('boxlib', 'rho_e-')) 800 by 800\n",
      "yt : [INFO     ] 2022-05-17 11:29:57,104 Making a fixed resolution buffer of (('boxlib', 'rho_p+')) 800 by 800\n",
      "yt : [WARNING  ] 2022-05-17 11:29:57,180 Plotting ('boxlib', 'rho_e-'): All negative values. Max = -7.939961022301971e-16 dimensionless.\n",
      "yt : [WARNING  ] 2022-05-17 11:29:57,180 Switching to symlog colorbar scaling.\n",
      "yt : [INFO     ] 2022-05-17 11:29:57,564 Saving plot figures/plt067896_Slice_y_rho_p+.png\n",
      "yt : [INFO     ] 2022-05-17 11:29:57,837 Saving plot figures/plt067896_Slice_y_rho_e-.png\n",
      "yt : [INFO     ] 2022-05-17 11:29:57,981 Parameters: current_time              = 0.71595396439303\n",
      "yt : [INFO     ] 2022-05-17 11:29:57,982 Parameters: domain_dimensions         = [16 32  1]\n",
      "yt : [INFO     ] 2022-05-17 11:29:57,982 Parameters: domain_left_edge          = [     0.         -63647.09434703      0.        ]\n",
      "yt : [INFO     ] 2022-05-17 11:29:57,983 Parameters: domain_right_edge         = [6.36470943e+04 6.36470943e+04 1.00000000e+00]\n"
     ]
    },
    {
     "name": "stdout",
     "output_type": "stream",
     "text": [
      "0.71595396439303 code_time\n"
     ]
    },
    {
     "name": "stderr",
     "output_type": "stream",
     "text": [
      "yt : [INFO     ] 2022-05-17 11:29:59,173 xlim = 0.000000 63647.094347\n",
      "yt : [INFO     ] 2022-05-17 11:29:59,174 ylim = -63647.094347 63647.094347\n",
      "yt : [INFO     ] 2022-05-17 11:29:59,174 xlim = 0.000000 63647.094347\n",
      "yt : [INFO     ] 2022-05-17 11:29:59,175 ylim = -63647.094347 63647.094347\n",
      "yt : [INFO     ] 2022-05-17 11:29:59,176 Making a fixed resolution buffer of (('boxlib', 'rho_e-')) 800 by 800\n",
      "yt : [INFO     ] 2022-05-17 11:29:59,182 Making a fixed resolution buffer of (('boxlib', 'rho_p+')) 800 by 800\n",
      "yt : [WARNING  ] 2022-05-17 11:29:59,256 Plotting ('boxlib', 'rho_e-'): All negative values. Max = 0.0 dimensionless.\n",
      "yt : [WARNING  ] 2022-05-17 11:29:59,256 Switching to symlog colorbar scaling.\n",
      "yt : [INFO     ] 2022-05-17 11:29:59,753 Saving plot figures/plt076383_Slice_z_rho_p+.png\n",
      "yt : [INFO     ] 2022-05-17 11:29:59,954 Saving plot figures/plt076383_Slice_z_rho_e-.png\n",
      "yt : [INFO     ] 2022-05-17 11:30:00,098 xlim = 0.000000 1.000000\n",
      "yt : [INFO     ] 2022-05-17 11:30:00,099 ylim = 0.000000 63647.094347\n",
      "yt : [INFO     ] 2022-05-17 11:30:00,099 xlim = 0.000000 1.000000\n",
      "yt : [INFO     ] 2022-05-17 11:30:00,100 ylim = 0.000000 63647.094347\n",
      "yt : [INFO     ] 2022-05-17 11:30:00,101 Making a fixed resolution buffer of (('boxlib', 'rho_e-')) 800 by 800\n",
      "yt : [INFO     ] 2022-05-17 11:30:00,107 Making a fixed resolution buffer of (('boxlib', 'rho_p+')) 800 by 800\n",
      "yt : [WARNING  ] 2022-05-17 11:30:00,187 Plotting ('boxlib', 'rho_e-'): All negative values. Max = -1.5264461464956733e-15 dimensionless.\n",
      "yt : [WARNING  ] 2022-05-17 11:30:00,187 Switching to symlog colorbar scaling.\n",
      "yt : [INFO     ] 2022-05-17 11:30:00,689 Saving plot figures/plt076383_Slice_y_rho_p+.png\n",
      "yt : [INFO     ] 2022-05-17 11:30:00,841 Saving plot figures/plt076383_Slice_y_rho_e-.png\n",
      "yt : [INFO     ] 2022-05-17 11:30:00,978 Parameters: current_time              = 0.7955044048810787\n",
      "yt : [INFO     ] 2022-05-17 11:30:00,979 Parameters: domain_dimensions         = [16 32  1]\n",
      "yt : [INFO     ] 2022-05-17 11:30:00,979 Parameters: domain_left_edge          = [     0.         -63647.09434703      0.        ]\n",
      "yt : [INFO     ] 2022-05-17 11:30:00,980 Parameters: domain_right_edge         = [6.36470943e+04 6.36470943e+04 1.00000000e+00]\n"
     ]
    },
    {
     "name": "stdout",
     "output_type": "stream",
     "text": [
      "0.7955044048810787 code_time\n"
     ]
    },
    {
     "name": "stderr",
     "output_type": "stream",
     "text": [
      "yt : [INFO     ] 2022-05-17 11:30:02,177 xlim = 0.000000 63647.094347\n",
      "yt : [INFO     ] 2022-05-17 11:30:02,178 ylim = -63647.094347 63647.094347\n",
      "yt : [INFO     ] 2022-05-17 11:30:02,179 xlim = 0.000000 63647.094347\n",
      "yt : [INFO     ] 2022-05-17 11:30:02,179 ylim = -63647.094347 63647.094347\n",
      "yt : [INFO     ] 2022-05-17 11:30:02,180 Making a fixed resolution buffer of (('boxlib', 'rho_e-')) 800 by 800\n",
      "yt : [INFO     ] 2022-05-17 11:30:02,186 Making a fixed resolution buffer of (('boxlib', 'rho_p+')) 800 by 800\n",
      "yt : [WARNING  ] 2022-05-17 11:30:02,263 Plotting ('boxlib', 'rho_e-'): All negative values. Max = 0.0 dimensionless.\n",
      "yt : [WARNING  ] 2022-05-17 11:30:02,263 Switching to symlog colorbar scaling.\n",
      "yt : [INFO     ] 2022-05-17 11:30:02,766 Saving plot figures/plt084870_Slice_z_rho_p+.png\n",
      "yt : [INFO     ] 2022-05-17 11:30:03,074 Saving plot figures/plt084870_Slice_z_rho_e-.png\n",
      "yt : [INFO     ] 2022-05-17 11:30:03,219 xlim = 0.000000 1.000000\n",
      "yt : [INFO     ] 2022-05-17 11:30:03,219 ylim = 0.000000 63647.094347\n",
      "yt : [INFO     ] 2022-05-17 11:30:03,220 xlim = 0.000000 1.000000\n",
      "yt : [INFO     ] 2022-05-17 11:30:03,220 ylim = 0.000000 63647.094347\n",
      "yt : [INFO     ] 2022-05-17 11:30:03,221 Making a fixed resolution buffer of (('boxlib', 'rho_e-')) 800 by 800\n",
      "yt : [INFO     ] 2022-05-17 11:30:03,227 Making a fixed resolution buffer of (('boxlib', 'rho_p+')) 800 by 800\n",
      "yt : [WARNING  ] 2022-05-17 11:30:03,302 Plotting ('boxlib', 'rho_e-'): All negative values. Max = -9.8928703724585e-16 dimensionless.\n",
      "yt : [WARNING  ] 2022-05-17 11:30:03,302 Switching to symlog colorbar scaling.\n",
      "yt : [INFO     ] 2022-05-17 11:30:03,680 Saving plot figures/plt084870_Slice_y_rho_p+.png\n",
      "yt : [INFO     ] 2022-05-17 11:30:03,830 Saving plot figures/plt084870_Slice_y_rho_e-.png\n",
      "yt : [INFO     ] 2022-05-17 11:30:03,971 Parameters: current_time              = 0.7955793905678825\n",
      "yt : [INFO     ] 2022-05-17 11:30:03,972 Parameters: domain_dimensions         = [16 32  1]\n",
      "yt : [INFO     ] 2022-05-17 11:30:03,973 Parameters: domain_left_edge          = [     0.         -63647.09434703      0.        ]\n",
      "yt : [INFO     ] 2022-05-17 11:30:03,973 Parameters: domain_right_edge         = [6.36470943e+04 6.36470943e+04 1.00000000e+00]\n"
     ]
    },
    {
     "name": "stdout",
     "output_type": "stream",
     "text": [
      "0.7955793905678825 code_time\n"
     ]
    },
    {
     "name": "stderr",
     "output_type": "stream",
     "text": [
      "yt : [INFO     ] 2022-05-17 11:30:05,168 xlim = 0.000000 63647.094347\n",
      "yt : [INFO     ] 2022-05-17 11:30:05,168 ylim = -63647.094347 63647.094347\n",
      "yt : [INFO     ] 2022-05-17 11:30:05,169 xlim = 0.000000 63647.094347\n",
      "yt : [INFO     ] 2022-05-17 11:30:05,169 ylim = -63647.094347 63647.094347\n",
      "yt : [INFO     ] 2022-05-17 11:30:05,170 Making a fixed resolution buffer of (('boxlib', 'rho_e-')) 800 by 800\n",
      "yt : [INFO     ] 2022-05-17 11:30:05,175 Making a fixed resolution buffer of (('boxlib', 'rho_p+')) 800 by 800\n",
      "yt : [WARNING  ] 2022-05-17 11:30:05,251 Plotting ('boxlib', 'rho_e-'): All negative values. Max = 0.0 dimensionless.\n",
      "yt : [WARNING  ] 2022-05-17 11:30:05,251 Switching to symlog colorbar scaling.\n",
      "yt : [INFO     ] 2022-05-17 11:30:05,868 Saving plot figures/plt084878_Slice_z_rho_p+.png\n",
      "yt : [INFO     ] 2022-05-17 11:30:06,052 Saving plot figures/plt084878_Slice_z_rho_e-.png\n",
      "yt : [INFO     ] 2022-05-17 11:30:06,193 xlim = 0.000000 1.000000\n",
      "yt : [INFO     ] 2022-05-17 11:30:06,193 ylim = 0.000000 63647.094347\n",
      "yt : [INFO     ] 2022-05-17 11:30:06,194 xlim = 0.000000 1.000000\n",
      "yt : [INFO     ] 2022-05-17 11:30:06,194 ylim = 0.000000 63647.094347\n",
      "yt : [INFO     ] 2022-05-17 11:30:06,195 Making a fixed resolution buffer of (('boxlib', 'rho_e-')) 800 by 800\n",
      "yt : [INFO     ] 2022-05-17 11:30:06,202 Making a fixed resolution buffer of (('boxlib', 'rho_p+')) 800 by 800\n",
      "yt : [WARNING  ] 2022-05-17 11:30:06,278 Plotting ('boxlib', 'rho_e-'): All negative values. Max = -9.884677191313003e-16 dimensionless.\n",
      "yt : [WARNING  ] 2022-05-17 11:30:06,278 Switching to symlog colorbar scaling.\n",
      "yt : [INFO     ] 2022-05-17 11:30:06,655 Saving plot figures/plt084878_Slice_y_rho_p+.png\n",
      "yt : [INFO     ] 2022-05-17 11:30:06,805 Saving plot figures/plt084878_Slice_y_rho_e-.png\n"
     ]
    }
   ],
   "source": [
    "field = [('boxlib','rho_e-'),('boxlib','rho_p+')]\n",
    "for ds in ts:\n",
    "    print(ds.current_time)\n",
    "    slc = yt.SlicePlot(ds, \"z\", field,origin=\"native\")\n",
    "    slc.save('figures/')\n",
    "    slc = yt.SlicePlot(ds, \"y\", field,origin=\"native\")\n",
    "    slc.save('figures/')"
   ]
  },
  {
   "cell_type": "code",
   "execution_count": 7,
   "metadata": {},
   "outputs": [],
   "source": [
    "# for ds in ts:\n",
    "#     p=  yt.ParticlePhasePlot( ds.all_data(), ('e-','particle_position_x'), ('e-','particle_position_y'), ('e-','particle_weight'))\n",
    "#     p.save('figures/')"
   ]
  }
 ],
 "metadata": {
  "interpreter": {
   "hash": "671b0050274f182f665a141985bb36225234931a2a799c68e4f77f49e77a2aa4"
  },
  "kernelspec": {
   "display_name": "Python 3.10.4 ('pic')",
   "language": "python",
   "name": "python3"
  },
  "language_info": {
   "codemirror_mode": {
    "name": "ipython",
    "version": 3
   },
   "file_extension": ".py",
   "mimetype": "text/x-python",
   "name": "python",
   "nbconvert_exporter": "python",
   "pygments_lexer": "ipython3",
   "version": "3.10.4"
  },
  "orig_nbformat": 4
 },
 "nbformat": 4,
 "nbformat_minor": 2
}
